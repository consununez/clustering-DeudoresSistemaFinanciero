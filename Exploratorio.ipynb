{
  "nbformat": 4,
  "nbformat_minor": 0,
  "metadata": {
    "colab": {
      "name": "TP4-G10_02_Exploratorio.ipynb",
      "provenance": [],
      "collapsed_sections": []
    },
    "kernelspec": {
      "display_name": "Python 3",
      "name": "python3"
    },
    "language_info": {
      "name": "python"
    },
    "accelerator": "GPU"
  },
  "cells": [
    {
      "cell_type": "markdown",
      "metadata": {
        "id": "MeYj4suhwThx"
      },
      "source": [
        "![img](https://drive.google.com/uc?export=view&id=1kgX98Ziw9LzgBCT2BxChttfrTcBltLej)"
      ]
    },
    {
      "cell_type": "markdown",
      "metadata": {
        "id": "zwrKE0ZywS8d"
      },
      "source": [
        "\n",
        "\n",
        "\n",
        "##### **MÓDULO 4: APLICACIONES INFORMÁTICAS**\n",
        "\n",
        "##### **Integrantes:**\n",
        "\n",
        "- Carolina Castelvetri\n",
        "- Consuelo Nuñez\n",
        "- Jorge Sarrouf\n",
        "- Lucas Gette\n",
        "- Martin Boccardo\n",
        "\n",
        "\n",
        "----"
      ]
    },
    {
      "cell_type": "markdown",
      "metadata": {
        "id": "_Pe4MgHWxhJE"
      },
      "source": [
        "## **Objetivo**\n",
        "\n",
        "A partir de la información obtenida de la base de datos **Central de Deudores del BCRA**, nos proponemos analizar si existe diferencias entre el nivel de morosidad entre empresas y personas, distinguiendo a las personas por género (definiendo como mora cuando la situación de la deuda es 3 o más)."
      ]
    },
    {
      "cell_type": "markdown",
      "metadata": {
        "id": "R9XDP8Ea9pEj"
      },
      "source": [
        "## Dataset\n",
        "\n",
        "Para la realización de este trabajo vamos a utilizar un conjunto de datos que componen la Central de Deudores del  Sistema  Financiero, provista por el [BCRA](http://www.bcra.gob.ar/BCRAyVos/Situacion_Crediticia.asp).\n",
        "\n",
        "Los datos corresponden a información consolidada por clave de identificación fiscal (CUIT, CUIL o CDI) respecto de financiaciones otorgadas por entidades financieras, fideicomisos financieros, entidades no financieras emisoras de tarjetas de crédito / compra, otros proveedores no financieros de créditos, sociedades de garantía recíproca y fondos de garantía de carácter público y, además, cheques rechazados.\n",
        "\n",
        "\n",
        "\n",
        "### Variables\n",
        "\n",
        "| Nombre      | Descripción |\n",
        "| ----------- | ----------- |\n",
        "| **codigo_entidad**  | código de la entidad |      \n",
        "| **fecha_informacion**    | año y mes |\n",
        "| **cuit** | clave única de identificación tributaria |\n",
        "| **situacion_deuda**   | 1 y 2 no es mora; 3 o más es mora |\n",
        "| **credito**     | monto adeudado |\n",
        "| **garan_otorgadas**   |  |\n",
        "| **otros_conceptos**  |  |\n",
        "| **garan_pref_auto_liq**   |  |\n",
        "| **garan_pref**    |  |\n",
        "| **c_garan_pref_auto_liq**    |  |\n",
        "| **c_otr_gran_pref**    |  |\n",
        "\n",
        "\n",
        "Nota: Los importes están expresados en miles de pesos con un decimal.\n"
      ]
    },
    {
      "cell_type": "markdown",
      "metadata": {
        "id": "h6WMqK1B-po_"
      },
      "source": [
        "## Parte 2: Análisis exploratorio (EDA)"
      ]
    },
    {
      "cell_type": "code",
      "source": [
        "#Librerías generales\n",
        "import pandas as pd\n",
        "import numpy as np\n",
        "from numpy import mean, std\n",
        "from pandas.api.types import is_numeric_dtype\n",
        "\n",
        "## Herramientas para graficar\n",
        "import seaborn as sns\n",
        "from matplotlib import pyplot as plt\n",
        "import plotly.express as px\n",
        "\n",
        "\n",
        "#Clases y funciones útiles de scikit-learn\n",
        "from sklearn.preprocessing import LabelEncoder\n",
        "\n",
        "import matplotlib.gridspec as gridspec"
      ],
      "metadata": {
        "id": "xKwWpZRRwDRQ"
      },
      "execution_count": null,
      "outputs": []
    },
    {
      "cell_type": "code",
      "metadata": {
        "colab": {
          "base_uri": "https://localhost:8080/",
          "height": 380
        },
        "id": "72Nzpkif_eev",
        "outputId": "7423bf14-1951-48b7-bac4-5e6aaf833404"
      },
      "source": [
        "#Leemos el dataset\n",
        "\n",
        "from google.colab import drive\n",
        "drive.mount('/content/drive') \n",
        "df = pd.read_csv(\"/content/drive/MyDrive/TP4 - Grupo 10/Archivos limpios/bcra_procesado.csv\")\n",
        "df.head(10) "
      ],
      "execution_count": null,
      "outputs": [
        {
          "output_type": "stream",
          "name": "stdout",
          "text": [
            "Drive already mounted at /content/drive; to attempt to forcibly remount, call drive.mount(\"/content/drive\", force_remount=True).\n"
          ]
        },
        {
          "output_type": "execute_result",
          "data": {
            "text/html": [
              "<div>\n",
              "<style scoped>\n",
              "    .dataframe tbody tr th:only-of-type {\n",
              "        vertical-align: middle;\n",
              "    }\n",
              "\n",
              "    .dataframe tbody tr th {\n",
              "        vertical-align: top;\n",
              "    }\n",
              "\n",
              "    .dataframe thead th {\n",
              "        text-align: right;\n",
              "    }\n",
              "</style>\n",
              "<table border=\"1\" class=\"dataframe\">\n",
              "  <thead>\n",
              "    <tr style=\"text-align: right;\">\n",
              "      <th></th>\n",
              "      <th>fecha_informacion</th>\n",
              "      <th>cuit</th>\n",
              "      <th>E1_D</th>\n",
              "      <th>E2_D</th>\n",
              "      <th>E3_D</th>\n",
              "      <th>E4_D</th>\n",
              "      <th>E5_D</th>\n",
              "      <th>E6_D</th>\n",
              "      <th>E1_Ok</th>\n",
              "      <th>E2_Ok</th>\n",
              "      <th>E3_Ok</th>\n",
              "      <th>E4_Ok</th>\n",
              "      <th>E5_Ok</th>\n",
              "      <th>E6_Ok</th>\n",
              "      <th>deuda_total</th>\n",
              "      <th>garantias</th>\n",
              "      <th>mujer</th>\n",
              "      <th>empresa</th>\n",
              "      <th>hombre</th>\n",
              "      <th>default</th>\n",
              "      <th>deuda_default</th>\n",
              "      <th>deuda_ok</th>\n",
              "    </tr>\n",
              "  </thead>\n",
              "  <tbody>\n",
              "    <tr>\n",
              "      <th>0</th>\n",
              "      <td>202108</td>\n",
              "      <td>20000079643</td>\n",
              "      <td>0</td>\n",
              "      <td>0</td>\n",
              "      <td>0</td>\n",
              "      <td>0</td>\n",
              "      <td>0</td>\n",
              "      <td>16</td>\n",
              "      <td>0</td>\n",
              "      <td>0</td>\n",
              "      <td>0</td>\n",
              "      <td>0</td>\n",
              "      <td>0</td>\n",
              "      <td>0</td>\n",
              "      <td>16</td>\n",
              "      <td>0</td>\n",
              "      <td>0</td>\n",
              "      <td>0</td>\n",
              "      <td>1</td>\n",
              "      <td>1</td>\n",
              "      <td>16</td>\n",
              "      <td>0</td>\n",
              "    </tr>\n",
              "    <tr>\n",
              "      <th>1</th>\n",
              "      <td>202108</td>\n",
              "      <td>20000110680</td>\n",
              "      <td>0</td>\n",
              "      <td>0</td>\n",
              "      <td>0</td>\n",
              "      <td>0</td>\n",
              "      <td>0</td>\n",
              "      <td>0</td>\n",
              "      <td>3</td>\n",
              "      <td>0</td>\n",
              "      <td>0</td>\n",
              "      <td>0</td>\n",
              "      <td>0</td>\n",
              "      <td>0</td>\n",
              "      <td>3</td>\n",
              "      <td>0</td>\n",
              "      <td>0</td>\n",
              "      <td>0</td>\n",
              "      <td>1</td>\n",
              "      <td>0</td>\n",
              "      <td>0</td>\n",
              "      <td>3</td>\n",
              "    </tr>\n",
              "    <tr>\n",
              "      <th>2</th>\n",
              "      <td>202108</td>\n",
              "      <td>20000143368</td>\n",
              "      <td>0</td>\n",
              "      <td>0</td>\n",
              "      <td>0</td>\n",
              "      <td>0</td>\n",
              "      <td>0</td>\n",
              "      <td>0</td>\n",
              "      <td>11</td>\n",
              "      <td>0</td>\n",
              "      <td>0</td>\n",
              "      <td>0</td>\n",
              "      <td>0</td>\n",
              "      <td>0</td>\n",
              "      <td>11</td>\n",
              "      <td>0</td>\n",
              "      <td>0</td>\n",
              "      <td>0</td>\n",
              "      <td>1</td>\n",
              "      <td>0</td>\n",
              "      <td>0</td>\n",
              "      <td>11</td>\n",
              "    </tr>\n",
              "    <tr>\n",
              "      <th>3</th>\n",
              "      <td>202108</td>\n",
              "      <td>20000297713</td>\n",
              "      <td>0</td>\n",
              "      <td>0</td>\n",
              "      <td>0</td>\n",
              "      <td>0</td>\n",
              "      <td>0</td>\n",
              "      <td>0</td>\n",
              "      <td>0</td>\n",
              "      <td>0</td>\n",
              "      <td>67</td>\n",
              "      <td>0</td>\n",
              "      <td>0</td>\n",
              "      <td>0</td>\n",
              "      <td>67</td>\n",
              "      <td>0</td>\n",
              "      <td>0</td>\n",
              "      <td>0</td>\n",
              "      <td>1</td>\n",
              "      <td>0</td>\n",
              "      <td>0</td>\n",
              "      <td>67</td>\n",
              "    </tr>\n",
              "    <tr>\n",
              "      <th>4</th>\n",
              "      <td>202108</td>\n",
              "      <td>20000788261</td>\n",
              "      <td>0</td>\n",
              "      <td>0</td>\n",
              "      <td>0</td>\n",
              "      <td>0</td>\n",
              "      <td>0</td>\n",
              "      <td>0</td>\n",
              "      <td>0</td>\n",
              "      <td>0</td>\n",
              "      <td>9</td>\n",
              "      <td>0</td>\n",
              "      <td>0</td>\n",
              "      <td>0</td>\n",
              "      <td>9</td>\n",
              "      <td>0</td>\n",
              "      <td>0</td>\n",
              "      <td>0</td>\n",
              "      <td>1</td>\n",
              "      <td>0</td>\n",
              "      <td>0</td>\n",
              "      <td>9</td>\n",
              "    </tr>\n",
              "    <tr>\n",
              "      <th>5</th>\n",
              "      <td>202108</td>\n",
              "      <td>20001327918</td>\n",
              "      <td>4</td>\n",
              "      <td>0</td>\n",
              "      <td>0</td>\n",
              "      <td>0</td>\n",
              "      <td>0</td>\n",
              "      <td>0</td>\n",
              "      <td>0</td>\n",
              "      <td>0</td>\n",
              "      <td>0</td>\n",
              "      <td>0</td>\n",
              "      <td>0</td>\n",
              "      <td>0</td>\n",
              "      <td>4</td>\n",
              "      <td>0</td>\n",
              "      <td>0</td>\n",
              "      <td>0</td>\n",
              "      <td>1</td>\n",
              "      <td>1</td>\n",
              "      <td>4</td>\n",
              "      <td>0</td>\n",
              "    </tr>\n",
              "    <tr>\n",
              "      <th>6</th>\n",
              "      <td>202108</td>\n",
              "      <td>20001702867</td>\n",
              "      <td>0</td>\n",
              "      <td>0</td>\n",
              "      <td>0</td>\n",
              "      <td>0</td>\n",
              "      <td>0</td>\n",
              "      <td>0</td>\n",
              "      <td>0</td>\n",
              "      <td>12</td>\n",
              "      <td>0</td>\n",
              "      <td>0</td>\n",
              "      <td>0</td>\n",
              "      <td>0</td>\n",
              "      <td>12</td>\n",
              "      <td>0</td>\n",
              "      <td>0</td>\n",
              "      <td>0</td>\n",
              "      <td>1</td>\n",
              "      <td>0</td>\n",
              "      <td>0</td>\n",
              "      <td>12</td>\n",
              "    </tr>\n",
              "    <tr>\n",
              "      <th>7</th>\n",
              "      <td>202108</td>\n",
              "      <td>20001932587</td>\n",
              "      <td>0</td>\n",
              "      <td>0</td>\n",
              "      <td>0</td>\n",
              "      <td>0</td>\n",
              "      <td>0</td>\n",
              "      <td>0</td>\n",
              "      <td>0</td>\n",
              "      <td>0</td>\n",
              "      <td>346</td>\n",
              "      <td>0</td>\n",
              "      <td>0</td>\n",
              "      <td>0</td>\n",
              "      <td>346</td>\n",
              "      <td>0</td>\n",
              "      <td>0</td>\n",
              "      <td>0</td>\n",
              "      <td>1</td>\n",
              "      <td>0</td>\n",
              "      <td>0</td>\n",
              "      <td>346</td>\n",
              "    </tr>\n",
              "    <tr>\n",
              "      <th>8</th>\n",
              "      <td>202108</td>\n",
              "      <td>20002570875</td>\n",
              "      <td>0</td>\n",
              "      <td>0</td>\n",
              "      <td>0</td>\n",
              "      <td>0</td>\n",
              "      <td>0</td>\n",
              "      <td>0</td>\n",
              "      <td>3</td>\n",
              "      <td>0</td>\n",
              "      <td>0</td>\n",
              "      <td>0</td>\n",
              "      <td>0</td>\n",
              "      <td>0</td>\n",
              "      <td>3</td>\n",
              "      <td>0</td>\n",
              "      <td>0</td>\n",
              "      <td>0</td>\n",
              "      <td>1</td>\n",
              "      <td>0</td>\n",
              "      <td>0</td>\n",
              "      <td>3</td>\n",
              "    </tr>\n",
              "    <tr>\n",
              "      <th>9</th>\n",
              "      <td>202108</td>\n",
              "      <td>20002587921</td>\n",
              "      <td>0</td>\n",
              "      <td>0</td>\n",
              "      <td>0</td>\n",
              "      <td>0</td>\n",
              "      <td>0</td>\n",
              "      <td>0</td>\n",
              "      <td>0</td>\n",
              "      <td>0</td>\n",
              "      <td>6</td>\n",
              "      <td>0</td>\n",
              "      <td>0</td>\n",
              "      <td>0</td>\n",
              "      <td>6</td>\n",
              "      <td>0</td>\n",
              "      <td>0</td>\n",
              "      <td>0</td>\n",
              "      <td>1</td>\n",
              "      <td>0</td>\n",
              "      <td>0</td>\n",
              "      <td>6</td>\n",
              "    </tr>\n",
              "  </tbody>\n",
              "</table>\n",
              "</div>"
            ],
            "text/plain": [
              "   fecha_informacion         cuit  E1_D  ...  default  deuda_default  deuda_ok\n",
              "0             202108  20000079643     0  ...        1             16         0\n",
              "1             202108  20000110680     0  ...        0              0         3\n",
              "2             202108  20000143368     0  ...        0              0        11\n",
              "3             202108  20000297713     0  ...        0              0        67\n",
              "4             202108  20000788261     0  ...        0              0         9\n",
              "5             202108  20001327918     4  ...        1              4         0\n",
              "6             202108  20001702867     0  ...        0              0        12\n",
              "7             202108  20001932587     0  ...        0              0       346\n",
              "8             202108  20002570875     0  ...        0              0         3\n",
              "9             202108  20002587921     0  ...        0              0         6\n",
              "\n",
              "[10 rows x 22 columns]"
            ]
          },
          "metadata": {},
          "execution_count": 3
        }
      ]
    },
    {
      "cell_type": "code",
      "source": [
        "#Detección de las variables con datos faltantes\n",
        "missing_values_count = df.isna().sum()\n",
        "missing_values_count "
      ],
      "metadata": {
        "colab": {
          "base_uri": "https://localhost:8080/"
        },
        "id": "UfylBfecwavr",
        "outputId": "d7da8a79-8821-41e8-82a2-108522ea3660"
      },
      "execution_count": null,
      "outputs": [
        {
          "output_type": "execute_result",
          "data": {
            "text/plain": [
              "fecha_informacion    0\n",
              "cuit                 0\n",
              "E1_D                 0\n",
              "E2_D                 0\n",
              "E3_D                 0\n",
              "E4_D                 0\n",
              "E5_D                 0\n",
              "E6_D                 0\n",
              "E1_Ok                0\n",
              "E2_Ok                0\n",
              "E3_Ok                0\n",
              "E4_Ok                0\n",
              "E5_Ok                0\n",
              "E6_Ok                0\n",
              "deuda_total          0\n",
              "garantias            0\n",
              "mujer                0\n",
              "empresa              0\n",
              "hombre               0\n",
              "default              0\n",
              "deuda_default        0\n",
              "deuda_ok             0\n",
              "dtype: int64"
            ]
          },
          "metadata": {},
          "execution_count": 4
        }
      ]
    },
    {
      "cell_type": "code",
      "source": [
        "df.shape"
      ],
      "metadata": {
        "colab": {
          "base_uri": "https://localhost:8080/"
        },
        "id": "a7vP-6rVt3bw",
        "outputId": "a3780f8c-33c1-4533-fe91-d3bfc5c28b6e"
      },
      "execution_count": null,
      "outputs": [
        {
          "output_type": "execute_result",
          "data": {
            "text/plain": [
              "(3000000, 22)"
            ]
          },
          "metadata": {},
          "execution_count": 5
        }
      ]
    },
    {
      "cell_type": "code",
      "source": [
        "df.nunique()"
      ],
      "metadata": {
        "colab": {
          "base_uri": "https://localhost:8080/"
        },
        "id": "Bbn9cnFstQcs",
        "outputId": "89e8ade9-c0be-4ffb-f506-eaa931ea9a12"
      },
      "execution_count": null,
      "outputs": [
        {
          "output_type": "execute_result",
          "data": {
            "text/plain": [
              "fecha_informacion          1\n",
              "cuit                 3000000\n",
              "E1_D                    2828\n",
              "E2_D                     779\n",
              "E3_D                     487\n",
              "E4_D                     420\n",
              "E5_D                     240\n",
              "E6_D                     738\n",
              "E1_Ok                  12754\n",
              "E2_Ok                   1718\n",
              "E3_Ok                   1249\n",
              "E4_Ok                   1910\n",
              "E5_Ok                    716\n",
              "E6_Ok                   1452\n",
              "deuda_total            13321\n",
              "garantias                  2\n",
              "mujer                      2\n",
              "empresa                    2\n",
              "hombre                     2\n",
              "default                   21\n",
              "deuda_default           4109\n",
              "deuda_ok               12788\n",
              "dtype: int64"
            ]
          },
          "metadata": {},
          "execution_count": 6
        }
      ]
    },
    {
      "cell_type": "markdown",
      "source": [
        "Tras el preprocesamiento, nuestro dataset cuenta 3 millones de observaciones, cada una de las cuales corresponde a un CUIT distinto.\n",
        "\n",
        "\n",
        "\n",
        "Posee 22 columnas:\n",
        "\n",
        "\n",
        "* Fecha_información: indica la fecha a la cual hacen referencia los datos. No es una variable relevante para nuestro modelo ya que tomamos únicamente datos de 08.2021, por lo que posteriormente será eliminada.\n",
        "* CUIT: Clave Única de Identificación Tributaria.\n",
        "* E1_D a E6_D: Indica el monto de deuda en default, para cada tipo de entidad.\n",
        "* E1_Ok a E6_Ok: Indica el monto de deuda que no se encuentra en default, para cada tipo de entidad.\n",
        "* deuda_total: corresponde a la suma de la deuda con y sin default.\n",
        "* Garantías: Variable dicotómica que indica si posee deudas con garantías (1) o sin garantías (0).\n",
        "* Mujer: Variable dicotómica que indica si el cuit corresponde a una persona física mujer (1) o no (0)\n",
        "* Empresa: Variable dicotómica que indica si el cuit corresponde a una empresa (1) o no (0)\n",
        "* Hombre: Variable dicotómica que indica si el cuit corresponde a una persona física hombre (1) o no (0)\n",
        "* default: Indica la cantidad de deudas defaulteadas que posee el cuit observado.\n",
        "* deuda_default: importe total de deuda defaulteada.\n",
        "* deuda_ok: importe total de deuda sin defaultear.\n",
        "\n",
        "\n",
        "\n"
      ],
      "metadata": {
        "id": "WnkprzIdp0sj"
      }
    },
    {
      "cell_type": "code",
      "source": [
        "df.describe().round(2)"
      ],
      "metadata": {
        "colab": {
          "base_uri": "https://localhost:8080/",
          "height": 320
        },
        "id": "2M-xz-H-udZ7",
        "outputId": "cd2f91de-5293-4e7d-da98-8cb571beaf0f"
      },
      "execution_count": null,
      "outputs": [
        {
          "output_type": "execute_result",
          "data": {
            "text/html": [
              "<div>\n",
              "<style scoped>\n",
              "    .dataframe tbody tr th:only-of-type {\n",
              "        vertical-align: middle;\n",
              "    }\n",
              "\n",
              "    .dataframe tbody tr th {\n",
              "        vertical-align: top;\n",
              "    }\n",
              "\n",
              "    .dataframe thead th {\n",
              "        text-align: right;\n",
              "    }\n",
              "</style>\n",
              "<table border=\"1\" class=\"dataframe\">\n",
              "  <thead>\n",
              "    <tr style=\"text-align: right;\">\n",
              "      <th></th>\n",
              "      <th>fecha_informacion</th>\n",
              "      <th>cuit</th>\n",
              "      <th>E1_D</th>\n",
              "      <th>E2_D</th>\n",
              "      <th>E3_D</th>\n",
              "      <th>E4_D</th>\n",
              "      <th>E5_D</th>\n",
              "      <th>E6_D</th>\n",
              "      <th>E1_Ok</th>\n",
              "      <th>E2_Ok</th>\n",
              "      <th>E3_Ok</th>\n",
              "      <th>E4_Ok</th>\n",
              "      <th>E5_Ok</th>\n",
              "      <th>E6_Ok</th>\n",
              "      <th>deuda_total</th>\n",
              "      <th>garantias</th>\n",
              "      <th>mujer</th>\n",
              "      <th>empresa</th>\n",
              "      <th>hombre</th>\n",
              "      <th>default</th>\n",
              "      <th>deuda_default</th>\n",
              "      <th>deuda_ok</th>\n",
              "    </tr>\n",
              "  </thead>\n",
              "  <tbody>\n",
              "    <tr>\n",
              "      <th>count</th>\n",
              "      <td>3000000.0</td>\n",
              "      <td>3.000000e+06</td>\n",
              "      <td>3000000.00</td>\n",
              "      <td>3000000.00</td>\n",
              "      <td>3000000.00</td>\n",
              "      <td>3000000.00</td>\n",
              "      <td>3000000.00</td>\n",
              "      <td>3000000.00</td>\n",
              "      <td>3000000.00</td>\n",
              "      <td>3000000.00</td>\n",
              "      <td>3000000.00</td>\n",
              "      <td>3000000.00</td>\n",
              "      <td>3000000.00</td>\n",
              "      <td>3000000.00</td>\n",
              "      <td>3000000.00</td>\n",
              "      <td>3000000.00</td>\n",
              "      <td>3000000.00</td>\n",
              "      <td>3000000.00</td>\n",
              "      <td>3000000.0</td>\n",
              "      <td>3000000.00</td>\n",
              "      <td>3000000.00</td>\n",
              "      <td>3000000.00</td>\n",
              "    </tr>\n",
              "    <tr>\n",
              "      <th>mean</th>\n",
              "      <td>202108.0</td>\n",
              "      <td>2.375685e+10</td>\n",
              "      <td>21.99</td>\n",
              "      <td>1.85</td>\n",
              "      <td>1.90</td>\n",
              "      <td>0.12</td>\n",
              "      <td>0.05</td>\n",
              "      <td>1.62</td>\n",
              "      <td>256.16</td>\n",
              "      <td>4.91</td>\n",
              "      <td>14.80</td>\n",
              "      <td>3.88</td>\n",
              "      <td>0.53</td>\n",
              "      <td>4.55</td>\n",
              "      <td>312.37</td>\n",
              "      <td>0.13</td>\n",
              "      <td>0.48</td>\n",
              "      <td>0.01</td>\n",
              "      <td>0.5</td>\n",
              "      <td>0.32</td>\n",
              "      <td>45.70</td>\n",
              "      <td>266.67</td>\n",
              "    </tr>\n",
              "    <tr>\n",
              "      <th>std</th>\n",
              "      <td>0.0</td>\n",
              "      <td>3.407181e+09</td>\n",
              "      <td>20061.67</td>\n",
              "      <td>53.49</td>\n",
              "      <td>12.33</td>\n",
              "      <td>45.19</td>\n",
              "      <td>2.40</td>\n",
              "      <td>73.56</td>\n",
              "      <td>25563.53</td>\n",
              "      <td>464.12</td>\n",
              "      <td>70.57</td>\n",
              "      <td>389.60</td>\n",
              "      <td>14.80</td>\n",
              "      <td>350.91</td>\n",
              "      <td>32524.78</td>\n",
              "      <td>0.33</td>\n",
              "      <td>0.50</td>\n",
              "      <td>0.11</td>\n",
              "      <td>0.5</td>\n",
              "      <td>0.75</td>\n",
              "      <td>20236.39</td>\n",
              "      <td>25463.20</td>\n",
              "    </tr>\n",
              "    <tr>\n",
              "      <th>min</th>\n",
              "      <td>202108.0</td>\n",
              "      <td>2.000008e+10</td>\n",
              "      <td>0.00</td>\n",
              "      <td>0.00</td>\n",
              "      <td>0.00</td>\n",
              "      <td>0.00</td>\n",
              "      <td>0.00</td>\n",
              "      <td>0.00</td>\n",
              "      <td>0.00</td>\n",
              "      <td>0.00</td>\n",
              "      <td>0.00</td>\n",
              "      <td>0.00</td>\n",
              "      <td>0.00</td>\n",
              "      <td>0.00</td>\n",
              "      <td>1.00</td>\n",
              "      <td>0.00</td>\n",
              "      <td>0.00</td>\n",
              "      <td>0.00</td>\n",
              "      <td>0.0</td>\n",
              "      <td>0.00</td>\n",
              "      <td>0.00</td>\n",
              "      <td>0.00</td>\n",
              "    </tr>\n",
              "    <tr>\n",
              "      <th>25%</th>\n",
              "      <td>202108.0</td>\n",
              "      <td>2.027294e+10</td>\n",
              "      <td>0.00</td>\n",
              "      <td>0.00</td>\n",
              "      <td>0.00</td>\n",
              "      <td>0.00</td>\n",
              "      <td>0.00</td>\n",
              "      <td>0.00</td>\n",
              "      <td>0.00</td>\n",
              "      <td>0.00</td>\n",
              "      <td>0.00</td>\n",
              "      <td>0.00</td>\n",
              "      <td>0.00</td>\n",
              "      <td>0.00</td>\n",
              "      <td>19.00</td>\n",
              "      <td>0.00</td>\n",
              "      <td>0.00</td>\n",
              "      <td>0.00</td>\n",
              "      <td>0.0</td>\n",
              "      <td>0.00</td>\n",
              "      <td>0.00</td>\n",
              "      <td>3.00</td>\n",
              "    </tr>\n",
              "    <tr>\n",
              "      <th>50%</th>\n",
              "      <td>202108.0</td>\n",
              "      <td>2.325357e+10</td>\n",
              "      <td>0.00</td>\n",
              "      <td>0.00</td>\n",
              "      <td>0.00</td>\n",
              "      <td>0.00</td>\n",
              "      <td>0.00</td>\n",
              "      <td>0.00</td>\n",
              "      <td>29.00</td>\n",
              "      <td>0.00</td>\n",
              "      <td>0.00</td>\n",
              "      <td>0.00</td>\n",
              "      <td>0.00</td>\n",
              "      <td>0.00</td>\n",
              "      <td>59.00</td>\n",
              "      <td>0.00</td>\n",
              "      <td>0.00</td>\n",
              "      <td>0.00</td>\n",
              "      <td>0.0</td>\n",
              "      <td>0.00</td>\n",
              "      <td>0.00</td>\n",
              "      <td>41.00</td>\n",
              "    </tr>\n",
              "    <tr>\n",
              "      <th>75%</th>\n",
              "      <td>202108.0</td>\n",
              "      <td>2.722820e+10</td>\n",
              "      <td>0.00</td>\n",
              "      <td>0.00</td>\n",
              "      <td>0.00</td>\n",
              "      <td>0.00</td>\n",
              "      <td>0.00</td>\n",
              "      <td>0.00</td>\n",
              "      <td>110.00</td>\n",
              "      <td>0.00</td>\n",
              "      <td>6.00</td>\n",
              "      <td>0.00</td>\n",
              "      <td>0.00</td>\n",
              "      <td>0.00</td>\n",
              "      <td>151.00</td>\n",
              "      <td>0.00</td>\n",
              "      <td>1.00</td>\n",
              "      <td>0.00</td>\n",
              "      <td>1.0</td>\n",
              "      <td>0.00</td>\n",
              "      <td>0.00</td>\n",
              "      <td>127.00</td>\n",
              "    </tr>\n",
              "    <tr>\n",
              "      <th>max</th>\n",
              "      <td>202108.0</td>\n",
              "      <td>3.468473e+10</td>\n",
              "      <td>34687819.00</td>\n",
              "      <td>48194.00</td>\n",
              "      <td>4263.00</td>\n",
              "      <td>69826.00</td>\n",
              "      <td>1109.00</td>\n",
              "      <td>71810.00</td>\n",
              "      <td>34551405.00</td>\n",
              "      <td>650482.00</td>\n",
              "      <td>46674.00</td>\n",
              "      <td>280226.00</td>\n",
              "      <td>5516.00</td>\n",
              "      <td>374640.00</td>\n",
              "      <td>34687819.00</td>\n",
              "      <td>1.00</td>\n",
              "      <td>1.00</td>\n",
              "      <td>1.00</td>\n",
              "      <td>1.0</td>\n",
              "      <td>27.00</td>\n",
              "      <td>34687819.00</td>\n",
              "      <td>34552258.00</td>\n",
              "    </tr>\n",
              "  </tbody>\n",
              "</table>\n",
              "</div>"
            ],
            "text/plain": [
              "       fecha_informacion          cuit  ...  deuda_default     deuda_ok\n",
              "count          3000000.0  3.000000e+06  ...     3000000.00   3000000.00\n",
              "mean            202108.0  2.375685e+10  ...          45.70       266.67\n",
              "std                  0.0  3.407181e+09  ...       20236.39     25463.20\n",
              "min             202108.0  2.000008e+10  ...           0.00         0.00\n",
              "25%             202108.0  2.027294e+10  ...           0.00         3.00\n",
              "50%             202108.0  2.325357e+10  ...           0.00        41.00\n",
              "75%             202108.0  2.722820e+10  ...           0.00       127.00\n",
              "max             202108.0  3.468473e+10  ...    34687819.00  34552258.00\n",
              "\n",
              "[8 rows x 22 columns]"
            ]
          },
          "metadata": {},
          "execution_count": 7
        }
      ]
    },
    {
      "cell_type": "markdown",
      "source": [
        "**Visualización de la distribución de la deuda según el tipo de entidad**\n",
        "\n",
        "*Como parte del preprocesamiento, se realizó una clasificación de las entidades prestadoras en 6 grupos distintos:*\n",
        "\n",
        "\n",
        "*   **E1:** Bancos tradicionales\n",
        "*   **E2:** Fideicomiso financiero\n",
        "*   **E3:** Consumo/Retail\n",
        "*   **E4:** Concesionarias\n",
        "*   **E5:** Asociaciones sin fines de lucro (mutuales / cooperativas)\n",
        "*   **E6:** Otros/Sin datos\n"
      ],
      "metadata": {
        "id": "HoMGsQhW4L9z"
      }
    },
    {
      "cell_type": "code",
      "source": [
        "fig, (ax1, ax2, ax3, ax4, ax5, ax6) = plt.subplots(1, 6, figsize = (30,5))       \n",
        "fig.suptitle(\"Visualizando la distribucion de la deuda en default por entidad\", fontsize = 18, fontweight = \"bold\", y = 1.08)\n",
        "ax1.boxplot(df['E1_D'])  \n",
        "ax2.boxplot(df['E2_D'])\n",
        "ax3.boxplot(df['E3_D'])\n",
        "ax4.boxplot(df['E4_D'])\n",
        "ax5.boxplot(df['E5_D'])\n",
        "ax6.boxplot(df['E6_D'])\n",
        "ax1.set_xlabel('Banco tradicional', fontsize = 15)\n",
        "ax2.set_xlabel('Fideicomisos', fontsize = 15)\n",
        "ax3.set_xlabel('Consumo/Retail', fontsize = 15)\n",
        "ax4.set_xlabel('Concesionarias', fontsize = 15)\n",
        "ax5.set_xlabel('Mutual', fontsize = 15)\n",
        "ax6.set_xlabel('Sin Dato', fontsize = 15)\n",
        "plt.show()"
      ],
      "metadata": {
        "colab": {
          "base_uri": "https://localhost:8080/",
          "height": 382
        },
        "id": "fo5jQAIpxHbl",
        "outputId": "1f7e9f63-b68b-40d7-eb8e-e4a7012373b3"
      },
      "execution_count": null,
      "outputs": [
        {
          "output_type": "display_data",
          "data": {
            "image/png": "[encoded data removed]",
            "text/plain": [
              "<Figure size 2160x360 with 6 Axes>"
            ]
          },
          "metadata": {
            "needs_background": "light"
          }
        }
      ]
    },
    {
      "cell_type": "code",
      "source": [
        "fig, (ax1, ax2, ax3, ax4, ax5, ax6) = plt.subplots(1, 6, figsize = (30,5))       \n",
        "fig.suptitle(\"Visualizando la distribucion de la deuda en ok por entidad\", fontsize = 18, fontweight = \"bold\", y = 1.08)\n",
        "ax1.boxplot(df['E1_Ok'])  \n",
        "ax2.boxplot(df['E2_Ok'])\n",
        "ax3.boxplot(df['E3_Ok'])\n",
        "ax4.boxplot(df['E4_Ok'])\n",
        "ax5.boxplot(df['E5_Ok'])\n",
        "ax6.boxplot(df['E6_Ok'])\n",
        "ax1.set_xlabel('Banco tradicional', fontsize = 15)\n",
        "ax2.set_xlabel('Fideicomisos', fontsize = 15)\n",
        "ax3.set_xlabel('Consumo/Retail', fontsize = 15)\n",
        "ax4.set_xlabel('Concesionarias', fontsize = 15)\n",
        "ax5.set_xlabel('Mutual', fontsize = 15)\n",
        "ax6.set_xlabel('Sin Dato', fontsize = 15)\n",
        "plt.show()"
      ],
      "metadata": {
        "colab": {
          "base_uri": "https://localhost:8080/",
          "height": 382
        },
        "id": "RvcQv79TxRbu",
        "outputId": "b58ecc61-1a45-4b35-c54d-ce27ebb45e3a"
      },
      "execution_count": null,
      "outputs": [
        {
          "output_type": "display_data",
          "data": {
            "image/png": "[encoded data removed]",
            "text/plain": [
              "<Figure size 2160x360 with 6 Axes>"
            ]
          },
          "metadata": {
            "needs_background": "light"
          }
        }
      ]
    },
    {
      "cell_type": "code",
      "source": [
        "# Graficamos la distribución de la deuda total\n",
        "sns.boxplot(x='deuda_total' , data=df, palette=\"Set3\")"
      ],
      "metadata": {
        "colab": {
          "base_uri": "https://localhost:8080/",
          "height": 297
        },
        "id": "k-CZljRUx1RZ",
        "outputId": "d0d041c2-d952-4e5a-dcaf-3d801eb774a1"
      },
      "execution_count": null,
      "outputs": [
        {
          "output_type": "execute_result",
          "data": {
            "text/plain": [
              "<matplotlib.axes._subplots.AxesSubplot at 0x7ff0edb110d0>"
            ]
          },
          "metadata": {},
          "execution_count": 10
        },
        {
          "output_type": "display_data",
          "data": {
            "image/png": "[encoded data removed]",
            "text/plain": [
              "<Figure size 432x288 with 1 Axes>"
            ]
          },
          "metadata": {
            "needs_background": "light"
          }
        }
      ]
    },
    {
      "cell_type": "code",
      "source": [
        "maximo_deuda_total = df['deuda_total'].max()"
      ],
      "metadata": {
        "id": "K_7RvsMb0aVx"
      },
      "execution_count": null,
      "outputs": []
    },
    {
      "cell_type": "code",
      "source": [
        "df[['cuit','deuda_total']].sort_values(by = 'deuda_total', ascending= False).head()"
      ],
      "metadata": {
        "colab": {
          "base_uri": "https://localhost:8080/",
          "height": 206
        },
        "id": "WnznM-ZK0Q09",
        "outputId": "faa9efaf-60ed-49f2-b6da-4d62bbc7c622"
      },
      "execution_count": null,
      "outputs": [
        {
          "output_type": "execute_result",
          "data": {
            "text/html": [
              "<div>\n",
              "<style scoped>\n",
              "    .dataframe tbody tr th:only-of-type {\n",
              "        vertical-align: middle;\n",
              "    }\n",
              "\n",
              "    .dataframe tbody tr th {\n",
              "        vertical-align: top;\n",
              "    }\n",
              "\n",
              "    .dataframe thead th {\n",
              "        text-align: right;\n",
              "    }\n",
              "</style>\n",
              "<table border=\"1\" class=\"dataframe\">\n",
              "  <thead>\n",
              "    <tr style=\"text-align: right;\">\n",
              "      <th></th>\n",
              "      <th>cuit</th>\n",
              "      <th>deuda_total</th>\n",
              "    </tr>\n",
              "  </thead>\n",
              "  <tbody>\n",
              "    <tr>\n",
              "      <th>2961648</th>\n",
              "      <td>30500959629</td>\n",
              "      <td>34687819</td>\n",
              "    </tr>\n",
              "    <tr>\n",
              "      <th>2963272</th>\n",
              "      <td>30546689979</td>\n",
              "      <td>34552258</td>\n",
              "    </tr>\n",
              "    <tr>\n",
              "      <th>2964321</th>\n",
              "      <td>30588855631</td>\n",
              "      <td>10704946</td>\n",
              "    </tr>\n",
              "    <tr>\n",
              "      <th>2996507</th>\n",
              "      <td>33515950899</td>\n",
              "      <td>10494112</td>\n",
              "    </tr>\n",
              "    <tr>\n",
              "      <th>2962416</th>\n",
              "      <td>30522211563</td>\n",
              "      <td>10293426</td>\n",
              "    </tr>\n",
              "  </tbody>\n",
              "</table>\n",
              "</div>"
            ],
            "text/plain": [
              "                cuit  deuda_total\n",
              "2961648  30500959629     34687819\n",
              "2963272  30546689979     34552258\n",
              "2964321  30588855631     10704946\n",
              "2996507  33515950899     10494112\n",
              "2962416  30522211563     10293426"
            ]
          },
          "metadata": {},
          "execution_count": 12
        }
      ]
    },
    {
      "cell_type": "code",
      "source": [
        "# Graficamos la distribución de la deuda ok\n",
        "sns.boxplot(x='deuda_ok' , data=df, palette=\"Set3\")\n"
      ],
      "metadata": {
        "colab": {
          "base_uri": "https://localhost:8080/",
          "height": 297
        },
        "id": "KPcbo7H3yJvp",
        "outputId": "923630c9-862c-432b-8a9a-73522fec359a"
      },
      "execution_count": null,
      "outputs": [
        {
          "output_type": "execute_result",
          "data": {
            "text/plain": [
              "<matplotlib.axes._subplots.AxesSubplot at 0x7ff0ed1364d0>"
            ]
          },
          "metadata": {},
          "execution_count": 13
        },
        {
          "output_type": "display_data",
          "data": {
            "image/png": "[encoded data removed]",
            "text/plain": [
              "<Figure size 432x288 with 1 Axes>"
            ]
          },
          "metadata": {
            "needs_background": "light"
          }
        }
      ]
    },
    {
      "cell_type": "code",
      "source": [
        "df[['cuit','deuda_ok']].sort_values(by = 'deuda_ok', ascending= False).head()"
      ],
      "metadata": {
        "colab": {
          "base_uri": "https://localhost:8080/",
          "height": 206
        },
        "id": "9GaABCGP1H1m",
        "outputId": "e53647ac-7f4a-48ec-cc42-e8265c81abbd"
      },
      "execution_count": null,
      "outputs": [
        {
          "output_type": "execute_result",
          "data": {
            "text/html": [
              "<div>\n",
              "<style scoped>\n",
              "    .dataframe tbody tr th:only-of-type {\n",
              "        vertical-align: middle;\n",
              "    }\n",
              "\n",
              "    .dataframe tbody tr th {\n",
              "        vertical-align: top;\n",
              "    }\n",
              "\n",
              "    .dataframe thead th {\n",
              "        text-align: right;\n",
              "    }\n",
              "</style>\n",
              "<table border=\"1\" class=\"dataframe\">\n",
              "  <thead>\n",
              "    <tr style=\"text-align: right;\">\n",
              "      <th></th>\n",
              "      <th>cuit</th>\n",
              "      <th>deuda_ok</th>\n",
              "    </tr>\n",
              "  </thead>\n",
              "  <tbody>\n",
              "    <tr>\n",
              "      <th>2963272</th>\n",
              "      <td>30546689979</td>\n",
              "      <td>34552258</td>\n",
              "    </tr>\n",
              "    <tr>\n",
              "      <th>2964321</th>\n",
              "      <td>30588855631</td>\n",
              "      <td>10704946</td>\n",
              "    </tr>\n",
              "    <tr>\n",
              "      <th>2996507</th>\n",
              "      <td>33515950899</td>\n",
              "      <td>10494112</td>\n",
              "    </tr>\n",
              "    <tr>\n",
              "      <th>2962416</th>\n",
              "      <td>30522211563</td>\n",
              "      <td>10293426</td>\n",
              "    </tr>\n",
              "    <tr>\n",
              "      <th>2961645</th>\n",
              "      <td>30500858628</td>\n",
              "      <td>7975899</td>\n",
              "    </tr>\n",
              "  </tbody>\n",
              "</table>\n",
              "</div>"
            ],
            "text/plain": [
              "                cuit  deuda_ok\n",
              "2963272  30546689979  34552258\n",
              "2964321  30588855631  10704946\n",
              "2996507  33515950899  10494112\n",
              "2962416  30522211563  10293426\n",
              "2961645  30500858628   7975899"
            ]
          },
          "metadata": {},
          "execution_count": 14
        }
      ]
    },
    {
      "cell_type": "code",
      "source": [
        "# Graficamos la distribución de la deuda en default\n",
        "sns.boxplot(x='deuda_default' , data=df, palette=\"Set3\")\n"
      ],
      "metadata": {
        "colab": {
          "base_uri": "https://localhost:8080/",
          "height": 297
        },
        "id": "oJW_lrtLywXP",
        "outputId": "363d8343-e5a2-4d1b-e6b5-ea044f320153"
      },
      "execution_count": null,
      "outputs": [
        {
          "output_type": "execute_result",
          "data": {
            "text/plain": [
              "<matplotlib.axes._subplots.AxesSubplot at 0x7ff0ed0b9fd0>"
            ]
          },
          "metadata": {},
          "execution_count": 15
        },
        {
          "output_type": "display_data",
          "data": {
            "image/png": "[encoded data removed]",
            "text/plain": [
              "<Figure size 432x288 with 1 Axes>"
            ]
          },
          "metadata": {
            "needs_background": "light"
          }
        }
      ]
    },
    {
      "cell_type": "code",
      "source": [
        "df[['cuit','deuda_default']].sort_values(by = 'deuda_default', ascending= False).head()"
      ],
      "metadata": {
        "colab": {
          "base_uri": "https://localhost:8080/",
          "height": 206
        },
        "id": "wkQ1q98P1MCL",
        "outputId": "04921489-eda4-4c74-a3d3-245eb64b71c8"
      },
      "execution_count": null,
      "outputs": [
        {
          "output_type": "execute_result",
          "data": {
            "text/html": [
              "<div>\n",
              "<style scoped>\n",
              "    .dataframe tbody tr th:only-of-type {\n",
              "        vertical-align: middle;\n",
              "    }\n",
              "\n",
              "    .dataframe tbody tr th {\n",
              "        vertical-align: top;\n",
              "    }\n",
              "\n",
              "    .dataframe thead th {\n",
              "        text-align: right;\n",
              "    }\n",
              "</style>\n",
              "<table border=\"1\" class=\"dataframe\">\n",
              "  <thead>\n",
              "    <tr style=\"text-align: right;\">\n",
              "      <th></th>\n",
              "      <th>cuit</th>\n",
              "      <th>deuda_default</th>\n",
              "    </tr>\n",
              "  </thead>\n",
              "  <tbody>\n",
              "    <tr>\n",
              "      <th>2961648</th>\n",
              "      <td>30500959629</td>\n",
              "      <td>34687819</td>\n",
              "    </tr>\n",
              "    <tr>\n",
              "      <th>2988214</th>\n",
              "      <td>30715228277</td>\n",
              "      <td>2814165</td>\n",
              "    </tr>\n",
              "    <tr>\n",
              "      <th>2965019</th>\n",
              "      <td>30611995128</td>\n",
              "      <td>2184864</td>\n",
              "    </tr>\n",
              "    <tr>\n",
              "      <th>2968374</th>\n",
              "      <td>30681491380</td>\n",
              "      <td>1659288</td>\n",
              "    </tr>\n",
              "    <tr>\n",
              "      <th>2996585</th>\n",
              "      <td>33537186009</td>\n",
              "      <td>1351774</td>\n",
              "    </tr>\n",
              "  </tbody>\n",
              "</table>\n",
              "</div>"
            ],
            "text/plain": [
              "                cuit  deuda_default\n",
              "2961648  30500959629       34687819\n",
              "2988214  30715228277        2814165\n",
              "2965019  30611995128        2184864\n",
              "2968374  30681491380        1659288\n",
              "2996585  33537186009        1351774"
            ]
          },
          "metadata": {},
          "execution_count": 16
        }
      ]
    },
    {
      "cell_type": "markdown",
      "source": [
        "Comparamos la cantidad de CUITs que se encuentran en situación de default vs aquellos CUITs que no se encuentran en mora."
      ],
      "metadata": {
        "id": "8VsqAwuk2dNN"
      }
    },
    {
      "cell_type": "code",
      "source": [
        "df2 = df.copy()\n",
        "\n",
        "# agregamos una marca simple de default \n",
        "df2['moroso'] = np.where(df['default'] >= 1 , 1,0)\n",
        "\n",
        "#Gráfico de Torta \n",
        "#colores = [\"#F4F1BB\",\"#FFCAAF\"]\n",
        "plot = df2['moroso'].value_counts().plot(kind='pie', autopct='%.2f', \n",
        "                                            figsize=(5, 5),\n",
        "                                            #colors=colores,\n",
        "                                            title='Es moroso?')\n",
        "plt.legend(['No', 'Si'])\n",
        "# plt.show()"
      ],
      "metadata": {
        "colab": {
          "base_uri": "https://localhost:8080/",
          "height": 336
        },
        "id": "Kk2fJU2I2C-s",
        "outputId": "3b46666f-0205-4b77-a79d-d9d760a9a645"
      },
      "execution_count": null,
      "outputs": [
        {
          "output_type": "execute_result",
          "data": {
            "text/plain": [
              "<matplotlib.legend.Legend at 0x7ff0ed299d90>"
            ]
          },
          "metadata": {},
          "execution_count": 17
        },
        {
          "output_type": "display_data",
          "data": {
            "image/png": "[encoded data removed]",
            "text/plain": [
              "<Figure size 360x360 with 1 Axes>"
            ]
          },
          "metadata": {}
        }
      ]
    },
    {
      "cell_type": "markdown",
      "source": [
        "Realizamos un análisis similar al anterior, pero distinguiendo por la cantidad de deudas en default que posee cada persona observada."
      ],
      "metadata": {
        "id": "CTWYQxyc3WzM"
      }
    },
    {
      "cell_type": "code",
      "source": [
        "\n",
        "plot = df['default'].value_counts().plot(kind='bar',\n",
        "                                            title='Cantidad de deudas en default')"
      ],
      "metadata": {
        "colab": {
          "base_uri": "https://localhost:8080/",
          "height": 283
        },
        "id": "Lb1uHTewwLqh",
        "outputId": "e1051cf7-bafa-475b-cb13-be0ab4a89e3f"
      },
      "execution_count": null,
      "outputs": [
        {
          "output_type": "display_data",
          "data": {
            "image/png": "[encoded data removed]",
            "text/plain": [
              "<Figure size 432x288 with 1 Axes>"
            ]
          },
          "metadata": {
            "needs_background": "light"
          }
        }
      ]
    },
    {
      "cell_type": "code",
      "source": [
        "cant_default = df[['cuit','default']].groupby(by='default').count()\n",
        "cant_default['porcentaje'] = (cant_default['cuit'] / 3000000*100).round(2)\n",
        "\n",
        "cant_default.sort_values(by='cuit', ascending=False)"
      ],
      "metadata": {
        "colab": {
          "base_uri": "https://localhost:8080/",
          "height": 738
        },
        "id": "KxMTpu5QyX-M",
        "outputId": "77249f4e-af72-4db3-f2e6-4a2cec0df16c"
      },
      "execution_count": null,
      "outputs": [
        {
          "output_type": "execute_result",
          "data": {
            "text/html": [
              "<div>\n",
              "<style scoped>\n",
              "    .dataframe tbody tr th:only-of-type {\n",
              "        vertical-align: middle;\n",
              "    }\n",
              "\n",
              "    .dataframe tbody tr th {\n",
              "        vertical-align: top;\n",
              "    }\n",
              "\n",
              "    .dataframe thead th {\n",
              "        text-align: right;\n",
              "    }\n",
              "</style>\n",
              "<table border=\"1\" class=\"dataframe\">\n",
              "  <thead>\n",
              "    <tr style=\"text-align: right;\">\n",
              "      <th></th>\n",
              "      <th>cuit</th>\n",
              "      <th>porcentaje</th>\n",
              "    </tr>\n",
              "    <tr>\n",
              "      <th>default</th>\n",
              "      <th></th>\n",
              "      <th></th>\n",
              "    </tr>\n",
              "  </thead>\n",
              "  <tbody>\n",
              "    <tr>\n",
              "      <th>0</th>\n",
              "      <td>2343774</td>\n",
              "      <td>78.13</td>\n",
              "    </tr>\n",
              "    <tr>\n",
              "      <th>1</th>\n",
              "      <td>477618</td>\n",
              "      <td>15.92</td>\n",
              "    </tr>\n",
              "    <tr>\n",
              "      <th>2</th>\n",
              "      <td>105961</td>\n",
              "      <td>3.53</td>\n",
              "    </tr>\n",
              "    <tr>\n",
              "      <th>3</th>\n",
              "      <td>42551</td>\n",
              "      <td>1.42</td>\n",
              "    </tr>\n",
              "    <tr>\n",
              "      <th>4</th>\n",
              "      <td>17414</td>\n",
              "      <td>0.58</td>\n",
              "    </tr>\n",
              "    <tr>\n",
              "      <th>5</th>\n",
              "      <td>7238</td>\n",
              "      <td>0.24</td>\n",
              "    </tr>\n",
              "    <tr>\n",
              "      <th>6</th>\n",
              "      <td>2970</td>\n",
              "      <td>0.10</td>\n",
              "    </tr>\n",
              "    <tr>\n",
              "      <th>7</th>\n",
              "      <td>1339</td>\n",
              "      <td>0.04</td>\n",
              "    </tr>\n",
              "    <tr>\n",
              "      <th>8</th>\n",
              "      <td>592</td>\n",
              "      <td>0.02</td>\n",
              "    </tr>\n",
              "    <tr>\n",
              "      <th>9</th>\n",
              "      <td>279</td>\n",
              "      <td>0.01</td>\n",
              "    </tr>\n",
              "    <tr>\n",
              "      <th>10</th>\n",
              "      <td>127</td>\n",
              "      <td>0.00</td>\n",
              "    </tr>\n",
              "    <tr>\n",
              "      <th>11</th>\n",
              "      <td>59</td>\n",
              "      <td>0.00</td>\n",
              "    </tr>\n",
              "    <tr>\n",
              "      <th>12</th>\n",
              "      <td>36</td>\n",
              "      <td>0.00</td>\n",
              "    </tr>\n",
              "    <tr>\n",
              "      <th>13</th>\n",
              "      <td>20</td>\n",
              "      <td>0.00</td>\n",
              "    </tr>\n",
              "    <tr>\n",
              "      <th>14</th>\n",
              "      <td>10</td>\n",
              "      <td>0.00</td>\n",
              "    </tr>\n",
              "    <tr>\n",
              "      <th>16</th>\n",
              "      <td>4</td>\n",
              "      <td>0.00</td>\n",
              "    </tr>\n",
              "    <tr>\n",
              "      <th>17</th>\n",
              "      <td>3</td>\n",
              "      <td>0.00</td>\n",
              "    </tr>\n",
              "    <tr>\n",
              "      <th>15</th>\n",
              "      <td>2</td>\n",
              "      <td>0.00</td>\n",
              "    </tr>\n",
              "    <tr>\n",
              "      <th>18</th>\n",
              "      <td>1</td>\n",
              "      <td>0.00</td>\n",
              "    </tr>\n",
              "    <tr>\n",
              "      <th>23</th>\n",
              "      <td>1</td>\n",
              "      <td>0.00</td>\n",
              "    </tr>\n",
              "    <tr>\n",
              "      <th>27</th>\n",
              "      <td>1</td>\n",
              "      <td>0.00</td>\n",
              "    </tr>\n",
              "  </tbody>\n",
              "</table>\n",
              "</div>"
            ],
            "text/plain": [
              "            cuit  porcentaje\n",
              "default                     \n",
              "0        2343774       78.13\n",
              "1         477618       15.92\n",
              "2         105961        3.53\n",
              "3          42551        1.42\n",
              "4          17414        0.58\n",
              "5           7238        0.24\n",
              "6           2970        0.10\n",
              "7           1339        0.04\n",
              "8            592        0.02\n",
              "9            279        0.01\n",
              "10           127        0.00\n",
              "11            59        0.00\n",
              "12            36        0.00\n",
              "13            20        0.00\n",
              "14            10        0.00\n",
              "16             4        0.00\n",
              "17             3        0.00\n",
              "15             2        0.00\n",
              "18             1        0.00\n",
              "23             1        0.00\n",
              "27             1        0.00"
            ]
          },
          "metadata": {},
          "execution_count": 19
        }
      ]
    },
    {
      "cell_type": "markdown",
      "source": [
        "La mayor cantidad de CUITs no poseen deudas en default (78% aprox). Un porcentaje menor (16% aprox) posee solo una deuda en default. El 3,53% posee dos deudas en default, y aproximadamente el 2,5% de los deudores restantes poseen 3 deudas o más en default."
      ],
      "metadata": {
        "id": "e3z3RUCtyRHO"
      }
    },
    {
      "cell_type": "code",
      "source": [
        "#Gráfico de barras apiladas default según tipo de persona\n",
        "df2['tipo_persona'] = np.where((df['empresa']==1), 'p_juridica','p_fisica')\n",
        "\n",
        "\n",
        "pd.crosstab(index=df2['tipo_persona'],\n",
        "            columns=df2['moroso']\n",
        "                  ).apply(lambda r: r/r.sum()*100,\n",
        "                          axis=1).plot(kind='bar', stacked=True,figsize=(8,5))\n",
        "plt.title(\"Default según tipo de persona\")\n",
        "plt.xlabel(\"tipo de persona\")\n",
        "plt.ylabel(\"moroso\")\n",
        "plt.legend"
      ],
      "metadata": {
        "colab": {
          "base_uri": "https://localhost:8080/",
          "height": 405
        },
        "id": "mZmFfX_s3wse",
        "outputId": "ae90d9da-393d-4439-82cf-4dc799fbaedd"
      },
      "execution_count": null,
      "outputs": [
        {
          "output_type": "execute_result",
          "data": {
            "text/plain": [
              "<function matplotlib.pyplot.legend>"
            ]
          },
          "metadata": {},
          "execution_count": 20
        },
        {
          "output_type": "display_data",
          "data": {
            "image/png": "[encoded data removed]",
            "text/plain": [
              "<Figure size 576x360 with 1 Axes>"
            ]
          },
          "metadata": {
            "needs_background": "light"
          }
        }
      ]
    },
    {
      "cell_type": "code",
      "source": [
        "df2[['cuit','tipo_persona']].groupby('tipo_persona').count()"
      ],
      "metadata": {
        "colab": {
          "base_uri": "https://localhost:8080/",
          "height": 143
        },
        "id": "EfAE76Tb0geO",
        "outputId": "b8c7d7fe-2f56-49ce-957d-7a510124839e"
      },
      "execution_count": null,
      "outputs": [
        {
          "output_type": "execute_result",
          "data": {
            "text/html": [
              "<div>\n",
              "<style scoped>\n",
              "    .dataframe tbody tr th:only-of-type {\n",
              "        vertical-align: middle;\n",
              "    }\n",
              "\n",
              "    .dataframe tbody tr th {\n",
              "        vertical-align: top;\n",
              "    }\n",
              "\n",
              "    .dataframe thead th {\n",
              "        text-align: right;\n",
              "    }\n",
              "</style>\n",
              "<table border=\"1\" class=\"dataframe\">\n",
              "  <thead>\n",
              "    <tr style=\"text-align: right;\">\n",
              "      <th></th>\n",
              "      <th>cuit</th>\n",
              "    </tr>\n",
              "    <tr>\n",
              "      <th>tipo_persona</th>\n",
              "      <th></th>\n",
              "    </tr>\n",
              "  </thead>\n",
              "  <tbody>\n",
              "    <tr>\n",
              "      <th>p_fisica</th>\n",
              "      <td>2961591</td>\n",
              "    </tr>\n",
              "    <tr>\n",
              "      <th>p_juridica</th>\n",
              "      <td>38409</td>\n",
              "    </tr>\n",
              "  </tbody>\n",
              "</table>\n",
              "</div>"
            ],
            "text/plain": [
              "                 cuit\n",
              "tipo_persona         \n",
              "p_fisica      2961591\n",
              "p_juridica      38409"
            ]
          },
          "metadata": {},
          "execution_count": 20
        }
      ]
    },
    {
      "cell_type": "markdown",
      "source": [
        "De los 3 millones de Cuits observados:\n",
        "* 2.961.591 corresponden a personas físicas\n",
        "* 38.409 corresponden a personas jurídicas"
      ],
      "metadata": {
        "id": "xcY54gvT1Cbb"
      }
    },
    {
      "cell_type": "code",
      "source": [
        "df2['deuda_total'].sum()"
      ],
      "metadata": {
        "colab": {
          "base_uri": "https://localhost:8080/"
        },
        "id": "oabWT2gWbBqV",
        "outputId": "f9143689-88ee-486d-b0ba-925e2325ea94"
      },
      "execution_count": null,
      "outputs": [
        {
          "output_type": "execute_result",
          "data": {
            "text/plain": [
              "937098603"
            ]
          },
          "metadata": {},
          "execution_count": 21
        }
      ]
    },
    {
      "cell_type": "code",
      "source": [
        "deuda_entidades = df2[['deuda_total','tipo_persona']].groupby('tipo_persona', as_index=False).sum()\n",
        "deuda_entidades"
      ],
      "metadata": {
        "colab": {
          "base_uri": "https://localhost:8080/",
          "height": 112
        },
        "id": "7mqeVN3nbJQ-",
        "outputId": "a3a70e69-1c97-4f46-a1a1-cfd5ad96a9ac"
      },
      "execution_count": null,
      "outputs": [
        {
          "output_type": "execute_result",
          "data": {
            "text/html": [
              "<div>\n",
              "<style scoped>\n",
              "    .dataframe tbody tr th:only-of-type {\n",
              "        vertical-align: middle;\n",
              "    }\n",
              "\n",
              "    .dataframe tbody tr th {\n",
              "        vertical-align: top;\n",
              "    }\n",
              "\n",
              "    .dataframe thead th {\n",
              "        text-align: right;\n",
              "    }\n",
              "</style>\n",
              "<table border=\"1\" class=\"dataframe\">\n",
              "  <thead>\n",
              "    <tr style=\"text-align: right;\">\n",
              "      <th></th>\n",
              "      <th>tipo_persona</th>\n",
              "      <th>deuda_total</th>\n",
              "    </tr>\n",
              "  </thead>\n",
              "  <tbody>\n",
              "    <tr>\n",
              "      <th>0</th>\n",
              "      <td>p_fisica</td>\n",
              "      <td>513904058</td>\n",
              "    </tr>\n",
              "    <tr>\n",
              "      <th>1</th>\n",
              "      <td>p_juridica</td>\n",
              "      <td>423194545</td>\n",
              "    </tr>\n",
              "  </tbody>\n",
              "</table>\n",
              "</div>"
            ],
            "text/plain": [
              "  tipo_persona  deuda_total\n",
              "0     p_fisica    513904058\n",
              "1   p_juridica    423194545"
            ]
          },
          "metadata": {},
          "execution_count": 22
        }
      ]
    },
    {
      "cell_type": "code",
      "source": [
        "deuda_juridicas = deuda_entidades[deuda_entidades['tipo_persona' ]=='p_juridica']\n",
        "\n"
      ],
      "metadata": {
        "id": "aFNVmpE0bjPm"
      },
      "execution_count": null,
      "outputs": []
    },
    {
      "cell_type": "code",
      "source": [
        "deuda_fisicas = deuda_entidades[deuda_entidades['tipo_persona' ]=='p_fisica']\n"
      ],
      "metadata": {
        "id": "eBuzsP_WcCGp"
      },
      "execution_count": null,
      "outputs": []
    },
    {
      "cell_type": "code",
      "source": [
        "# Distribucion de monto de credito por tipo de persona\n",
        "sns.boxplot(x='tipo_persona', y='deuda_total', data=df2)"
      ],
      "metadata": {
        "colab": {
          "base_uri": "https://localhost:8080/",
          "height": 310
        },
        "id": "g0x6Q5kEnMHV",
        "outputId": "bb6a8576-a4a5-4969-98ed-6d2804221382"
      },
      "execution_count": null,
      "outputs": [
        {
          "output_type": "execute_result",
          "data": {
            "text/plain": [
              "<matplotlib.axes._subplots.AxesSubplot at 0x7f90a67a3b50>"
            ]
          },
          "metadata": {},
          "execution_count": 25
        },
        {
          "output_type": "display_data",
          "data": {
            "image/png": "[encoded data removed]",
            "text/plain": [
              "<Figure size 432x288 with 1 Axes>"
            ]
          },
          "metadata": {
            "needs_background": "light"
          }
        }
      ]
    },
    {
      "cell_type": "code",
      "source": [
        "df_juridicas = df2[df2['tipo_persona']=='p_juridica']\n",
        "\n",
        "# Distribucion de monto de credito por tipo de persona\n",
        "sns.boxplot(x='tipo_persona', y='deuda_total', data=df_juridicas)"
      ],
      "metadata": {
        "colab": {
          "base_uri": "https://localhost:8080/",
          "height": 310
        },
        "id": "OzoFzIG5p8VA",
        "outputId": "c2fdf1c5-e387-4b0f-ac4d-756da6dbeb5a"
      },
      "execution_count": null,
      "outputs": [
        {
          "output_type": "execute_result",
          "data": {
            "text/plain": [
              "<matplotlib.axes._subplots.AxesSubplot at 0x7f9099dbd0d0>"
            ]
          },
          "metadata": {},
          "execution_count": 26
        },
        {
          "output_type": "display_data",
          "data": {
            "image/png": "[encoded data removed]",
            "text/plain": [
              "<Figure size 432x288 with 1 Axes>"
            ]
          },
          "metadata": {
            "needs_background": "light"
          }
        }
      ]
    },
    {
      "cell_type": "markdown",
      "source": [
        "Los importes de deuda tomada por personas físicas son significativamente inferiores a los tomados por personas jurídicas. Por otra parte, se notan algunos valores extremos en el caso de personas jurídicas."
      ],
      "metadata": {
        "id": "4cETmA8sn08h"
      }
    },
    {
      "cell_type": "code",
      "source": [
        "df2[['cuit', 'tipo_persona', 'deuda_total', 'deuda_ok', 'deuda_default']].sort_values(by='deuda_total', ascending = False).head(10)"
      ],
      "metadata": {
        "colab": {
          "base_uri": "https://localhost:8080/",
          "height": 363
        },
        "id": "oUzfx7ZcoGmx",
        "outputId": "aeea6838-8dfb-4b7b-af2d-94404a9627c7"
      },
      "execution_count": null,
      "outputs": [
        {
          "output_type": "execute_result",
          "data": {
            "text/html": [
              "<div>\n",
              "<style scoped>\n",
              "    .dataframe tbody tr th:only-of-type {\n",
              "        vertical-align: middle;\n",
              "    }\n",
              "\n",
              "    .dataframe tbody tr th {\n",
              "        vertical-align: top;\n",
              "    }\n",
              "\n",
              "    .dataframe thead th {\n",
              "        text-align: right;\n",
              "    }\n",
              "</style>\n",
              "<table border=\"1\" class=\"dataframe\">\n",
              "  <thead>\n",
              "    <tr style=\"text-align: right;\">\n",
              "      <th></th>\n",
              "      <th>cuit</th>\n",
              "      <th>tipo_persona</th>\n",
              "      <th>deuda_total</th>\n",
              "      <th>deuda_ok</th>\n",
              "      <th>deuda_default</th>\n",
              "    </tr>\n",
              "  </thead>\n",
              "  <tbody>\n",
              "    <tr>\n",
              "      <th>2961648</th>\n",
              "      <td>30500959629</td>\n",
              "      <td>p_juridica</td>\n",
              "      <td>34687819</td>\n",
              "      <td>0</td>\n",
              "      <td>34687819</td>\n",
              "    </tr>\n",
              "    <tr>\n",
              "      <th>2963272</th>\n",
              "      <td>30546689979</td>\n",
              "      <td>p_juridica</td>\n",
              "      <td>34552258</td>\n",
              "      <td>34552258</td>\n",
              "      <td>0</td>\n",
              "    </tr>\n",
              "    <tr>\n",
              "      <th>2964321</th>\n",
              "      <td>30588855631</td>\n",
              "      <td>p_juridica</td>\n",
              "      <td>10704946</td>\n",
              "      <td>10704946</td>\n",
              "      <td>0</td>\n",
              "    </tr>\n",
              "    <tr>\n",
              "      <th>2996507</th>\n",
              "      <td>33515950899</td>\n",
              "      <td>p_juridica</td>\n",
              "      <td>10494112</td>\n",
              "      <td>10494112</td>\n",
              "      <td>0</td>\n",
              "    </tr>\n",
              "    <tr>\n",
              "      <th>2962416</th>\n",
              "      <td>30522211563</td>\n",
              "      <td>p_juridica</td>\n",
              "      <td>10293426</td>\n",
              "      <td>10293426</td>\n",
              "      <td>0</td>\n",
              "    </tr>\n",
              "    <tr>\n",
              "      <th>2961645</th>\n",
              "      <td>30500858628</td>\n",
              "      <td>p_juridica</td>\n",
              "      <td>7975899</td>\n",
              "      <td>7975899</td>\n",
              "      <td>0</td>\n",
              "    </tr>\n",
              "    <tr>\n",
              "      <th>2982660</th>\n",
              "      <td>30712336532</td>\n",
              "      <td>p_juridica</td>\n",
              "      <td>6725638</td>\n",
              "      <td>6725638</td>\n",
              "      <td>0</td>\n",
              "    </tr>\n",
              "    <tr>\n",
              "      <th>2984826</th>\n",
              "      <td>30714322938</td>\n",
              "      <td>p_juridica</td>\n",
              "      <td>6582437</td>\n",
              "      <td>6582437</td>\n",
              "      <td>0</td>\n",
              "    </tr>\n",
              "    <tr>\n",
              "      <th>2970044</th>\n",
              "      <td>30700869918</td>\n",
              "      <td>p_juridica</td>\n",
              "      <td>5161045</td>\n",
              "      <td>5161045</td>\n",
              "      <td>0</td>\n",
              "    </tr>\n",
              "    <tr>\n",
              "      <th>2961976</th>\n",
              "      <td>30509529937</td>\n",
              "      <td>p_juridica</td>\n",
              "      <td>4724620</td>\n",
              "      <td>4724620</td>\n",
              "      <td>0</td>\n",
              "    </tr>\n",
              "  </tbody>\n",
              "</table>\n",
              "</div>"
            ],
            "text/plain": [
              "                cuit tipo_persona  deuda_total  deuda_ok  deuda_default\n",
              "2961648  30500959629   p_juridica     34687819         0       34687819\n",
              "2963272  30546689979   p_juridica     34552258  34552258              0\n",
              "2964321  30588855631   p_juridica     10704946  10704946              0\n",
              "2996507  33515950899   p_juridica     10494112  10494112              0\n",
              "2962416  30522211563   p_juridica     10293426  10293426              0\n",
              "2961645  30500858628   p_juridica      7975899   7975899              0\n",
              "2982660  30712336532   p_juridica      6725638   6725638              0\n",
              "2984826  30714322938   p_juridica      6582437   6582437              0\n",
              "2970044  30700869918   p_juridica      5161045   5161045              0\n",
              "2961976  30509529937   p_juridica      4724620   4724620              0"
            ]
          },
          "metadata": {},
          "execution_count": 27
        }
      ]
    },
    {
      "cell_type": "markdown",
      "source": [
        "* 30500959629: Vicentin SAIC\n",
        "* 30546689979: YPF S.A\n",
        "* 30588855631: Sociedad Anonima La Sibila\n",
        "* 33515950899: Visto Oil & Gas Argentina SAU\n",
        "* 30522211563: First Data Conosur\n",
        "* 30500858628: Molinos Rio de La Plata S.A\n",
        "* 30712336532: Fideicomiso Financiero Nasa Serie II\n",
        "* 30714322938: CNH INDUSTRIAL CAPITAL ARGENTINA S.A\n",
        "* 30700869918: Bunge Argentina S.A\n",
        "* 30509529937: GEAR S.A\n",
        "\n",
        "Los 10 CUITs con mayores montos de deuda corresponden a grandes empresas industriales o empresas de inversión. Se destaca que de los 10 mayores deudores, solo uno de ellos (Vicentín SAIC) posee su deuda en default."
      ],
      "metadata": {
        "id": "CR1ceM_qpI5s"
      }
    },
    {
      "cell_type": "markdown",
      "source": [
        "**Distribución de deuda por tipo de entidad**"
      ],
      "metadata": {
        "id": "tk4Pbkw3MqRy"
      }
    },
    {
      "cell_type": "code",
      "source": [
        "deuda_total = df2['deuda_total'].sum()"
      ],
      "metadata": {
        "id": "d4eiSBOPWpsW"
      },
      "execution_count": null,
      "outputs": []
    },
    {
      "cell_type": "code",
      "source": [
        "df2['E1'] = df2['E1_D']+df2['E1_Ok']\n",
        "df2['E2'] = df2['E2_D']+df2['E2_Ok']\n",
        "df2['E3'] = df2['E3_D']+df2['E3_Ok']\n",
        "df2['E4'] = df2['E4_D']+df2['E4_Ok']\n",
        "df2['E5'] = df2['E5_D']+df2['E5_Ok']\n",
        "df2['E6'] = df2['E6_D']+df2['E6_Ok']\n",
        "\n",
        "\n",
        "df_entidades = df2[['tipo_persona','E1','E2','E3','E4','E5','E6']].groupby('tipo_persona', as_index=False).sum()\n"
      ],
      "metadata": {
        "id": "GhE2_7-YM3GR"
      },
      "execution_count": null,
      "outputs": []
    },
    {
      "cell_type": "code",
      "source": [
        "df_entidades"
      ],
      "metadata": {
        "colab": {
          "base_uri": "https://localhost:8080/",
          "height": 112
        },
        "id": "BE6mv8wbQF6E",
        "outputId": "f21bda73-a0be-4abc-ee00-db8451add7e4"
      },
      "execution_count": null,
      "outputs": [
        {
          "output_type": "execute_result",
          "data": {
            "text/html": [
              "<div>\n",
              "<style scoped>\n",
              "    .dataframe tbody tr th:only-of-type {\n",
              "        vertical-align: middle;\n",
              "    }\n",
              "\n",
              "    .dataframe tbody tr th {\n",
              "        vertical-align: top;\n",
              "    }\n",
              "\n",
              "    .dataframe thead th {\n",
              "        text-align: right;\n",
              "    }\n",
              "</style>\n",
              "<table border=\"1\" class=\"dataframe\">\n",
              "  <thead>\n",
              "    <tr style=\"text-align: right;\">\n",
              "      <th></th>\n",
              "      <th>tipo_persona</th>\n",
              "      <th>E1</th>\n",
              "      <th>E2</th>\n",
              "      <th>E3</th>\n",
              "      <th>E4</th>\n",
              "      <th>E5</th>\n",
              "      <th>E6</th>\n",
              "    </tr>\n",
              "  </thead>\n",
              "  <tbody>\n",
              "    <tr>\n",
              "      <th>0</th>\n",
              "      <td>p_fisica</td>\n",
              "      <td>427980474</td>\n",
              "      <td>15123992</td>\n",
              "      <td>48825033</td>\n",
              "      <td>6896986</td>\n",
              "      <td>1731771</td>\n",
              "      <td>13345802</td>\n",
              "    </tr>\n",
              "    <tr>\n",
              "      <th>1</th>\n",
              "      <td>p_juridica</td>\n",
              "      <td>406472925</td>\n",
              "      <td>5176068</td>\n",
              "      <td>1252608</td>\n",
              "      <td>5103701</td>\n",
              "      <td>22219</td>\n",
              "      <td>5167024</td>\n",
              "    </tr>\n",
              "  </tbody>\n",
              "</table>\n",
              "</div>"
            ],
            "text/plain": [
              "  tipo_persona         E1        E2        E3       E4       E5        E6\n",
              "0     p_fisica  427980474  15123992  48825033  6896986  1731771  13345802\n",
              "1   p_juridica  406472925   5176068   1252608  5103701    22219   5167024"
            ]
          },
          "metadata": {},
          "execution_count": 30
        }
      ]
    },
    {
      "cell_type": "code",
      "source": [
        "fisica_entidades = df_entidades[df_entidades['tipo_persona'] == 'p_fisica']\n",
        "fisica_entidades = fisica_entidades[['E1','E2','E3','E4','E5','E6']]\n",
        "serie_1 = list(fisica_entidades.iloc[0])\n"
      ],
      "metadata": {
        "id": "dYW0FtkNRP5k"
      },
      "execution_count": null,
      "outputs": []
    },
    {
      "cell_type": "code",
      "source": [
        "juridica_entidades = df_entidades[df_entidades['tipo_persona'] == 'p_juridica']\n",
        "juridica_entidades = juridica_entidades[['E1','E2','E3','E4','E5','E6']]\n",
        "serie_2 = list(juridica_entidades.iloc[0])"
      ],
      "metadata": {
        "id": "pHpqeYbQRYG1"
      },
      "execution_count": null,
      "outputs": []
    },
    {
      "cell_type": "code",
      "source": [
        "print(serie_1)\n",
        "print(serie_2)"
      ],
      "metadata": {
        "colab": {
          "base_uri": "https://localhost:8080/"
        },
        "id": "sYMA2fgqVeub",
        "outputId": "9b932cef-e78e-42dd-8058-8f9d96afccb5"
      },
      "execution_count": null,
      "outputs": [
        {
          "output_type": "stream",
          "name": "stdout",
          "text": [
            "[427980474, 15123992, 48825033, 6896986, 1731771, 13345802]\n",
            "[406472925, 5176068, 1252608, 5103701, 22219, 5167024]\n"
          ]
        }
      ]
    },
    {
      "cell_type": "code",
      "source": [
        "import numpy as np\n",
        "import matplotlib.pyplot as plt\n",
        " \n",
        "\n",
        "numero_de_grupos = len(serie_1)\n",
        "indice_barras = np.arange(numero_de_grupos)\n",
        "ancho_barras =0.35\n",
        " \n",
        "plt.bar(indice_barras, serie_1, width=ancho_barras, label='Fisica')\n",
        "plt.bar(indice_barras + ancho_barras, serie_2, width=ancho_barras, label='Juridicas')\n",
        "plt.legend(loc='best')\n",
        "## Se colocan los indicadores en el eje x\n",
        "plt.xticks(indice_barras + ancho_barras, ('E1','E2','E3','E4','E5','E6'))\n",
        " \n",
        "plt.ylabel('Deuda')\n",
        "plt.xlabel('Entidad')\n",
        "plt.title('Deuda por tipo de persona y entidad')\n",
        " \n",
        "plt.show()"
      ],
      "metadata": {
        "colab": {
          "base_uri": "https://localhost:8080/",
          "height": 295
        },
        "id": "Ng7RgVRxRNDn",
        "outputId": "186cda54-ef76-42d7-f6bf-ca9a0d6e040c"
      },
      "execution_count": null,
      "outputs": [
        {
          "output_type": "display_data",
          "data": {
            "image/png": "[encoded data removed]",
            "text/plain": [
              "<Figure size 432x288 with 1 Axes>"
            ]
          },
          "metadata": {
            "needs_background": "light"
          }
        }
      ]
    },
    {
      "cell_type": "markdown",
      "source": [
        "Tanto personas físicas como jurídicas poseen una mayor proporción de deuda con la entidad 1."
      ],
      "metadata": {
        "id": "DX0HzYlDZexH"
      }
    },
    {
      "cell_type": "code",
      "source": [
        ""
      ],
      "metadata": {
        "id": "plJ4DTm7fWCi"
      },
      "execution_count": null,
      "outputs": []
    },
    {
      "cell_type": "code",
      "source": [
        "entidades_proporc = df_entidades.copy()\n",
        "entidades_proporc['total_deuda'] = df_entidades['E1']+df_entidades['E2']+df_entidades['E3']+df_entidades['E4']+df_entidades['E5']+df_entidades['E6']\n",
        "entidades_proporc['E1_%'] = (df_entidades['E1']/entidades_proporc['total_deuda'])*100\n",
        "entidades_proporc['E2_%'] = (df_entidades['E2']/entidades_proporc['total_deuda'])*100\n",
        "entidades_proporc['E3_%'] = (df_entidades['E3']/entidades_proporc['total_deuda'])*100\n",
        "entidades_proporc['E4_%'] = (df_entidades['E4']/entidades_proporc['total_deuda'])*100\n",
        "entidades_proporc['E5_%'] = (df_entidades['E5']/entidades_proporc['total_deuda'])*100\n",
        "entidades_proporc['E6_%'] = (df_entidades['E6']/entidades_proporc['total_deuda'])*100\n",
        "\n",
        "entidades_proporc[['tipo_persona','E1_%','E2_%','E3_%','E4_%','E5_%','E6_%']]\n",
        "            "
      ],
      "metadata": {
        "colab": {
          "base_uri": "https://localhost:8080/",
          "height": 112
        },
        "id": "uFhgctf9ZW29",
        "outputId": "664b2cc2-5127-4075-9751-1faf22bd9df3"
      },
      "execution_count": null,
      "outputs": [
        {
          "output_type": "execute_result",
          "data": {
            "text/html": [
              "<div>\n",
              "<style scoped>\n",
              "    .dataframe tbody tr th:only-of-type {\n",
              "        vertical-align: middle;\n",
              "    }\n",
              "\n",
              "    .dataframe tbody tr th {\n",
              "        vertical-align: top;\n",
              "    }\n",
              "\n",
              "    .dataframe thead th {\n",
              "        text-align: right;\n",
              "    }\n",
              "</style>\n",
              "<table border=\"1\" class=\"dataframe\">\n",
              "  <thead>\n",
              "    <tr style=\"text-align: right;\">\n",
              "      <th></th>\n",
              "      <th>tipo_persona</th>\n",
              "      <th>E1_%</th>\n",
              "      <th>E2_%</th>\n",
              "      <th>E3_%</th>\n",
              "      <th>E4_%</th>\n",
              "      <th>E5_%</th>\n",
              "      <th>E6_%</th>\n",
              "    </tr>\n",
              "  </thead>\n",
              "  <tbody>\n",
              "    <tr>\n",
              "      <th>0</th>\n",
              "      <td>p_fisica</td>\n",
              "      <td>83.280229</td>\n",
              "      <td>2.942960</td>\n",
              "      <td>9.500807</td>\n",
              "      <td>1.342077</td>\n",
              "      <td>0.336983</td>\n",
              "      <td>2.596944</td>\n",
              "    </tr>\n",
              "    <tr>\n",
              "      <th>1</th>\n",
              "      <td>p_juridica</td>\n",
              "      <td>96.048716</td>\n",
              "      <td>1.223094</td>\n",
              "      <td>0.295989</td>\n",
              "      <td>1.205994</td>\n",
              "      <td>0.005250</td>\n",
              "      <td>1.220957</td>\n",
              "    </tr>\n",
              "  </tbody>\n",
              "</table>\n",
              "</div>"
            ],
            "text/plain": [
              "  tipo_persona       E1_%      E2_%      E3_%      E4_%      E5_%      E6_%\n",
              "0     p_fisica  83.280229  2.942960  9.500807  1.342077  0.336983  2.596944\n",
              "1   p_juridica  96.048716  1.223094  0.295989  1.205994  0.005250  1.220957"
            ]
          },
          "metadata": {},
          "execution_count": 35
        }
      ]
    },
    {
      "cell_type": "code",
      "source": [
        "entidades_proporc"
      ],
      "metadata": {
        "colab": {
          "base_uri": "https://localhost:8080/",
          "height": 112
        },
        "id": "PEmKwpOof0lO",
        "outputId": "2c23d554-d737-470f-82f1-4a6ea5a808dc"
      },
      "execution_count": null,
      "outputs": [
        {
          "output_type": "execute_result",
          "data": {
            "text/html": [
              "<div>\n",
              "<style scoped>\n",
              "    .dataframe tbody tr th:only-of-type {\n",
              "        vertical-align: middle;\n",
              "    }\n",
              "\n",
              "    .dataframe tbody tr th {\n",
              "        vertical-align: top;\n",
              "    }\n",
              "\n",
              "    .dataframe thead th {\n",
              "        text-align: right;\n",
              "    }\n",
              "</style>\n",
              "<table border=\"1\" class=\"dataframe\">\n",
              "  <thead>\n",
              "    <tr style=\"text-align: right;\">\n",
              "      <th></th>\n",
              "      <th>tipo_persona</th>\n",
              "      <th>E1</th>\n",
              "      <th>E2</th>\n",
              "      <th>E3</th>\n",
              "      <th>E4</th>\n",
              "      <th>E5</th>\n",
              "      <th>E6</th>\n",
              "      <th>total_deuda</th>\n",
              "      <th>E1_%</th>\n",
              "      <th>E2_%</th>\n",
              "      <th>E3_%</th>\n",
              "      <th>E4_%</th>\n",
              "      <th>E5_%</th>\n",
              "      <th>E6_%</th>\n",
              "    </tr>\n",
              "  </thead>\n",
              "  <tbody>\n",
              "    <tr>\n",
              "      <th>0</th>\n",
              "      <td>p_fisica</td>\n",
              "      <td>427980474</td>\n",
              "      <td>15123992</td>\n",
              "      <td>48825033</td>\n",
              "      <td>6896986</td>\n",
              "      <td>1731771</td>\n",
              "      <td>13345802</td>\n",
              "      <td>513904058</td>\n",
              "      <td>83.280229</td>\n",
              "      <td>2.942960</td>\n",
              "      <td>9.500807</td>\n",
              "      <td>1.342077</td>\n",
              "      <td>0.336983</td>\n",
              "      <td>2.596944</td>\n",
              "    </tr>\n",
              "    <tr>\n",
              "      <th>1</th>\n",
              "      <td>p_juridica</td>\n",
              "      <td>406472925</td>\n",
              "      <td>5176068</td>\n",
              "      <td>1252608</td>\n",
              "      <td>5103701</td>\n",
              "      <td>22219</td>\n",
              "      <td>5167024</td>\n",
              "      <td>423194545</td>\n",
              "      <td>96.048716</td>\n",
              "      <td>1.223094</td>\n",
              "      <td>0.295989</td>\n",
              "      <td>1.205994</td>\n",
              "      <td>0.005250</td>\n",
              "      <td>1.220957</td>\n",
              "    </tr>\n",
              "  </tbody>\n",
              "</table>\n",
              "</div>"
            ],
            "text/plain": [
              "  tipo_persona         E1        E2  ...      E4_%      E5_%      E6_%\n",
              "0     p_fisica  427980474  15123992  ...  1.342077  0.336983  2.596944\n",
              "1   p_juridica  406472925   5176068  ...  1.205994  0.005250  1.220957\n",
              "\n",
              "[2 rows x 14 columns]"
            ]
          },
          "metadata": {},
          "execution_count": 36
        }
      ]
    },
    {
      "cell_type": "markdown",
      "source": [
        "**Comparamos ahora los niveles de deuda de hombres y mujeres**"
      ],
      "metadata": {
        "id": "VDmOs-P9uNL0"
      }
    },
    {
      "cell_type": "code",
      "source": [
        "df_fisica = df2[df2['tipo_persona']=='p_fisica']\n",
        "\n",
        "df_fisica = df_fisica[['cuit','default','deuda_total','deuda_default','deuda_ok','mujer','empresa','hombre', 'E1','E2','E3','E4','E5','E6']]\n",
        "\n",
        "df_fisica"
      ],
      "metadata": {
        "colab": {
          "base_uri": "https://localhost:8080/",
          "height": 423
        },
        "id": "fzomkLCVuaTA",
        "outputId": "a9a87797-685d-4312-c745-df25b72c8a1b"
      },
      "execution_count": null,
      "outputs": [
        {
          "output_type": "execute_result",
          "data": {
            "text/html": [
              "<div>\n",
              "<style scoped>\n",
              "    .dataframe tbody tr th:only-of-type {\n",
              "        vertical-align: middle;\n",
              "    }\n",
              "\n",
              "    .dataframe tbody tr th {\n",
              "        vertical-align: top;\n",
              "    }\n",
              "\n",
              "    .dataframe thead th {\n",
              "        text-align: right;\n",
              "    }\n",
              "</style>\n",
              "<table border=\"1\" class=\"dataframe\">\n",
              "  <thead>\n",
              "    <tr style=\"text-align: right;\">\n",
              "      <th></th>\n",
              "      <th>cuit</th>\n",
              "      <th>default</th>\n",
              "      <th>deuda_total</th>\n",
              "      <th>deuda_default</th>\n",
              "      <th>deuda_ok</th>\n",
              "      <th>mujer</th>\n",
              "      <th>empresa</th>\n",
              "      <th>hombre</th>\n",
              "      <th>E1</th>\n",
              "      <th>E2</th>\n",
              "      <th>E3</th>\n",
              "      <th>E4</th>\n",
              "      <th>E5</th>\n",
              "      <th>E6</th>\n",
              "    </tr>\n",
              "  </thead>\n",
              "  <tbody>\n",
              "    <tr>\n",
              "      <th>0</th>\n",
              "      <td>20000079643</td>\n",
              "      <td>1</td>\n",
              "      <td>16</td>\n",
              "      <td>16</td>\n",
              "      <td>0</td>\n",
              "      <td>0</td>\n",
              "      <td>0</td>\n",
              "      <td>1</td>\n",
              "      <td>0</td>\n",
              "      <td>0</td>\n",
              "      <td>0</td>\n",
              "      <td>0</td>\n",
              "      <td>0</td>\n",
              "      <td>16</td>\n",
              "    </tr>\n",
              "    <tr>\n",
              "      <th>1</th>\n",
              "      <td>20000110680</td>\n",
              "      <td>0</td>\n",
              "      <td>3</td>\n",
              "      <td>0</td>\n",
              "      <td>3</td>\n",
              "      <td>0</td>\n",
              "      <td>0</td>\n",
              "      <td>1</td>\n",
              "      <td>3</td>\n",
              "      <td>0</td>\n",
              "      <td>0</td>\n",
              "      <td>0</td>\n",
              "      <td>0</td>\n",
              "      <td>0</td>\n",
              "    </tr>\n",
              "    <tr>\n",
              "      <th>2</th>\n",
              "      <td>20000143368</td>\n",
              "      <td>0</td>\n",
              "      <td>11</td>\n",
              "      <td>0</td>\n",
              "      <td>11</td>\n",
              "      <td>0</td>\n",
              "      <td>0</td>\n",
              "      <td>1</td>\n",
              "      <td>11</td>\n",
              "      <td>0</td>\n",
              "      <td>0</td>\n",
              "      <td>0</td>\n",
              "      <td>0</td>\n",
              "      <td>0</td>\n",
              "    </tr>\n",
              "    <tr>\n",
              "      <th>3</th>\n",
              "      <td>20000297713</td>\n",
              "      <td>0</td>\n",
              "      <td>67</td>\n",
              "      <td>0</td>\n",
              "      <td>67</td>\n",
              "      <td>0</td>\n",
              "      <td>0</td>\n",
              "      <td>1</td>\n",
              "      <td>0</td>\n",
              "      <td>0</td>\n",
              "      <td>67</td>\n",
              "      <td>0</td>\n",
              "      <td>0</td>\n",
              "      <td>0</td>\n",
              "    </tr>\n",
              "    <tr>\n",
              "      <th>4</th>\n",
              "      <td>20000788261</td>\n",
              "      <td>0</td>\n",
              "      <td>9</td>\n",
              "      <td>0</td>\n",
              "      <td>9</td>\n",
              "      <td>0</td>\n",
              "      <td>0</td>\n",
              "      <td>1</td>\n",
              "      <td>0</td>\n",
              "      <td>0</td>\n",
              "      <td>9</td>\n",
              "      <td>0</td>\n",
              "      <td>0</td>\n",
              "      <td>0</td>\n",
              "    </tr>\n",
              "    <tr>\n",
              "      <th>...</th>\n",
              "      <td>...</td>\n",
              "      <td>...</td>\n",
              "      <td>...</td>\n",
              "      <td>...</td>\n",
              "      <td>...</td>\n",
              "      <td>...</td>\n",
              "      <td>...</td>\n",
              "      <td>...</td>\n",
              "      <td>...</td>\n",
              "      <td>...</td>\n",
              "      <td>...</td>\n",
              "      <td>...</td>\n",
              "      <td>...</td>\n",
              "      <td>...</td>\n",
              "    </tr>\n",
              "    <tr>\n",
              "      <th>2961586</th>\n",
              "      <td>27999014327</td>\n",
              "      <td>0</td>\n",
              "      <td>8</td>\n",
              "      <td>0</td>\n",
              "      <td>8</td>\n",
              "      <td>1</td>\n",
              "      <td>0</td>\n",
              "      <td>0</td>\n",
              "      <td>8</td>\n",
              "      <td>0</td>\n",
              "      <td>0</td>\n",
              "      <td>0</td>\n",
              "      <td>0</td>\n",
              "      <td>0</td>\n",
              "    </tr>\n",
              "    <tr>\n",
              "      <th>2961587</th>\n",
              "      <td>27999015471</td>\n",
              "      <td>0</td>\n",
              "      <td>149</td>\n",
              "      <td>0</td>\n",
              "      <td>149</td>\n",
              "      <td>1</td>\n",
              "      <td>0</td>\n",
              "      <td>0</td>\n",
              "      <td>149</td>\n",
              "      <td>0</td>\n",
              "      <td>0</td>\n",
              "      <td>0</td>\n",
              "      <td>0</td>\n",
              "      <td>0</td>\n",
              "    </tr>\n",
              "    <tr>\n",
              "      <th>2961588</th>\n",
              "      <td>27999019825</td>\n",
              "      <td>0</td>\n",
              "      <td>118</td>\n",
              "      <td>0</td>\n",
              "      <td>118</td>\n",
              "      <td>1</td>\n",
              "      <td>0</td>\n",
              "      <td>0</td>\n",
              "      <td>118</td>\n",
              "      <td>0</td>\n",
              "      <td>0</td>\n",
              "      <td>0</td>\n",
              "      <td>0</td>\n",
              "      <td>0</td>\n",
              "    </tr>\n",
              "    <tr>\n",
              "      <th>2961589</th>\n",
              "      <td>27999019965</td>\n",
              "      <td>0</td>\n",
              "      <td>50</td>\n",
              "      <td>0</td>\n",
              "      <td>50</td>\n",
              "      <td>1</td>\n",
              "      <td>0</td>\n",
              "      <td>0</td>\n",
              "      <td>50</td>\n",
              "      <td>0</td>\n",
              "      <td>0</td>\n",
              "      <td>0</td>\n",
              "      <td>0</td>\n",
              "      <td>0</td>\n",
              "    </tr>\n",
              "    <tr>\n",
              "      <th>2961590</th>\n",
              "      <td>27999024462</td>\n",
              "      <td>0</td>\n",
              "      <td>143</td>\n",
              "      <td>0</td>\n",
              "      <td>143</td>\n",
              "      <td>1</td>\n",
              "      <td>0</td>\n",
              "      <td>0</td>\n",
              "      <td>143</td>\n",
              "      <td>0</td>\n",
              "      <td>0</td>\n",
              "      <td>0</td>\n",
              "      <td>0</td>\n",
              "      <td>0</td>\n",
              "    </tr>\n",
              "  </tbody>\n",
              "</table>\n",
              "<p>2961591 rows × 14 columns</p>\n",
              "</div>"
            ],
            "text/plain": [
              "                cuit  default  deuda_total  deuda_default  ...  E3  E4  E5  E6\n",
              "0        20000079643        1           16             16  ...   0   0   0  16\n",
              "1        20000110680        0            3              0  ...   0   0   0   0\n",
              "2        20000143368        0           11              0  ...   0   0   0   0\n",
              "3        20000297713        0           67              0  ...  67   0   0   0\n",
              "4        20000788261        0            9              0  ...   9   0   0   0\n",
              "...              ...      ...          ...            ...  ...  ..  ..  ..  ..\n",
              "2961586  27999014327        0            8              0  ...   0   0   0   0\n",
              "2961587  27999015471        0          149              0  ...   0   0   0   0\n",
              "2961588  27999019825        0          118              0  ...   0   0   0   0\n",
              "2961589  27999019965        0           50              0  ...   0   0   0   0\n",
              "2961590  27999024462        0          143              0  ...   0   0   0   0\n",
              "\n",
              "[2961591 rows x 14 columns]"
            ]
          },
          "metadata": {},
          "execution_count": 37
        }
      ]
    },
    {
      "cell_type": "code",
      "source": [
        "df_fisica['otros'] = np.where((df_fisica['mujer']==0) & ((df_fisica['hombre']==0) & (df_fisica['empresa']==0)), 1,0)\n",
        "\n",
        "df_fisica[df_fisica['otros'] == 1].count()"
      ],
      "metadata": {
        "id": "IQ66CdNDvwg3",
        "colab": {
          "base_uri": "https://localhost:8080/"
        },
        "outputId": "1758aa60-9cac-4536-a6a7-5625802fe226"
      },
      "execution_count": null,
      "outputs": [
        {
          "output_type": "execute_result",
          "data": {
            "text/plain": [
              "cuit             16717\n",
              "default          16717\n",
              "deuda_total      16717\n",
              "deuda_default    16717\n",
              "deuda_ok         16717\n",
              "mujer            16717\n",
              "empresa          16717\n",
              "hombre           16717\n",
              "E1               16717\n",
              "E2               16717\n",
              "E3               16717\n",
              "E4               16717\n",
              "E5               16717\n",
              "E6               16717\n",
              "otros            16717\n",
              "dtype: int64"
            ]
          },
          "metadata": {},
          "execution_count": 38
        }
      ]
    },
    {
      "cell_type": "markdown",
      "source": [
        "Existen 16717 CUITs que no podemos clasificar entre masculinos y femeninos a partir de la conformación de sus CUITs. "
      ],
      "metadata": {
        "id": "Z3iFsRUs95V-"
      }
    },
    {
      "cell_type": "code",
      "source": [
        "df_otros = df_fisica[df_fisica['otros'] == 1]\n",
        "df_otros.shape\n",
        "\n"
      ],
      "metadata": {
        "colab": {
          "base_uri": "https://localhost:8080/"
        },
        "id": "kt7sw8M_-f1m",
        "outputId": "8ba4e216-3714-4ac6-f849-365630d993d3"
      },
      "execution_count": null,
      "outputs": [
        {
          "output_type": "execute_result",
          "data": {
            "text/plain": [
              "(16717, 15)"
            ]
          },
          "metadata": {},
          "execution_count": 39
        }
      ]
    },
    {
      "cell_type": "code",
      "source": [
        "df_otros['genero'] = 'Otro'\n",
        "\n",
        "df_otros"
      ],
      "metadata": {
        "colab": {
          "base_uri": "https://localhost:8080/",
          "height": 562
        },
        "id": "TFsXEVLt_Rd2",
        "outputId": "d664b7dd-30fe-4450-953c-8814966d2c11"
      },
      "execution_count": null,
      "outputs": [
        {
          "output_type": "stream",
          "name": "stderr",
          "text": [
            "/usr/local/lib/python3.7/dist-packages/ipykernel_launcher.py:1: SettingWithCopyWarning:\n",
            "\n",
            "\n",
            "A value is trying to be set on a copy of a slice from a DataFrame.\n",
            "Try using .loc[row_indexer,col_indexer] = value instead\n",
            "\n",
            "See the caveats in the documentation: https://pandas.pydata.org/pandas-docs/stable/user_guide/indexing.html#returning-a-view-versus-a-copy\n",
            "\n"
          ]
        },
        {
          "output_type": "execute_result",
          "data": {
            "text/html": [
              "<div>\n",
              "<style scoped>\n",
              "    .dataframe tbody tr th:only-of-type {\n",
              "        vertical-align: middle;\n",
              "    }\n",
              "\n",
              "    .dataframe tbody tr th {\n",
              "        vertical-align: top;\n",
              "    }\n",
              "\n",
              "    .dataframe thead th {\n",
              "        text-align: right;\n",
              "    }\n",
              "</style>\n",
              "<table border=\"1\" class=\"dataframe\">\n",
              "  <thead>\n",
              "    <tr style=\"text-align: right;\">\n",
              "      <th></th>\n",
              "      <th>cuit</th>\n",
              "      <th>default</th>\n",
              "      <th>deuda_total</th>\n",
              "      <th>deuda_default</th>\n",
              "      <th>deuda_ok</th>\n",
              "      <th>mujer</th>\n",
              "      <th>empresa</th>\n",
              "      <th>hombre</th>\n",
              "      <th>E1</th>\n",
              "      <th>E2</th>\n",
              "      <th>E3</th>\n",
              "      <th>E4</th>\n",
              "      <th>E5</th>\n",
              "      <th>E6</th>\n",
              "      <th>otros</th>\n",
              "      <th>genero</th>\n",
              "    </tr>\n",
              "  </thead>\n",
              "  <tbody>\n",
              "    <tr>\n",
              "      <th>1361489</th>\n",
              "      <td>23006665543</td>\n",
              "      <td>0</td>\n",
              "      <td>15</td>\n",
              "      <td>0</td>\n",
              "      <td>15</td>\n",
              "      <td>0</td>\n",
              "      <td>0</td>\n",
              "      <td>0</td>\n",
              "      <td>15</td>\n",
              "      <td>0</td>\n",
              "      <td>0</td>\n",
              "      <td>0</td>\n",
              "      <td>0</td>\n",
              "      <td>0</td>\n",
              "      <td>1</td>\n",
              "      <td>Otro</td>\n",
              "    </tr>\n",
              "    <tr>\n",
              "      <th>1361937</th>\n",
              "      <td>23016840777</td>\n",
              "      <td>0</td>\n",
              "      <td>5</td>\n",
              "      <td>0</td>\n",
              "      <td>5</td>\n",
              "      <td>0</td>\n",
              "      <td>0</td>\n",
              "      <td>0</td>\n",
              "      <td>5</td>\n",
              "      <td>0</td>\n",
              "      <td>0</td>\n",
              "      <td>0</td>\n",
              "      <td>0</td>\n",
              "      <td>0</td>\n",
              "      <td>1</td>\n",
              "      <td>Otro</td>\n",
              "    </tr>\n",
              "    <tr>\n",
              "      <th>1361952</th>\n",
              "      <td>23017174843</td>\n",
              "      <td>0</td>\n",
              "      <td>10</td>\n",
              "      <td>0</td>\n",
              "      <td>10</td>\n",
              "      <td>0</td>\n",
              "      <td>0</td>\n",
              "      <td>0</td>\n",
              "      <td>10</td>\n",
              "      <td>0</td>\n",
              "      <td>0</td>\n",
              "      <td>0</td>\n",
              "      <td>0</td>\n",
              "      <td>0</td>\n",
              "      <td>1</td>\n",
              "      <td>Otro</td>\n",
              "    </tr>\n",
              "    <tr>\n",
              "      <th>1362390</th>\n",
              "      <td>23023845113</td>\n",
              "      <td>0</td>\n",
              "      <td>20</td>\n",
              "      <td>0</td>\n",
              "      <td>20</td>\n",
              "      <td>0</td>\n",
              "      <td>0</td>\n",
              "      <td>0</td>\n",
              "      <td>20</td>\n",
              "      <td>0</td>\n",
              "      <td>0</td>\n",
              "      <td>0</td>\n",
              "      <td>0</td>\n",
              "      <td>0</td>\n",
              "      <td>1</td>\n",
              "      <td>Otro</td>\n",
              "    </tr>\n",
              "    <tr>\n",
              "      <th>1362877</th>\n",
              "      <td>23029285233</td>\n",
              "      <td>0</td>\n",
              "      <td>8</td>\n",
              "      <td>0</td>\n",
              "      <td>8</td>\n",
              "      <td>0</td>\n",
              "      <td>0</td>\n",
              "      <td>0</td>\n",
              "      <td>8</td>\n",
              "      <td>0</td>\n",
              "      <td>0</td>\n",
              "      <td>0</td>\n",
              "      <td>0</td>\n",
              "      <td>0</td>\n",
              "      <td>1</td>\n",
              "      <td>Otro</td>\n",
              "    </tr>\n",
              "    <tr>\n",
              "      <th>...</th>\n",
              "      <td>...</td>\n",
              "      <td>...</td>\n",
              "      <td>...</td>\n",
              "      <td>...</td>\n",
              "      <td>...</td>\n",
              "      <td>...</td>\n",
              "      <td>...</td>\n",
              "      <td>...</td>\n",
              "      <td>...</td>\n",
              "      <td>...</td>\n",
              "      <td>...</td>\n",
              "      <td>...</td>\n",
              "      <td>...</td>\n",
              "      <td>...</td>\n",
              "      <td>...</td>\n",
              "      <td>...</td>\n",
              "    </tr>\n",
              "    <tr>\n",
              "      <th>1646362</th>\n",
              "      <td>24956023005</td>\n",
              "      <td>0</td>\n",
              "      <td>19</td>\n",
              "      <td>0</td>\n",
              "      <td>19</td>\n",
              "      <td>0</td>\n",
              "      <td>0</td>\n",
              "      <td>0</td>\n",
              "      <td>18</td>\n",
              "      <td>0</td>\n",
              "      <td>1</td>\n",
              "      <td>0</td>\n",
              "      <td>0</td>\n",
              "      <td>0</td>\n",
              "      <td>1</td>\n",
              "      <td>Otro</td>\n",
              "    </tr>\n",
              "    <tr>\n",
              "      <th>1646363</th>\n",
              "      <td>24958583644</td>\n",
              "      <td>0</td>\n",
              "      <td>153</td>\n",
              "      <td>0</td>\n",
              "      <td>153</td>\n",
              "      <td>0</td>\n",
              "      <td>0</td>\n",
              "      <td>0</td>\n",
              "      <td>153</td>\n",
              "      <td>0</td>\n",
              "      <td>0</td>\n",
              "      <td>0</td>\n",
              "      <td>0</td>\n",
              "      <td>0</td>\n",
              "      <td>1</td>\n",
              "      <td>Otro</td>\n",
              "    </tr>\n",
              "    <tr>\n",
              "      <th>1646364</th>\n",
              "      <td>24958939805</td>\n",
              "      <td>0</td>\n",
              "      <td>9</td>\n",
              "      <td>0</td>\n",
              "      <td>9</td>\n",
              "      <td>0</td>\n",
              "      <td>0</td>\n",
              "      <td>0</td>\n",
              "      <td>0</td>\n",
              "      <td>0</td>\n",
              "      <td>9</td>\n",
              "      <td>0</td>\n",
              "      <td>0</td>\n",
              "      <td>0</td>\n",
              "      <td>1</td>\n",
              "      <td>Otro</td>\n",
              "    </tr>\n",
              "    <tr>\n",
              "      <th>1646365</th>\n",
              "      <td>24959088736</td>\n",
              "      <td>0</td>\n",
              "      <td>117</td>\n",
              "      <td>0</td>\n",
              "      <td>117</td>\n",
              "      <td>0</td>\n",
              "      <td>0</td>\n",
              "      <td>0</td>\n",
              "      <td>117</td>\n",
              "      <td>0</td>\n",
              "      <td>0</td>\n",
              "      <td>0</td>\n",
              "      <td>0</td>\n",
              "      <td>0</td>\n",
              "      <td>1</td>\n",
              "      <td>Otro</td>\n",
              "    </tr>\n",
              "    <tr>\n",
              "      <th>1646366</th>\n",
              "      <td>24960877485</td>\n",
              "      <td>0</td>\n",
              "      <td>2002</td>\n",
              "      <td>0</td>\n",
              "      <td>2002</td>\n",
              "      <td>0</td>\n",
              "      <td>0</td>\n",
              "      <td>0</td>\n",
              "      <td>2002</td>\n",
              "      <td>0</td>\n",
              "      <td>0</td>\n",
              "      <td>0</td>\n",
              "      <td>0</td>\n",
              "      <td>0</td>\n",
              "      <td>1</td>\n",
              "      <td>Otro</td>\n",
              "    </tr>\n",
              "  </tbody>\n",
              "</table>\n",
              "<p>16717 rows × 16 columns</p>\n",
              "</div>"
            ],
            "text/plain": [
              "                cuit  default  deuda_total  deuda_default  ...  E5  E6  otros  genero\n",
              "1361489  23006665543        0           15              0  ...   0   0      1    Otro\n",
              "1361937  23016840777        0            5              0  ...   0   0      1    Otro\n",
              "1361952  23017174843        0           10              0  ...   0   0      1    Otro\n",
              "1362390  23023845113        0           20              0  ...   0   0      1    Otro\n",
              "1362877  23029285233        0            8              0  ...   0   0      1    Otro\n",
              "...              ...      ...          ...            ...  ...  ..  ..    ...     ...\n",
              "1646362  24956023005        0           19              0  ...   0   0      1    Otro\n",
              "1646363  24958583644        0          153              0  ...   0   0      1    Otro\n",
              "1646364  24958939805        0            9              0  ...   0   0      1    Otro\n",
              "1646365  24959088736        0          117              0  ...   0   0      1    Otro\n",
              "1646366  24960877485        0         2002              0  ...   0   0      1    Otro\n",
              "\n",
              "[16717 rows x 16 columns]"
            ]
          },
          "metadata": {},
          "execution_count": 40
        }
      ]
    },
    {
      "cell_type": "code",
      "source": [
        "df_fisica = df_fisica[df_fisica['otros'] == 0]\n",
        "df_fisica.shape"
      ],
      "metadata": {
        "colab": {
          "base_uri": "https://localhost:8080/"
        },
        "id": "EF424jQl-HLO",
        "outputId": "29646317-b843-43de-9ac7-3bf2b2ad4f7c"
      },
      "execution_count": null,
      "outputs": [
        {
          "output_type": "execute_result",
          "data": {
            "text/plain": [
              "(2944874, 15)"
            ]
          },
          "metadata": {},
          "execution_count": 41
        }
      ]
    },
    {
      "cell_type": "code",
      "source": [
        "df_fisica['genero'] = np.where((df_fisica['hombre']==1) & ((df_fisica['mujer']== 0)), 'Hombre', 'Mujer')\n",
        "df_fisica"
      ],
      "metadata": {
        "colab": {
          "base_uri": "https://localhost:8080/",
          "height": 562
        },
        "id": "tRigfrHD8aEU",
        "outputId": "ff8d16f4-7346-4174-c783-f15e98593ccf"
      },
      "execution_count": null,
      "outputs": [
        {
          "output_type": "stream",
          "name": "stderr",
          "text": [
            "/usr/local/lib/python3.7/dist-packages/ipykernel_launcher.py:1: SettingWithCopyWarning:\n",
            "\n",
            "\n",
            "A value is trying to be set on a copy of a slice from a DataFrame.\n",
            "Try using .loc[row_indexer,col_indexer] = value instead\n",
            "\n",
            "See the caveats in the documentation: https://pandas.pydata.org/pandas-docs/stable/user_guide/indexing.html#returning-a-view-versus-a-copy\n",
            "\n"
          ]
        },
        {
          "output_type": "execute_result",
          "data": {
            "text/html": [
              "<div>\n",
              "<style scoped>\n",
              "    .dataframe tbody tr th:only-of-type {\n",
              "        vertical-align: middle;\n",
              "    }\n",
              "\n",
              "    .dataframe tbody tr th {\n",
              "        vertical-align: top;\n",
              "    }\n",
              "\n",
              "    .dataframe thead th {\n",
              "        text-align: right;\n",
              "    }\n",
              "</style>\n",
              "<table border=\"1\" class=\"dataframe\">\n",
              "  <thead>\n",
              "    <tr style=\"text-align: right;\">\n",
              "      <th></th>\n",
              "      <th>cuit</th>\n",
              "      <th>default</th>\n",
              "      <th>deuda_total</th>\n",
              "      <th>deuda_default</th>\n",
              "      <th>deuda_ok</th>\n",
              "      <th>mujer</th>\n",
              "      <th>empresa</th>\n",
              "      <th>hombre</th>\n",
              "      <th>E1</th>\n",
              "      <th>E2</th>\n",
              "      <th>E3</th>\n",
              "      <th>E4</th>\n",
              "      <th>E5</th>\n",
              "      <th>E6</th>\n",
              "      <th>otros</th>\n",
              "      <th>genero</th>\n",
              "    </tr>\n",
              "  </thead>\n",
              "  <tbody>\n",
              "    <tr>\n",
              "      <th>0</th>\n",
              "      <td>20000079643</td>\n",
              "      <td>1</td>\n",
              "      <td>16</td>\n",
              "      <td>16</td>\n",
              "      <td>0</td>\n",
              "      <td>0</td>\n",
              "      <td>0</td>\n",
              "      <td>1</td>\n",
              "      <td>0</td>\n",
              "      <td>0</td>\n",
              "      <td>0</td>\n",
              "      <td>0</td>\n",
              "      <td>0</td>\n",
              "      <td>16</td>\n",
              "      <td>0</td>\n",
              "      <td>Hombre</td>\n",
              "    </tr>\n",
              "    <tr>\n",
              "      <th>1</th>\n",
              "      <td>20000110680</td>\n",
              "      <td>0</td>\n",
              "      <td>3</td>\n",
              "      <td>0</td>\n",
              "      <td>3</td>\n",
              "      <td>0</td>\n",
              "      <td>0</td>\n",
              "      <td>1</td>\n",
              "      <td>3</td>\n",
              "      <td>0</td>\n",
              "      <td>0</td>\n",
              "      <td>0</td>\n",
              "      <td>0</td>\n",
              "      <td>0</td>\n",
              "      <td>0</td>\n",
              "      <td>Hombre</td>\n",
              "    </tr>\n",
              "    <tr>\n",
              "      <th>2</th>\n",
              "      <td>20000143368</td>\n",
              "      <td>0</td>\n",
              "      <td>11</td>\n",
              "      <td>0</td>\n",
              "      <td>11</td>\n",
              "      <td>0</td>\n",
              "      <td>0</td>\n",
              "      <td>1</td>\n",
              "      <td>11</td>\n",
              "      <td>0</td>\n",
              "      <td>0</td>\n",
              "      <td>0</td>\n",
              "      <td>0</td>\n",
              "      <td>0</td>\n",
              "      <td>0</td>\n",
              "      <td>Hombre</td>\n",
              "    </tr>\n",
              "    <tr>\n",
              "      <th>3</th>\n",
              "      <td>20000297713</td>\n",
              "      <td>0</td>\n",
              "      <td>67</td>\n",
              "      <td>0</td>\n",
              "      <td>67</td>\n",
              "      <td>0</td>\n",
              "      <td>0</td>\n",
              "      <td>1</td>\n",
              "      <td>0</td>\n",
              "      <td>0</td>\n",
              "      <td>67</td>\n",
              "      <td>0</td>\n",
              "      <td>0</td>\n",
              "      <td>0</td>\n",
              "      <td>0</td>\n",
              "      <td>Hombre</td>\n",
              "    </tr>\n",
              "    <tr>\n",
              "      <th>4</th>\n",
              "      <td>20000788261</td>\n",
              "      <td>0</td>\n",
              "      <td>9</td>\n",
              "      <td>0</td>\n",
              "      <td>9</td>\n",
              "      <td>0</td>\n",
              "      <td>0</td>\n",
              "      <td>1</td>\n",
              "      <td>0</td>\n",
              "      <td>0</td>\n",
              "      <td>9</td>\n",
              "      <td>0</td>\n",
              "      <td>0</td>\n",
              "      <td>0</td>\n",
              "      <td>0</td>\n",
              "      <td>Hombre</td>\n",
              "    </tr>\n",
              "    <tr>\n",
              "      <th>...</th>\n",
              "      <td>...</td>\n",
              "      <td>...</td>\n",
              "      <td>...</td>\n",
              "      <td>...</td>\n",
              "      <td>...</td>\n",
              "      <td>...</td>\n",
              "      <td>...</td>\n",
              "      <td>...</td>\n",
              "      <td>...</td>\n",
              "      <td>...</td>\n",
              "      <td>...</td>\n",
              "      <td>...</td>\n",
              "      <td>...</td>\n",
              "      <td>...</td>\n",
              "      <td>...</td>\n",
              "      <td>...</td>\n",
              "    </tr>\n",
              "    <tr>\n",
              "      <th>2961586</th>\n",
              "      <td>27999014327</td>\n",
              "      <td>0</td>\n",
              "      <td>8</td>\n",
              "      <td>0</td>\n",
              "      <td>8</td>\n",
              "      <td>1</td>\n",
              "      <td>0</td>\n",
              "      <td>0</td>\n",
              "      <td>8</td>\n",
              "      <td>0</td>\n",
              "      <td>0</td>\n",
              "      <td>0</td>\n",
              "      <td>0</td>\n",
              "      <td>0</td>\n",
              "      <td>0</td>\n",
              "      <td>Mujer</td>\n",
              "    </tr>\n",
              "    <tr>\n",
              "      <th>2961587</th>\n",
              "      <td>27999015471</td>\n",
              "      <td>0</td>\n",
              "      <td>149</td>\n",
              "      <td>0</td>\n",
              "      <td>149</td>\n",
              "      <td>1</td>\n",
              "      <td>0</td>\n",
              "      <td>0</td>\n",
              "      <td>149</td>\n",
              "      <td>0</td>\n",
              "      <td>0</td>\n",
              "      <td>0</td>\n",
              "      <td>0</td>\n",
              "      <td>0</td>\n",
              "      <td>0</td>\n",
              "      <td>Mujer</td>\n",
              "    </tr>\n",
              "    <tr>\n",
              "      <th>2961588</th>\n",
              "      <td>27999019825</td>\n",
              "      <td>0</td>\n",
              "      <td>118</td>\n",
              "      <td>0</td>\n",
              "      <td>118</td>\n",
              "      <td>1</td>\n",
              "      <td>0</td>\n",
              "      <td>0</td>\n",
              "      <td>118</td>\n",
              "      <td>0</td>\n",
              "      <td>0</td>\n",
              "      <td>0</td>\n",
              "      <td>0</td>\n",
              "      <td>0</td>\n",
              "      <td>0</td>\n",
              "      <td>Mujer</td>\n",
              "    </tr>\n",
              "    <tr>\n",
              "      <th>2961589</th>\n",
              "      <td>27999019965</td>\n",
              "      <td>0</td>\n",
              "      <td>50</td>\n",
              "      <td>0</td>\n",
              "      <td>50</td>\n",
              "      <td>1</td>\n",
              "      <td>0</td>\n",
              "      <td>0</td>\n",
              "      <td>50</td>\n",
              "      <td>0</td>\n",
              "      <td>0</td>\n",
              "      <td>0</td>\n",
              "      <td>0</td>\n",
              "      <td>0</td>\n",
              "      <td>0</td>\n",
              "      <td>Mujer</td>\n",
              "    </tr>\n",
              "    <tr>\n",
              "      <th>2961590</th>\n",
              "      <td>27999024462</td>\n",
              "      <td>0</td>\n",
              "      <td>143</td>\n",
              "      <td>0</td>\n",
              "      <td>143</td>\n",
              "      <td>1</td>\n",
              "      <td>0</td>\n",
              "      <td>0</td>\n",
              "      <td>143</td>\n",
              "      <td>0</td>\n",
              "      <td>0</td>\n",
              "      <td>0</td>\n",
              "      <td>0</td>\n",
              "      <td>0</td>\n",
              "      <td>0</td>\n",
              "      <td>Mujer</td>\n",
              "    </tr>\n",
              "  </tbody>\n",
              "</table>\n",
              "<p>2944874 rows × 16 columns</p>\n",
              "</div>"
            ],
            "text/plain": [
              "                cuit  default  deuda_total  ...  E6  otros  genero\n",
              "0        20000079643        1           16  ...  16      0  Hombre\n",
              "1        20000110680        0            3  ...   0      0  Hombre\n",
              "2        20000143368        0           11  ...   0      0  Hombre\n",
              "3        20000297713        0           67  ...   0      0  Hombre\n",
              "4        20000788261        0            9  ...   0      0  Hombre\n",
              "...              ...      ...          ...  ...  ..    ...     ...\n",
              "2961586  27999014327        0            8  ...   0      0   Mujer\n",
              "2961587  27999015471        0          149  ...   0      0   Mujer\n",
              "2961588  27999019825        0          118  ...   0      0   Mujer\n",
              "2961589  27999019965        0           50  ...   0      0   Mujer\n",
              "2961590  27999024462        0          143  ...   0      0   Mujer\n",
              "\n",
              "[2944874 rows x 16 columns]"
            ]
          },
          "metadata": {},
          "execution_count": 42
        }
      ]
    },
    {
      "cell_type": "code",
      "source": [
        "df_fisica2 = pd.concat([df_otros, df_fisica], axis=0)"
      ],
      "metadata": {
        "id": "dj6aejz16py8"
      },
      "execution_count": null,
      "outputs": []
    },
    {
      "cell_type": "code",
      "source": [
        "df_fisica2"
      ],
      "metadata": {
        "colab": {
          "base_uri": "https://localhost:8080/",
          "height": 423
        },
        "id": "XKgsxd37Bz5I",
        "outputId": "3683713a-f148-4355-8f17-4bdf76119176"
      },
      "execution_count": null,
      "outputs": [
        {
          "output_type": "execute_result",
          "data": {
            "text/html": [
              "<div>\n",
              "<style scoped>\n",
              "    .dataframe tbody tr th:only-of-type {\n",
              "        vertical-align: middle;\n",
              "    }\n",
              "\n",
              "    .dataframe tbody tr th {\n",
              "        vertical-align: top;\n",
              "    }\n",
              "\n",
              "    .dataframe thead th {\n",
              "        text-align: right;\n",
              "    }\n",
              "</style>\n",
              "<table border=\"1\" class=\"dataframe\">\n",
              "  <thead>\n",
              "    <tr style=\"text-align: right;\">\n",
              "      <th></th>\n",
              "      <th>cuit</th>\n",
              "      <th>default</th>\n",
              "      <th>deuda_total</th>\n",
              "      <th>deuda_default</th>\n",
              "      <th>deuda_ok</th>\n",
              "      <th>mujer</th>\n",
              "      <th>empresa</th>\n",
              "      <th>hombre</th>\n",
              "      <th>E1</th>\n",
              "      <th>E2</th>\n",
              "      <th>E3</th>\n",
              "      <th>E4</th>\n",
              "      <th>E5</th>\n",
              "      <th>E6</th>\n",
              "      <th>otros</th>\n",
              "      <th>genero</th>\n",
              "    </tr>\n",
              "  </thead>\n",
              "  <tbody>\n",
              "    <tr>\n",
              "      <th>1361489</th>\n",
              "      <td>23006665543</td>\n",
              "      <td>0</td>\n",
              "      <td>15</td>\n",
              "      <td>0</td>\n",
              "      <td>15</td>\n",
              "      <td>0</td>\n",
              "      <td>0</td>\n",
              "      <td>0</td>\n",
              "      <td>15</td>\n",
              "      <td>0</td>\n",
              "      <td>0</td>\n",
              "      <td>0</td>\n",
              "      <td>0</td>\n",
              "      <td>0</td>\n",
              "      <td>1</td>\n",
              "      <td>Otro</td>\n",
              "    </tr>\n",
              "    <tr>\n",
              "      <th>1361937</th>\n",
              "      <td>23016840777</td>\n",
              "      <td>0</td>\n",
              "      <td>5</td>\n",
              "      <td>0</td>\n",
              "      <td>5</td>\n",
              "      <td>0</td>\n",
              "      <td>0</td>\n",
              "      <td>0</td>\n",
              "      <td>5</td>\n",
              "      <td>0</td>\n",
              "      <td>0</td>\n",
              "      <td>0</td>\n",
              "      <td>0</td>\n",
              "      <td>0</td>\n",
              "      <td>1</td>\n",
              "      <td>Otro</td>\n",
              "    </tr>\n",
              "    <tr>\n",
              "      <th>1361952</th>\n",
              "      <td>23017174843</td>\n",
              "      <td>0</td>\n",
              "      <td>10</td>\n",
              "      <td>0</td>\n",
              "      <td>10</td>\n",
              "      <td>0</td>\n",
              "      <td>0</td>\n",
              "      <td>0</td>\n",
              "      <td>10</td>\n",
              "      <td>0</td>\n",
              "      <td>0</td>\n",
              "      <td>0</td>\n",
              "      <td>0</td>\n",
              "      <td>0</td>\n",
              "      <td>1</td>\n",
              "      <td>Otro</td>\n",
              "    </tr>\n",
              "    <tr>\n",
              "      <th>1362390</th>\n",
              "      <td>23023845113</td>\n",
              "      <td>0</td>\n",
              "      <td>20</td>\n",
              "      <td>0</td>\n",
              "      <td>20</td>\n",
              "      <td>0</td>\n",
              "      <td>0</td>\n",
              "      <td>0</td>\n",
              "      <td>20</td>\n",
              "      <td>0</td>\n",
              "      <td>0</td>\n",
              "      <td>0</td>\n",
              "      <td>0</td>\n",
              "      <td>0</td>\n",
              "      <td>1</td>\n",
              "      <td>Otro</td>\n",
              "    </tr>\n",
              "    <tr>\n",
              "      <th>1362877</th>\n",
              "      <td>23029285233</td>\n",
              "      <td>0</td>\n",
              "      <td>8</td>\n",
              "      <td>0</td>\n",
              "      <td>8</td>\n",
              "      <td>0</td>\n",
              "      <td>0</td>\n",
              "      <td>0</td>\n",
              "      <td>8</td>\n",
              "      <td>0</td>\n",
              "      <td>0</td>\n",
              "      <td>0</td>\n",
              "      <td>0</td>\n",
              "      <td>0</td>\n",
              "      <td>1</td>\n",
              "      <td>Otro</td>\n",
              "    </tr>\n",
              "    <tr>\n",
              "      <th>...</th>\n",
              "      <td>...</td>\n",
              "      <td>...</td>\n",
              "      <td>...</td>\n",
              "      <td>...</td>\n",
              "      <td>...</td>\n",
              "      <td>...</td>\n",
              "      <td>...</td>\n",
              "      <td>...</td>\n",
              "      <td>...</td>\n",
              "      <td>...</td>\n",
              "      <td>...</td>\n",
              "      <td>...</td>\n",
              "      <td>...</td>\n",
              "      <td>...</td>\n",
              "      <td>...</td>\n",
              "      <td>...</td>\n",
              "    </tr>\n",
              "    <tr>\n",
              "      <th>2961586</th>\n",
              "      <td>27999014327</td>\n",
              "      <td>0</td>\n",
              "      <td>8</td>\n",
              "      <td>0</td>\n",
              "      <td>8</td>\n",
              "      <td>1</td>\n",
              "      <td>0</td>\n",
              "      <td>0</td>\n",
              "      <td>8</td>\n",
              "      <td>0</td>\n",
              "      <td>0</td>\n",
              "      <td>0</td>\n",
              "      <td>0</td>\n",
              "      <td>0</td>\n",
              "      <td>0</td>\n",
              "      <td>Mujer</td>\n",
              "    </tr>\n",
              "    <tr>\n",
              "      <th>2961587</th>\n",
              "      <td>27999015471</td>\n",
              "      <td>0</td>\n",
              "      <td>149</td>\n",
              "      <td>0</td>\n",
              "      <td>149</td>\n",
              "      <td>1</td>\n",
              "      <td>0</td>\n",
              "      <td>0</td>\n",
              "      <td>149</td>\n",
              "      <td>0</td>\n",
              "      <td>0</td>\n",
              "      <td>0</td>\n",
              "      <td>0</td>\n",
              "      <td>0</td>\n",
              "      <td>0</td>\n",
              "      <td>Mujer</td>\n",
              "    </tr>\n",
              "    <tr>\n",
              "      <th>2961588</th>\n",
              "      <td>27999019825</td>\n",
              "      <td>0</td>\n",
              "      <td>118</td>\n",
              "      <td>0</td>\n",
              "      <td>118</td>\n",
              "      <td>1</td>\n",
              "      <td>0</td>\n",
              "      <td>0</td>\n",
              "      <td>118</td>\n",
              "      <td>0</td>\n",
              "      <td>0</td>\n",
              "      <td>0</td>\n",
              "      <td>0</td>\n",
              "      <td>0</td>\n",
              "      <td>0</td>\n",
              "      <td>Mujer</td>\n",
              "    </tr>\n",
              "    <tr>\n",
              "      <th>2961589</th>\n",
              "      <td>27999019965</td>\n",
              "      <td>0</td>\n",
              "      <td>50</td>\n",
              "      <td>0</td>\n",
              "      <td>50</td>\n",
              "      <td>1</td>\n",
              "      <td>0</td>\n",
              "      <td>0</td>\n",
              "      <td>50</td>\n",
              "      <td>0</td>\n",
              "      <td>0</td>\n",
              "      <td>0</td>\n",
              "      <td>0</td>\n",
              "      <td>0</td>\n",
              "      <td>0</td>\n",
              "      <td>Mujer</td>\n",
              "    </tr>\n",
              "    <tr>\n",
              "      <th>2961590</th>\n",
              "      <td>27999024462</td>\n",
              "      <td>0</td>\n",
              "      <td>143</td>\n",
              "      <td>0</td>\n",
              "      <td>143</td>\n",
              "      <td>1</td>\n",
              "      <td>0</td>\n",
              "      <td>0</td>\n",
              "      <td>143</td>\n",
              "      <td>0</td>\n",
              "      <td>0</td>\n",
              "      <td>0</td>\n",
              "      <td>0</td>\n",
              "      <td>0</td>\n",
              "      <td>0</td>\n",
              "      <td>Mujer</td>\n",
              "    </tr>\n",
              "  </tbody>\n",
              "</table>\n",
              "<p>2961591 rows × 16 columns</p>\n",
              "</div>"
            ],
            "text/plain": [
              "                cuit  default  deuda_total  deuda_default  ...  E5  E6  otros  genero\n",
              "1361489  23006665543        0           15              0  ...   0   0      1    Otro\n",
              "1361937  23016840777        0            5              0  ...   0   0      1    Otro\n",
              "1361952  23017174843        0           10              0  ...   0   0      1    Otro\n",
              "1362390  23023845113        0           20              0  ...   0   0      1    Otro\n",
              "1362877  23029285233        0            8              0  ...   0   0      1    Otro\n",
              "...              ...      ...          ...            ...  ...  ..  ..    ...     ...\n",
              "2961586  27999014327        0            8              0  ...   0   0      0   Mujer\n",
              "2961587  27999015471        0          149              0  ...   0   0      0   Mujer\n",
              "2961588  27999019825        0          118              0  ...   0   0      0   Mujer\n",
              "2961589  27999019965        0           50              0  ...   0   0      0   Mujer\n",
              "2961590  27999024462        0          143              0  ...   0   0      0   Mujer\n",
              "\n",
              "[2961591 rows x 16 columns]"
            ]
          },
          "metadata": {},
          "execution_count": 44
        }
      ]
    },
    {
      "cell_type": "code",
      "source": [
        "df_fisica2['moroso'] = np.where(df_fisica2['default'] >= 1 , 1,0)"
      ],
      "metadata": {
        "id": "fQDENmY_GWZG"
      },
      "execution_count": null,
      "outputs": []
    },
    {
      "cell_type": "code",
      "source": [
        "df_fisica2[['cuit','genero','deuda_total']].groupby('genero').count()"
      ],
      "metadata": {
        "colab": {
          "base_uri": "https://localhost:8080/",
          "height": 174
        },
        "id": "YY87B9E1CDt_",
        "outputId": "a1140817-a524-43c6-a631-34a1766221aa"
      },
      "execution_count": null,
      "outputs": [
        {
          "output_type": "execute_result",
          "data": {
            "text/html": [
              "<div>\n",
              "<style scoped>\n",
              "    .dataframe tbody tr th:only-of-type {\n",
              "        vertical-align: middle;\n",
              "    }\n",
              "\n",
              "    .dataframe tbody tr th {\n",
              "        vertical-align: top;\n",
              "    }\n",
              "\n",
              "    .dataframe thead th {\n",
              "        text-align: right;\n",
              "    }\n",
              "</style>\n",
              "<table border=\"1\" class=\"dataframe\">\n",
              "  <thead>\n",
              "    <tr style=\"text-align: right;\">\n",
              "      <th></th>\n",
              "      <th>cuit</th>\n",
              "      <th>deuda_total</th>\n",
              "    </tr>\n",
              "    <tr>\n",
              "      <th>genero</th>\n",
              "      <th></th>\n",
              "      <th></th>\n",
              "    </tr>\n",
              "  </thead>\n",
              "  <tbody>\n",
              "    <tr>\n",
              "      <th>Hombre</th>\n",
              "      <td>1497762</td>\n",
              "      <td>1497762</td>\n",
              "    </tr>\n",
              "    <tr>\n",
              "      <th>Mujer</th>\n",
              "      <td>1447112</td>\n",
              "      <td>1447112</td>\n",
              "    </tr>\n",
              "    <tr>\n",
              "      <th>Otro</th>\n",
              "      <td>16717</td>\n",
              "      <td>16717</td>\n",
              "    </tr>\n",
              "  </tbody>\n",
              "</table>\n",
              "</div>"
            ],
            "text/plain": [
              "           cuit  deuda_total\n",
              "genero                      \n",
              "Hombre  1497762      1497762\n",
              "Mujer   1447112      1447112\n",
              "Otro      16717        16717"
            ]
          },
          "metadata": {},
          "execution_count": 46
        }
      ]
    },
    {
      "cell_type": "code",
      "source": [
        "df_fisica2"
      ],
      "metadata": {
        "colab": {
          "base_uri": "https://localhost:8080/",
          "height": 423
        },
        "id": "j68hbrwWHlo3",
        "outputId": "611022b9-0447-4ddf-8ee9-dc8d7a94a543"
      },
      "execution_count": null,
      "outputs": [
        {
          "output_type": "execute_result",
          "data": {
            "text/html": [
              "<div>\n",
              "<style scoped>\n",
              "    .dataframe tbody tr th:only-of-type {\n",
              "        vertical-align: middle;\n",
              "    }\n",
              "\n",
              "    .dataframe tbody tr th {\n",
              "        vertical-align: top;\n",
              "    }\n",
              "\n",
              "    .dataframe thead th {\n",
              "        text-align: right;\n",
              "    }\n",
              "</style>\n",
              "<table border=\"1\" class=\"dataframe\">\n",
              "  <thead>\n",
              "    <tr style=\"text-align: right;\">\n",
              "      <th></th>\n",
              "      <th>cuit</th>\n",
              "      <th>default</th>\n",
              "      <th>deuda_total</th>\n",
              "      <th>deuda_default</th>\n",
              "      <th>deuda_ok</th>\n",
              "      <th>mujer</th>\n",
              "      <th>empresa</th>\n",
              "      <th>hombre</th>\n",
              "      <th>E1</th>\n",
              "      <th>E2</th>\n",
              "      <th>E3</th>\n",
              "      <th>E4</th>\n",
              "      <th>E5</th>\n",
              "      <th>E6</th>\n",
              "      <th>otros</th>\n",
              "      <th>genero</th>\n",
              "      <th>moroso</th>\n",
              "    </tr>\n",
              "  </thead>\n",
              "  <tbody>\n",
              "    <tr>\n",
              "      <th>1361489</th>\n",
              "      <td>23006665543</td>\n",
              "      <td>0</td>\n",
              "      <td>15</td>\n",
              "      <td>0</td>\n",
              "      <td>15</td>\n",
              "      <td>0</td>\n",
              "      <td>0</td>\n",
              "      <td>0</td>\n",
              "      <td>15</td>\n",
              "      <td>0</td>\n",
              "      <td>0</td>\n",
              "      <td>0</td>\n",
              "      <td>0</td>\n",
              "      <td>0</td>\n",
              "      <td>1</td>\n",
              "      <td>Otro</td>\n",
              "      <td>0</td>\n",
              "    </tr>\n",
              "    <tr>\n",
              "      <th>1361937</th>\n",
              "      <td>23016840777</td>\n",
              "      <td>0</td>\n",
              "      <td>5</td>\n",
              "      <td>0</td>\n",
              "      <td>5</td>\n",
              "      <td>0</td>\n",
              "      <td>0</td>\n",
              "      <td>0</td>\n",
              "      <td>5</td>\n",
              "      <td>0</td>\n",
              "      <td>0</td>\n",
              "      <td>0</td>\n",
              "      <td>0</td>\n",
              "      <td>0</td>\n",
              "      <td>1</td>\n",
              "      <td>Otro</td>\n",
              "      <td>0</td>\n",
              "    </tr>\n",
              "    <tr>\n",
              "      <th>1361952</th>\n",
              "      <td>23017174843</td>\n",
              "      <td>0</td>\n",
              "      <td>10</td>\n",
              "      <td>0</td>\n",
              "      <td>10</td>\n",
              "      <td>0</td>\n",
              "      <td>0</td>\n",
              "      <td>0</td>\n",
              "      <td>10</td>\n",
              "      <td>0</td>\n",
              "      <td>0</td>\n",
              "      <td>0</td>\n",
              "      <td>0</td>\n",
              "      <td>0</td>\n",
              "      <td>1</td>\n",
              "      <td>Otro</td>\n",
              "      <td>0</td>\n",
              "    </tr>\n",
              "    <tr>\n",
              "      <th>1362390</th>\n",
              "      <td>23023845113</td>\n",
              "      <td>0</td>\n",
              "      <td>20</td>\n",
              "      <td>0</td>\n",
              "      <td>20</td>\n",
              "      <td>0</td>\n",
              "      <td>0</td>\n",
              "      <td>0</td>\n",
              "      <td>20</td>\n",
              "      <td>0</td>\n",
              "      <td>0</td>\n",
              "      <td>0</td>\n",
              "      <td>0</td>\n",
              "      <td>0</td>\n",
              "      <td>1</td>\n",
              "      <td>Otro</td>\n",
              "      <td>0</td>\n",
              "    </tr>\n",
              "    <tr>\n",
              "      <th>1362877</th>\n",
              "      <td>23029285233</td>\n",
              "      <td>0</td>\n",
              "      <td>8</td>\n",
              "      <td>0</td>\n",
              "      <td>8</td>\n",
              "      <td>0</td>\n",
              "      <td>0</td>\n",
              "      <td>0</td>\n",
              "      <td>8</td>\n",
              "      <td>0</td>\n",
              "      <td>0</td>\n",
              "      <td>0</td>\n",
              "      <td>0</td>\n",
              "      <td>0</td>\n",
              "      <td>1</td>\n",
              "      <td>Otro</td>\n",
              "      <td>0</td>\n",
              "    </tr>\n",
              "    <tr>\n",
              "      <th>...</th>\n",
              "      <td>...</td>\n",
              "      <td>...</td>\n",
              "      <td>...</td>\n",
              "      <td>...</td>\n",
              "      <td>...</td>\n",
              "      <td>...</td>\n",
              "      <td>...</td>\n",
              "      <td>...</td>\n",
              "      <td>...</td>\n",
              "      <td>...</td>\n",
              "      <td>...</td>\n",
              "      <td>...</td>\n",
              "      <td>...</td>\n",
              "      <td>...</td>\n",
              "      <td>...</td>\n",
              "      <td>...</td>\n",
              "      <td>...</td>\n",
              "    </tr>\n",
              "    <tr>\n",
              "      <th>2961586</th>\n",
              "      <td>27999014327</td>\n",
              "      <td>0</td>\n",
              "      <td>8</td>\n",
              "      <td>0</td>\n",
              "      <td>8</td>\n",
              "      <td>1</td>\n",
              "      <td>0</td>\n",
              "      <td>0</td>\n",
              "      <td>8</td>\n",
              "      <td>0</td>\n",
              "      <td>0</td>\n",
              "      <td>0</td>\n",
              "      <td>0</td>\n",
              "      <td>0</td>\n",
              "      <td>0</td>\n",
              "      <td>Mujer</td>\n",
              "      <td>0</td>\n",
              "    </tr>\n",
              "    <tr>\n",
              "      <th>2961587</th>\n",
              "      <td>27999015471</td>\n",
              "      <td>0</td>\n",
              "      <td>149</td>\n",
              "      <td>0</td>\n",
              "      <td>149</td>\n",
              "      <td>1</td>\n",
              "      <td>0</td>\n",
              "      <td>0</td>\n",
              "      <td>149</td>\n",
              "      <td>0</td>\n",
              "      <td>0</td>\n",
              "      <td>0</td>\n",
              "      <td>0</td>\n",
              "      <td>0</td>\n",
              "      <td>0</td>\n",
              "      <td>Mujer</td>\n",
              "      <td>0</td>\n",
              "    </tr>\n",
              "    <tr>\n",
              "      <th>2961588</th>\n",
              "      <td>27999019825</td>\n",
              "      <td>0</td>\n",
              "      <td>118</td>\n",
              "      <td>0</td>\n",
              "      <td>118</td>\n",
              "      <td>1</td>\n",
              "      <td>0</td>\n",
              "      <td>0</td>\n",
              "      <td>118</td>\n",
              "      <td>0</td>\n",
              "      <td>0</td>\n",
              "      <td>0</td>\n",
              "      <td>0</td>\n",
              "      <td>0</td>\n",
              "      <td>0</td>\n",
              "      <td>Mujer</td>\n",
              "      <td>0</td>\n",
              "    </tr>\n",
              "    <tr>\n",
              "      <th>2961589</th>\n",
              "      <td>27999019965</td>\n",
              "      <td>0</td>\n",
              "      <td>50</td>\n",
              "      <td>0</td>\n",
              "      <td>50</td>\n",
              "      <td>1</td>\n",
              "      <td>0</td>\n",
              "      <td>0</td>\n",
              "      <td>50</td>\n",
              "      <td>0</td>\n",
              "      <td>0</td>\n",
              "      <td>0</td>\n",
              "      <td>0</td>\n",
              "      <td>0</td>\n",
              "      <td>0</td>\n",
              "      <td>Mujer</td>\n",
              "      <td>0</td>\n",
              "    </tr>\n",
              "    <tr>\n",
              "      <th>2961590</th>\n",
              "      <td>27999024462</td>\n",
              "      <td>0</td>\n",
              "      <td>143</td>\n",
              "      <td>0</td>\n",
              "      <td>143</td>\n",
              "      <td>1</td>\n",
              "      <td>0</td>\n",
              "      <td>0</td>\n",
              "      <td>143</td>\n",
              "      <td>0</td>\n",
              "      <td>0</td>\n",
              "      <td>0</td>\n",
              "      <td>0</td>\n",
              "      <td>0</td>\n",
              "      <td>0</td>\n",
              "      <td>Mujer</td>\n",
              "      <td>0</td>\n",
              "    </tr>\n",
              "  </tbody>\n",
              "</table>\n",
              "<p>2961591 rows × 17 columns</p>\n",
              "</div>"
            ],
            "text/plain": [
              "                cuit  default  deuda_total  ...  otros  genero  moroso\n",
              "1361489  23006665543        0           15  ...      1    Otro       0\n",
              "1361937  23016840777        0            5  ...      1    Otro       0\n",
              "1361952  23017174843        0           10  ...      1    Otro       0\n",
              "1362390  23023845113        0           20  ...      1    Otro       0\n",
              "1362877  23029285233        0            8  ...      1    Otro       0\n",
              "...              ...      ...          ...  ...    ...     ...     ...\n",
              "2961586  27999014327        0            8  ...      0   Mujer       0\n",
              "2961587  27999015471        0          149  ...      0   Mujer       0\n",
              "2961588  27999019825        0          118  ...      0   Mujer       0\n",
              "2961589  27999019965        0           50  ...      0   Mujer       0\n",
              "2961590  27999024462        0          143  ...      0   Mujer       0\n",
              "\n",
              "[2961591 rows x 17 columns]"
            ]
          },
          "metadata": {},
          "execution_count": 47
        }
      ]
    },
    {
      "cell_type": "code",
      "source": [
        "pd.crosstab(index=df_fisica2['genero'],\n",
        "            #index=df_G,\n",
        "            columns=df_fisica2['moroso']\n",
        "                  ).apply(lambda r: r/r.sum()*100,\n",
        "                          axis=1).plot(kind='bar', stacked=True,figsize=(8,5))\n",
        "plt.title(\"default según tipo_persona\")\n",
        "plt.xlabel(\"tipo_persona\")\n",
        "plt.ylabel(\"default\")\n",
        "plt.legend"
      ],
      "metadata": {
        "colab": {
          "base_uri": "https://localhost:8080/",
          "height": 398
        },
        "id": "88GE6dA8H8EQ",
        "outputId": "6bb23c29-4cd0-4dde-84f8-61ade43ea520"
      },
      "execution_count": null,
      "outputs": [
        {
          "output_type": "execute_result",
          "data": {
            "text/plain": [
              "<function matplotlib.pyplot.legend>"
            ]
          },
          "metadata": {},
          "execution_count": 48
        },
        {
          "output_type": "display_data",
          "data": {
            "image/png": "[encoded data removed]",
            "text/plain": [
              "<Figure size 576x360 with 1 Axes>"
            ]
          },
          "metadata": {
            "needs_background": "light"
          }
        }
      ]
    },
    {
      "cell_type": "markdown",
      "source": [
        "No se notan diferencias en el nivel de morosidad de las personas físicas según su genero. Tanto hombres, mujeres y aquellos sin genero definido poseen una proporción similar de morosos (alrededor de un 80%)."
      ],
      "metadata": {
        "id": "TTMISKkHIXjT"
      }
    },
    {
      "cell_type": "code",
      "source": [
        "# Distribucion de monto de credito por tipo de persona\n",
        "sns.boxplot(x='genero', y='deuda_total', data=df_fisica2)"
      ],
      "metadata": {
        "colab": {
          "base_uri": "https://localhost:8080/",
          "height": 296
        },
        "id": "Ateoqt5ALb62",
        "outputId": "2809402d-8e80-43cf-f63a-63a80a6eb025"
      },
      "execution_count": null,
      "outputs": [
        {
          "output_type": "execute_result",
          "data": {
            "text/plain": [
              "<matplotlib.axes._subplots.AxesSubplot at 0x7f908e77dc50>"
            ]
          },
          "metadata": {},
          "execution_count": 49
        },
        {
          "output_type": "display_data",
          "data": {
            "image/png": "[encoded data removed]",
            "text/plain": [
              "<Figure size 432x288 with 1 Axes>"
            ]
          },
          "metadata": {
            "needs_background": "light"
          }
        }
      ]
    },
    {
      "cell_type": "markdown",
      "source": [
        "Podemos observar que las deudas del género masculino tienen mayor dispersión que las deudas de las mujeres, siendo además montos más elevados. También podemos observar que tienen ligeramente más deuda en default."
      ],
      "metadata": {
        "id": "zjM-6spUMPhG"
      }
    }
  ]
}