{
  "nbformat": 4,
  "nbformat_minor": 0,
  "metadata": {
    "colab": {
      "name": "TP4-G10_01_Preprocesamiento.ipynb",
      "provenance": [],
      "collapsed_sections": []
    },
    "kernelspec": {
      "display_name": "Python 3",
      "name": "python3"
    },
    "language_info": {
      "name": "python"
    },
    "accelerator": "GPU"
  },
  "cells": [
    {
      "cell_type": "markdown",
      "metadata": {
        "id": "MeYj4suhwThx"
      },
      "source": [
        "![img](https://drive.google.com/uc?export=view&id=1kgX98Ziw9LzgBCT2BxChttfrTcBltLej)"
      ]
    },
    {
      "cell_type": "markdown",
      "metadata": {
        "id": "zwrKE0ZywS8d"
      },
      "source": [
        "\n",
        "\n",
        "\n",
        "##### **MÓDULO 4: APLICACIONES INFORMÁTICAS**\n",
        "\n",
        "##### **Integrantes:**\n",
        "\n",
        "- Carolina Castelvetri\n",
        "- Consuelo Nuñez\n",
        "- Jorge Sarrouf\n",
        "- Lucas Gette\n",
        "- Martin Boccardo\n",
        "\n",
        "\n",
        "----"
      ]
    },
    {
      "cell_type": "markdown",
      "metadata": {
        "id": "_Pe4MgHWxhJE"
      },
      "source": [
        "## **Objetivo**\n",
        "\n",
        "A partir de la información obtenida de la **Central de Deudores del BCRA**, nuestro objetivo es realizar un análisis exhaustivo de las personas que se encuentran dentro del dataset y poder realizar un clustering en base a los tipos de personas, al género en caso de la personas físicas, al monto de deuda, al tipo de entidad que otorgó el crédito y a si la deuda se encuentra en default o no. De esta manera buscamos conformar distintos grupos de deudores que nos permitan realizar comparaciones interesantes y útiles entre los mismos.\n"
      ]
    },
    {
      "cell_type": "markdown",
      "metadata": {
        "id": "R9XDP8Ea9pEj"
      },
      "source": [
        "## Dataset\n",
        "\n",
        "Para la realización de este trabajo vamos a utilizar un conjunto de datos que componen la Central de Deudores del  Sistema  Financiero, provista por el [BCRA](http://www.bcra.gob.ar/BCRAyVos/Situacion_Crediticia.asp).\n",
        "\n",
        "Los datos corresponden a información consolidada por clave de identificación fiscal (CUIT, CUIL o CDI) respecto de financiaciones otorgadas por entidades financieras, fideicomisos financieros, entidades no financieras emisoras de tarjetas de crédito / compra, otros proveedores no financieros de créditos, sociedades de garantía recíproca y fondos de garantía de carácter público y, además, cheques rechazados.\n",
        "\n",
        "\n",
        "\n",
        "### Variables\n",
        "\n",
        "| Nombre      | Descripción |\n",
        "| ----------- | ----------- |\n",
        "| **codigo_entidad**  | código de la entidad |      \n",
        "| **fecha_informacion**    | año y mes |\n",
        "| **cuit** | clave única de identificación tributaria |\n",
        "| **situacion_deuda**   | 1 y 2 no es mora; 3 o más es mora |\n",
        "| **credito**     | monto adeudado |\n",
        "| **garan_otorgadas**   |  |\n",
        "| **otros_conceptos**  |  |\n",
        "| **garan_pref_auto_liq**   |  |\n",
        "| **garan_pref**    |  |\n",
        "| **c_garan_pref_auto_liq**    |  |\n",
        "| **c_otr_gran_pref**    |  |\n",
        "\n",
        "\n",
        "Nota: Los importes están expresados en miles de pesos con un decimal.\n"
      ]
    },
    {
      "cell_type": "markdown",
      "metadata": {
        "id": "h6WMqK1B-po_"
      },
      "source": [
        "## Parte 1: Análisis y visualización"
      ]
    },
    {
      "cell_type": "code",
      "metadata": {
        "id": "IdBG3MQ6-3Qe"
      },
      "source": [
        "#Librerías generales\n",
        "import pandas as pd\n",
        "import numpy as np\n",
        "from numpy import mean, std\n",
        "from pandas.api.types import is_numeric_dtype\n"
      ],
      "execution_count": null,
      "outputs": []
    },
    {
      "cell_type": "code",
      "metadata": {
        "colab": {
          "base_uri": "https://localhost:8080/",
          "height": 212
        },
        "id": "72Nzpkif_eev",
        "outputId": "c65fb1d6-cdca-4764-9a4c-3a7c6a3d3fc8"
      },
      "source": [
        "#Leemos el dataset\n",
        "from google.colab import drive\n",
        "drive.mount('/content/drive') \n",
        "df = pd.read_stata(\"/content/drive/MyDrive/TP4 - Grupo 10/BCRA202108.dta\")\n",
        "df.head(4) "
      ],
      "execution_count": null,
      "outputs": [
        {
          "output_type": "stream",
          "name": "stdout",
          "text": [
            "Mounted at /content/drive\n"
          ]
        },
        {
          "output_type": "execute_result",
          "data": {
            "text/html": [
              "<div>\n",
              "<style scoped>\n",
              "    .dataframe tbody tr th:only-of-type {\n",
              "        vertical-align: middle;\n",
              "    }\n",
              "\n",
              "    .dataframe tbody tr th {\n",
              "        vertical-align: top;\n",
              "    }\n",
              "\n",
              "    .dataframe thead th {\n",
              "        text-align: right;\n",
              "    }\n",
              "</style>\n",
              "<table border=\"1\" class=\"dataframe\">\n",
              "  <thead>\n",
              "    <tr style=\"text-align: right;\">\n",
              "      <th></th>\n",
              "      <th>codigo_entidad</th>\n",
              "      <th>fecha_informacion</th>\n",
              "      <th>cuit</th>\n",
              "      <th>situacion_deuda</th>\n",
              "      <th>credito</th>\n",
              "      <th>garan_otorgadas</th>\n",
              "      <th>otros_conceptos</th>\n",
              "      <th>garan_pref_auto_liq</th>\n",
              "      <th>garan_pref</th>\n",
              "      <th>c_garan_pref_auto_liq</th>\n",
              "      <th>c_otr_gran_pref</th>\n",
              "    </tr>\n",
              "  </thead>\n",
              "  <tbody>\n",
              "    <tr>\n",
              "      <th>0</th>\n",
              "      <td>7</td>\n",
              "      <td>202108</td>\n",
              "      <td>2.001815e+10</td>\n",
              "      <td>1</td>\n",
              "      <td>23</td>\n",
              "      <td>0</td>\n",
              "      <td>0</td>\n",
              "      <td>0</td>\n",
              "      <td>0</td>\n",
              "      <td>0</td>\n",
              "      <td>0</td>\n",
              "    </tr>\n",
              "    <tr>\n",
              "      <th>1</th>\n",
              "      <td>7</td>\n",
              "      <td>202108</td>\n",
              "      <td>2.001736e+10</td>\n",
              "      <td>1</td>\n",
              "      <td>6</td>\n",
              "      <td>0</td>\n",
              "      <td>0</td>\n",
              "      <td>0</td>\n",
              "      <td>0</td>\n",
              "      <td>0</td>\n",
              "      <td>0</td>\n",
              "    </tr>\n",
              "    <tr>\n",
              "      <th>2</th>\n",
              "      <td>7</td>\n",
              "      <td>202108</td>\n",
              "      <td>2.001677e+10</td>\n",
              "      <td>1</td>\n",
              "      <td>185</td>\n",
              "      <td>0</td>\n",
              "      <td>0</td>\n",
              "      <td>0</td>\n",
              "      <td>0</td>\n",
              "      <td>0</td>\n",
              "      <td>0</td>\n",
              "    </tr>\n",
              "    <tr>\n",
              "      <th>3</th>\n",
              "      <td>7</td>\n",
              "      <td>202108</td>\n",
              "      <td>2.000597e+10</td>\n",
              "      <td>1</td>\n",
              "      <td>201</td>\n",
              "      <td>0</td>\n",
              "      <td>0</td>\n",
              "      <td>0</td>\n",
              "      <td>0</td>\n",
              "      <td>0</td>\n",
              "      <td>0</td>\n",
              "    </tr>\n",
              "  </tbody>\n",
              "</table>\n",
              "</div>"
            ],
            "text/plain": [
              "   codigo_entidad  fecha_informacion  ...  c_garan_pref_auto_liq  c_otr_gran_pref\n",
              "0               7             202108  ...                      0                0\n",
              "1               7             202108  ...                      0                0\n",
              "2               7             202108  ...                      0                0\n",
              "3               7             202108  ...                      0                0\n",
              "\n",
              "[4 rows x 11 columns]"
            ]
          },
          "metadata": {},
          "execution_count": 2
        }
      ]
    },
    {
      "cell_type": "code",
      "metadata": {
        "colab": {
          "base_uri": "https://localhost:8080/"
        },
        "id": "8hfxt-CBANGT",
        "outputId": "d2b8de2b-d89f-46de-df3f-9f116a40f770"
      },
      "source": [
        "print(f'El set de datos contiene {df.shape[0]:,} filas y {df.shape[1]:,} columnas.')"
      ],
      "execution_count": null,
      "outputs": [
        {
          "output_type": "stream",
          "name": "stdout",
          "text": [
            "El set de datos contiene 27,712,823 filas y 11 columnas.\n"
          ]
        }
      ]
    },
    {
      "cell_type": "markdown",
      "metadata": {
        "id": "HUU7NyjCCP7A"
      },
      "source": [
        "El dataset contiene 10 características o features y la variable **situacion_deuda** que es nuestra variable objetivo. "
      ]
    },
    {
      "cell_type": "code",
      "metadata": {
        "colab": {
          "base_uri": "https://localhost:8080/"
        },
        "id": "IemBibQyAReW",
        "outputId": "b3408e2c-b61b-455e-df6c-bf5a5a964f23"
      },
      "source": [
        "df.columns.tolist()"
      ],
      "execution_count": null,
      "outputs": [
        {
          "output_type": "execute_result",
          "data": {
            "text/plain": [
              "['codigo_entidad',\n",
              " 'fecha_informacion',\n",
              " 'cuit',\n",
              " 'situacion_deuda',\n",
              " 'credito',\n",
              " 'garan_otorgadas',\n",
              " 'otros_conceptos',\n",
              " 'garan_pref_auto_liq',\n",
              " 'garan_pref',\n",
              " 'c_garan_pref_auto_liq',\n",
              " 'c_otr_gran_pref']"
            ]
          },
          "metadata": {},
          "execution_count": 4
        }
      ]
    },
    {
      "cell_type": "code",
      "metadata": {
        "colab": {
          "base_uri": "https://localhost:8080/"
        },
        "id": "CPUD50LIASQ2",
        "outputId": "1df0cc32-ce22-486a-a560-be37bd70c603"
      },
      "source": [
        "#Información básica del dataset\n",
        "df.info()"
      ],
      "execution_count": null,
      "outputs": [
        {
          "output_type": "stream",
          "name": "stdout",
          "text": [
            "<class 'pandas.core.frame.DataFrame'>\n",
            "Int64Index: 27712823 entries, 0 to 27712822\n",
            "Data columns (total 11 columns):\n",
            " #   Column                 Dtype  \n",
            "---  ------                 -----  \n",
            " 0   codigo_entidad         int32  \n",
            " 1   fecha_informacion      int32  \n",
            " 2   cuit                   float64\n",
            " 3   situacion_deuda        int8   \n",
            " 4   credito                int32  \n",
            " 5   garan_otorgadas        int32  \n",
            " 6   otros_conceptos        int32  \n",
            " 7   garan_pref_auto_liq    int32  \n",
            " 8   garan_pref             int32  \n",
            " 9   c_garan_pref_auto_liq  int32  \n",
            " 10  c_otr_gran_pref        int32  \n",
            "dtypes: float64(1), int32(9), int8(1)\n",
            "memory usage: 1.4 GB\n"
          ]
        }
      ]
    },
    {
      "cell_type": "code",
      "metadata": {
        "id": "HAl92iQeM2wU",
        "colab": {
          "base_uri": "https://localhost:8080/"
        },
        "outputId": "2c63e532-0c85-42c0-aa22-c54730af3cfa"
      },
      "source": [
        "#Resumimos la cantidad de atributos de cada tipo\n",
        "df.dtypes.value_counts()"
      ],
      "execution_count": null,
      "outputs": [
        {
          "output_type": "execute_result",
          "data": {
            "text/plain": [
              "int32      9\n",
              "float64    1\n",
              "int8       1\n",
              "dtype: int64"
            ]
          },
          "metadata": {},
          "execution_count": 6
        }
      ]
    },
    {
      "cell_type": "markdown",
      "metadata": {
        "id": "Io0_F6bHJ2za"
      },
      "source": [
        "Podemos ver que los datos son de tipo numérico:\n",
        "* int8 e int32: valores numéricos enteros\n",
        "* float64:   valores numéricos reales\n",
        "\n",
        "Algunas celdas pueden estar codificadas con un tipo de dato no correcto, por ejemplo tipo float para el Cuit. También podemos estar en presencia de datos faltantes."
      ]
    },
    {
      "cell_type": "code",
      "metadata": {
        "colab": {
          "base_uri": "https://localhost:8080/",
          "height": 320
        },
        "id": "34rx4lGC34TW",
        "outputId": "d071c844-0563-4408-c2b6-73a88806d6b7"
      },
      "source": [
        "#Visualizamos su estadistica descriptiva\n",
        "df.describe()"
      ],
      "execution_count": null,
      "outputs": [
        {
          "output_type": "execute_result",
          "data": {
            "text/html": [
              "<div>\n",
              "<style scoped>\n",
              "    .dataframe tbody tr th:only-of-type {\n",
              "        vertical-align: middle;\n",
              "    }\n",
              "\n",
              "    .dataframe tbody tr th {\n",
              "        vertical-align: top;\n",
              "    }\n",
              "\n",
              "    .dataframe thead th {\n",
              "        text-align: right;\n",
              "    }\n",
              "</style>\n",
              "<table border=\"1\" class=\"dataframe\">\n",
              "  <thead>\n",
              "    <tr style=\"text-align: right;\">\n",
              "      <th></th>\n",
              "      <th>codigo_entidad</th>\n",
              "      <th>fecha_informacion</th>\n",
              "      <th>cuit</th>\n",
              "      <th>situacion_deuda</th>\n",
              "      <th>credito</th>\n",
              "      <th>garan_otorgadas</th>\n",
              "      <th>otros_conceptos</th>\n",
              "      <th>garan_pref_auto_liq</th>\n",
              "      <th>garan_pref</th>\n",
              "      <th>c_garan_pref_auto_liq</th>\n",
              "      <th>c_otr_gran_pref</th>\n",
              "    </tr>\n",
              "  </thead>\n",
              "  <tbody>\n",
              "    <tr>\n",
              "      <th>count</th>\n",
              "      <td>2.771282e+07</td>\n",
              "      <td>2.771282e+07</td>\n",
              "      <td>2.771264e+07</td>\n",
              "      <td>2.771282e+07</td>\n",
              "      <td>2.771282e+07</td>\n",
              "      <td>2.771282e+07</td>\n",
              "      <td>2.771282e+07</td>\n",
              "      <td>2.771282e+07</td>\n",
              "      <td>2.771282e+07</td>\n",
              "      <td>2.771282e+07</td>\n",
              "      <td>2.771282e+07</td>\n",
              "    </tr>\n",
              "    <tr>\n",
              "      <th>mean</th>\n",
              "      <td>2.280977e+04</td>\n",
              "      <td>2.021080e+05</td>\n",
              "      <td>2.376405e+10</td>\n",
              "      <td>1.743988e+00</td>\n",
              "      <td>1.829726e+02</td>\n",
              "      <td>5.005858e+00</td>\n",
              "      <td>5.159526e+00</td>\n",
              "      <td>5.419818e+00</td>\n",
              "      <td>2.895848e+01</td>\n",
              "      <td>2.404680e-01</td>\n",
              "      <td>7.708424e-02</td>\n",
              "    </tr>\n",
              "    <tr>\n",
              "      <th>std</th>\n",
              "      <td>3.041873e+04</td>\n",
              "      <td>2.132295e-01</td>\n",
              "      <td>3.404231e+09</td>\n",
              "      <td>1.514063e+00</td>\n",
              "      <td>1.451817e+04</td>\n",
              "      <td>4.232894e+03</td>\n",
              "      <td>4.864758e+03</td>\n",
              "      <td>1.450520e+03</td>\n",
              "      <td>1.745435e+03</td>\n",
              "      <td>2.624301e+02</td>\n",
              "      <td>2.039704e+02</td>\n",
              "    </tr>\n",
              "    <tr>\n",
              "      <th>min</th>\n",
              "      <td>7.000000e+00</td>\n",
              "      <td>2.021060e+05</td>\n",
              "      <td>2.000000e+10</td>\n",
              "      <td>1.000000e+00</td>\n",
              "      <td>0.000000e+00</td>\n",
              "      <td>0.000000e+00</td>\n",
              "      <td>0.000000e+00</td>\n",
              "      <td>0.000000e+00</td>\n",
              "      <td>0.000000e+00</td>\n",
              "      <td>0.000000e+00</td>\n",
              "      <td>0.000000e+00</td>\n",
              "    </tr>\n",
              "    <tr>\n",
              "      <th>25%</th>\n",
              "      <td>2.000000e+01</td>\n",
              "      <td>2.021080e+05</td>\n",
              "      <td>2.026729e+10</td>\n",
              "      <td>1.000000e+00</td>\n",
              "      <td>1.100000e+01</td>\n",
              "      <td>0.000000e+00</td>\n",
              "      <td>0.000000e+00</td>\n",
              "      <td>0.000000e+00</td>\n",
              "      <td>0.000000e+00</td>\n",
              "      <td>0.000000e+00</td>\n",
              "      <td>0.000000e+00</td>\n",
              "    </tr>\n",
              "    <tr>\n",
              "      <th>50%</th>\n",
              "      <td>2.850000e+02</td>\n",
              "      <td>2.021080e+05</td>\n",
              "      <td>2.325384e+10</td>\n",
              "      <td>1.000000e+00</td>\n",
              "      <td>3.300000e+01</td>\n",
              "      <td>0.000000e+00</td>\n",
              "      <td>0.000000e+00</td>\n",
              "      <td>0.000000e+00</td>\n",
              "      <td>0.000000e+00</td>\n",
              "      <td>0.000000e+00</td>\n",
              "      <td>0.000000e+00</td>\n",
              "    </tr>\n",
              "    <tr>\n",
              "      <th>75%</th>\n",
              "      <td>5.508500e+04</td>\n",
              "      <td>2.021080e+05</td>\n",
              "      <td>2.722293e+10</td>\n",
              "      <td>1.000000e+00</td>\n",
              "      <td>8.500000e+01</td>\n",
              "      <td>0.000000e+00</td>\n",
              "      <td>0.000000e+00</td>\n",
              "      <td>0.000000e+00</td>\n",
              "      <td>0.000000e+00</td>\n",
              "      <td>0.000000e+00</td>\n",
              "      <td>0.000000e+00</td>\n",
              "    </tr>\n",
              "    <tr>\n",
              "      <th>max</th>\n",
              "      <td>7.261600e+04</td>\n",
              "      <td>2.021080e+05</td>\n",
              "      <td>3.499926e+10</td>\n",
              "      <td>1.100000e+01</td>\n",
              "      <td>3.434360e+07</td>\n",
              "      <td>1.774468e+07</td>\n",
              "      <td>2.358251e+07</td>\n",
              "      <td>3.947556e+06</td>\n",
              "      <td>5.040029e+06</td>\n",
              "      <td>8.422820e+05</td>\n",
              "      <td>1.055718e+06</td>\n",
              "    </tr>\n",
              "  </tbody>\n",
              "</table>\n",
              "</div>"
            ],
            "text/plain": [
              "       codigo_entidad  ...  c_otr_gran_pref\n",
              "count    2.771282e+07  ...     2.771282e+07\n",
              "mean     2.280977e+04  ...     7.708424e-02\n",
              "std      3.041873e+04  ...     2.039704e+02\n",
              "min      7.000000e+00  ...     0.000000e+00\n",
              "25%      2.000000e+01  ...     0.000000e+00\n",
              "50%      2.850000e+02  ...     0.000000e+00\n",
              "75%      5.508500e+04  ...     0.000000e+00\n",
              "max      7.261600e+04  ...     1.055718e+06\n",
              "\n",
              "[8 rows x 11 columns]"
            ]
          },
          "metadata": {},
          "execution_count": 7
        }
      ]
    },
    {
      "cell_type": "markdown",
      "metadata": {
        "id": "a5cM6VyEdMH_"
      },
      "source": [
        "# Preprocesamiento de datos"
      ]
    },
    {
      "cell_type": "code",
      "metadata": {
        "colab": {
          "base_uri": "https://localhost:8080/"
        },
        "id": "yuZTHPAbDemr",
        "outputId": "61d88f69-f0e8-4fc4-e839-61b2c9413145"
      },
      "source": [
        "#Detección de las variables con datos faltantes\n",
        "missing_values_count = df.isna().sum()\n",
        "missing_values_count "
      ],
      "execution_count": null,
      "outputs": [
        {
          "output_type": "execute_result",
          "data": {
            "text/plain": [
              "codigo_entidad             0\n",
              "fecha_informacion          0\n",
              "cuit                     179\n",
              "situacion_deuda            0\n",
              "credito                    0\n",
              "garan_otorgadas            0\n",
              "otros_conceptos            0\n",
              "garan_pref_auto_liq        0\n",
              "garan_pref                 0\n",
              "c_garan_pref_auto_liq      0\n",
              "c_otr_gran_pref            0\n",
              "dtype: int64"
            ]
          },
          "metadata": {},
          "execution_count": 8
        }
      ]
    },
    {
      "cell_type": "markdown",
      "metadata": {
        "id": "HiR6CddaAgK7"
      },
      "source": [
        "Solo faltan 179 datos para la variable **cuit**. Y dada la cantidad total de observaciones, decidimos eliminar estos registros.\n"
      ]
    },
    {
      "cell_type": "code",
      "metadata": {
        "id": "T-YptHG4EMP7"
      },
      "source": [
        "#Eliminamos las filas con datos faltantes\n",
        "df = df[df['cuit'].notna()]"
      ],
      "execution_count": null,
      "outputs": []
    },
    {
      "cell_type": "markdown",
      "metadata": {
        "id": "WH0GYnSgd7FC"
      },
      "source": [
        "Realizamos una descomposición de la variable **cuit** para poder identificar si se trata de empresas o personas físicas. En éste último caso poder identificar si se trata de hombres, mujeres o personas juridicas."
      ]
    },
    {
      "cell_type": "markdown",
      "metadata": {
        "id": "w0sLiac7RrB-"
      },
      "source": [
        "Como pudimos observar la variable **'cuit'** esta en formato float, por lo tanto vamos a castearla a string para poder descomponerla y poder determinar si se trata de una persona juridica o de una personal física, y en tal caso poder identificar el genero."
      ]
    },
    {
      "cell_type": "code",
      "metadata": {
        "id": "daT3HTTi8pcf"
      },
      "source": [
        "#Casteamos la variable cuit de float a string\n",
        "df['cuit'] = df['cuit'].astype(int).astype(str)"
      ],
      "execution_count": null,
      "outputs": []
    },
    {
      "cell_type": "markdown",
      "metadata": {
        "id": "cFubdtnATrtO"
      },
      "source": [
        "Agregamos nuevas variables identificando, según la codificación del cuit, si es empresa, hombre o mujer segun la siguiente tabla.\n",
        "\n",
        "![Captura de Pantalla 2021-11-25 a la(s) 11.10.17.png](data:image/png;base64,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)\n",
        "\n",
        "Fuente: https://es.wikipedia.org/wiki/Clave_%C3%9Anica_de_Identificaci%C3%B3n_Tributaria#Composici%C3%B3n"
      ]
    },
    {
      "cell_type": "code",
      "metadata": {
        "id": "UePUnWEztZPb"
      },
      "source": [
        "#generamos columnas con los datos necesarios para distinguir entre Hombre, Mujer y Empresa\n",
        "df.loc[:,['cuit_ini']] = df['cuit'].str.slice(0,2)\n",
        "df.loc[:,['cuit_fin']] = df['cuit'].str.slice(10)"
      ],
      "execution_count": null,
      "outputs": []
    },
    {
      "cell_type": "code",
      "metadata": {
        "id": "SHQwtrk2Um3x",
        "colab": {
          "base_uri": "https://localhost:8080/"
        },
        "outputId": "f611e386-82b8-4d53-fb74-f808bb6430e6"
      },
      "source": [
        "df['cuit_ini'].value_counts()"
      ],
      "execution_count": null,
      "outputs": [
        {
          "output_type": "execute_result",
          "data": {
            "text/plain": [
              "20    12523040\n",
              "27    12236121\n",
              "23     2491906\n",
              "30      307407\n",
              "24      123481\n",
              "33       30545\n",
              "34         144\n",
              "Name: cuit_ini, dtype: int64"
            ]
          },
          "metadata": {},
          "execution_count": 13
        }
      ]
    },
    {
      "cell_type": "markdown",
      "metadata": {
        "id": "0Gs8ymrtUsfv"
      },
      "source": [
        "Exploramos el Cuit 23 para saber con que digitos verificadores esta relacionado."
      ]
    },
    {
      "cell_type": "code",
      "metadata": {
        "id": "7YcHEUxJU0yt",
        "colab": {
          "base_uri": "https://localhost:8080/",
          "height": 395
        },
        "outputId": "81a87084-89da-4e63-f744-3101dc7c1998"
      },
      "source": [
        "df_23 = df.get(['cuit_ini','cuit_fin'])\n",
        "df_23 = df_23[df['cuit_ini'] == '23']\n",
        "df_23.groupby('cuit_fin').count()"
      ],
      "execution_count": null,
      "outputs": [
        {
          "output_type": "execute_result",
          "data": {
            "text/html": [
              "<div>\n",
              "<style scoped>\n",
              "    .dataframe tbody tr th:only-of-type {\n",
              "        vertical-align: middle;\n",
              "    }\n",
              "\n",
              "    .dataframe tbody tr th {\n",
              "        vertical-align: top;\n",
              "    }\n",
              "\n",
              "    .dataframe thead th {\n",
              "        text-align: right;\n",
              "    }\n",
              "</style>\n",
              "<table border=\"1\" class=\"dataframe\">\n",
              "  <thead>\n",
              "    <tr style=\"text-align: right;\">\n",
              "      <th></th>\n",
              "      <th>cuit_ini</th>\n",
              "    </tr>\n",
              "    <tr>\n",
              "      <th>cuit_fin</th>\n",
              "      <th></th>\n",
              "    </tr>\n",
              "  </thead>\n",
              "  <tbody>\n",
              "    <tr>\n",
              "      <th>0</th>\n",
              "      <td>261</td>\n",
              "    </tr>\n",
              "    <tr>\n",
              "      <th>1</th>\n",
              "      <td>263</td>\n",
              "    </tr>\n",
              "    <tr>\n",
              "      <th>2</th>\n",
              "      <td>258</td>\n",
              "    </tr>\n",
              "    <tr>\n",
              "      <th>3</th>\n",
              "      <td>12423</td>\n",
              "    </tr>\n",
              "    <tr>\n",
              "      <th>4</th>\n",
              "      <td>1224806</td>\n",
              "    </tr>\n",
              "    <tr>\n",
              "      <th>5</th>\n",
              "      <td>352</td>\n",
              "    </tr>\n",
              "    <tr>\n",
              "      <th>6</th>\n",
              "      <td>281</td>\n",
              "    </tr>\n",
              "    <tr>\n",
              "      <th>7</th>\n",
              "      <td>248</td>\n",
              "    </tr>\n",
              "    <tr>\n",
              "      <th>8</th>\n",
              "      <td>278</td>\n",
              "    </tr>\n",
              "    <tr>\n",
              "      <th>9</th>\n",
              "      <td>1252736</td>\n",
              "    </tr>\n",
              "  </tbody>\n",
              "</table>\n",
              "</div>"
            ],
            "text/plain": [
              "          cuit_ini\n",
              "cuit_fin          \n",
              "0              261\n",
              "1              263\n",
              "2              258\n",
              "3            12423\n",
              "4          1224806\n",
              "5              352\n",
              "6              281\n",
              "7              248\n",
              "8              278\n",
              "9          1252736"
            ]
          },
          "metadata": {},
          "execution_count": 14
        }
      ]
    },
    {
      "cell_type": "markdown",
      "metadata": {
        "id": "HTwLi_I4SPtx"
      },
      "source": [
        "Se considerarán solo los cuit 23 con digito verificador 4 y 9, los otros no seran tomados en cuenta ya que no podremos identificar si son hombres o mujeres. Pero esto no sera un problema porque no es significante la cantidad de registros que contienen dichos dígitos.\n",
        "\n",
        "Para el caso del cuit iniciado con el dígito 24 tampoco podemos identificar el género con la información que contamos. (analizar en el exploratorio el comportamiento de estos CUIT)\n"
      ]
    },
    {
      "cell_type": "code",
      "metadata": {
        "id": "wKeC6qjMUkCJ"
      },
      "source": [
        "df['mujer'] = np.where((df['cuit_ini']=='27') | ((df['cuit_ini']=='23') & (df['cuit_fin']=='4')), 1,0)\n",
        "df['hombre'] = np.where((df['cuit_ini']=='20') | ((df['cuit_ini']=='23') & (df['cuit_fin']=='9')), 1,0)\n",
        "df['empresa'] = np.where((df['cuit_ini']=='30') | (df['cuit_ini']=='33') | (df['cuit_ini']=='34'), 1,0)\n",
        "\n",
        "df.drop(['cuit_ini','cuit_fin'],1, inplace = True)"
      ],
      "execution_count": null,
      "outputs": []
    },
    {
      "cell_type": "code",
      "metadata": {
        "id": "hbQlHm4oT-Q3",
        "colab": {
          "base_uri": "https://localhost:8080/"
        },
        "outputId": "cfccb734-2be4-4a90-ea86-3be9a2ce8f14"
      },
      "source": [
        "df['credito'].describe().round(3)"
      ],
      "execution_count": null,
      "outputs": [
        {
          "output_type": "execute_result",
          "data": {
            "text/plain": [
              "count    2.771264e+07\n",
              "mean     1.809350e+02\n",
              "std      1.305200e+04\n",
              "min      0.000000e+00\n",
              "25%      1.100000e+01\n",
              "50%      3.300000e+01\n",
              "75%      8.500000e+01\n",
              "max      3.434360e+07\n",
              "Name: credito, dtype: float64"
            ]
          },
          "metadata": {},
          "execution_count": 16
        }
      ]
    },
    {
      "cell_type": "markdown",
      "metadata": {
        "id": "YO8Z5bP2NE9i"
      },
      "source": [
        "Podemos observar del análisis descriptivo que el minimo para el monto del crédito es igual a 0, según la descripción de la base. Ésta contiene los deudores informados por las entidades financieras. Dado que esta variable está expresada en miles de pesos, podemos asumir que estos montos corresponden a deudas entre cero y mil pesos. Por lo tanto decidimos en estos casos reemplazar el 0 por un 1. De esta forma, los valores iguales a 1 indicarían deudas cuyos montos se encuentran dentro de ese rango.\n",
        "\n",
        "Debido al amplio rango de valores en los que se mueve la variable deuda, consideramos que hacer este reemplazo no afectará nuestro análisis."
      ]
    },
    {
      "cell_type": "code",
      "metadata": {
        "colab": {
          "base_uri": "https://localhost:8080/",
          "height": 237
        },
        "id": "fhY1sxGu3M2G",
        "outputId": "4d8ba4a6-a313-4265-ab6b-7f829bb03c1c"
      },
      "source": [
        "# check deuda igual a  0\n",
        "df_0 = df[df['credito'] == 0]\n",
        "df_0 = df_0.groupby('situacion_deuda').size().sort_values(ascending = False).reset_index(name='counts')\n",
        "df_0"
      ],
      "execution_count": null,
      "outputs": [
        {
          "output_type": "execute_result",
          "data": {
            "text/html": [
              "<div>\n",
              "<style scoped>\n",
              "    .dataframe tbody tr th:only-of-type {\n",
              "        vertical-align: middle;\n",
              "    }\n",
              "\n",
              "    .dataframe tbody tr th {\n",
              "        vertical-align: top;\n",
              "    }\n",
              "\n",
              "    .dataframe thead th {\n",
              "        text-align: right;\n",
              "    }\n",
              "</style>\n",
              "<table border=\"1\" class=\"dataframe\">\n",
              "  <thead>\n",
              "    <tr style=\"text-align: right;\">\n",
              "      <th></th>\n",
              "      <th>situacion_deuda</th>\n",
              "      <th>counts</th>\n",
              "    </tr>\n",
              "  </thead>\n",
              "  <tbody>\n",
              "    <tr>\n",
              "      <th>0</th>\n",
              "      <td>5</td>\n",
              "      <td>1059468</td>\n",
              "    </tr>\n",
              "    <tr>\n",
              "      <th>1</th>\n",
              "      <td>1</td>\n",
              "      <td>12628</td>\n",
              "    </tr>\n",
              "    <tr>\n",
              "      <th>2</th>\n",
              "      <td>4</td>\n",
              "      <td>1173</td>\n",
              "    </tr>\n",
              "    <tr>\n",
              "      <th>3</th>\n",
              "      <td>3</td>\n",
              "      <td>103</td>\n",
              "    </tr>\n",
              "    <tr>\n",
              "      <th>4</th>\n",
              "      <td>2</td>\n",
              "      <td>56</td>\n",
              "    </tr>\n",
              "    <tr>\n",
              "      <th>5</th>\n",
              "      <td>11</td>\n",
              "      <td>54</td>\n",
              "    </tr>\n",
              "  </tbody>\n",
              "</table>\n",
              "</div>"
            ],
            "text/plain": [
              "   situacion_deuda   counts\n",
              "0                5  1059468\n",
              "1                1    12628\n",
              "2                4     1173\n",
              "3                3      103\n",
              "4                2       56\n",
              "5               11       54"
            ]
          },
          "metadata": {},
          "execution_count": 17
        }
      ]
    },
    {
      "cell_type": "code",
      "metadata": {
        "id": "UrvhFBRA5ECa"
      },
      "source": [
        "#Consideramos que la deuda 0, es menor a mil pesos, le ponemos 1 \n",
        "df['credito'] = np.where(df['credito'] == 0, 1, df['credito'])"
      ],
      "execution_count": null,
      "outputs": []
    },
    {
      "cell_type": "code",
      "metadata": {
        "id": "xlvae7XCPty6",
        "colab": {
          "base_uri": "https://localhost:8080/"
        },
        "outputId": "d1c09e58-e486-4d0c-bd39-5a929ad48821"
      },
      "source": [
        "#Controlamos que no queden deudas 0 de la info\n",
        "df['credito'].isna().sum()"
      ],
      "execution_count": null,
      "outputs": [
        {
          "output_type": "execute_result",
          "data": {
            "text/plain": [
              "0"
            ]
          },
          "metadata": {},
          "execution_count": 19
        }
      ]
    },
    {
      "cell_type": "code",
      "metadata": {
        "id": "DMZuQ16NQOoY",
        "colab": {
          "base_uri": "https://localhost:8080/"
        },
        "outputId": "9c9aca5c-57aa-4eb1-a9b6-0814d37a8ebe"
      },
      "source": [
        "#Columna \"fecha_informacion\"\n",
        "print(\"Los datos registrados corresponden a los siguientes \", len(df.fecha_informacion.unique ()), \"periodos:\\n\")\n",
        "print(df.fecha_informacion.unique ())"
      ],
      "execution_count": null,
      "outputs": [
        {
          "output_type": "stream",
          "name": "stdout",
          "text": [
            "Los datos registrados corresponden a los siguientes  3 periodos:\n",
            "\n",
            "[202108 202107 202106]\n"
          ]
        }
      ]
    },
    {
      "cell_type": "code",
      "metadata": {
        "id": "UB6lkTheQPzZ",
        "colab": {
          "base_uri": "https://localhost:8080/"
        },
        "outputId": "f0403ae6-de81-467f-b270-f11051a0f53d"
      },
      "source": [
        "df[\"fecha_informacion\"].value_counts()"
      ],
      "execution_count": null,
      "outputs": [
        {
          "output_type": "execute_result",
          "data": {
            "text/plain": [
              "202108    27255472\n",
              "202106      274045\n",
              "202107      183127\n",
              "Name: fecha_informacion, dtype: int64"
            ]
          },
          "metadata": {},
          "execution_count": 21
        }
      ]
    },
    {
      "cell_type": "markdown",
      "metadata": {
        "id": "JU_ysC3fQfCL"
      },
      "source": [
        "Observamos que la variable **'fecha_informacion'** presenta 3 etiquetas. La base contiene información de tres periodos, junio, julio y agosto del año 2021, donde la mayor catidad de registros se encuentra en el último periodo con una notable diferencia, lo que nos hace dudar si la información de los periodos anteriores está completa."
      ]
    },
    {
      "cell_type": "markdown",
      "metadata": {
        "id": "PrbthW8ziFuJ"
      },
      "source": [
        "Hacemos un sample de 3 millones de cuits del período 08/2021 (el mas representativo) para evitar problemas de ram. \n",
        "\n"
      ]
    },
    {
      "cell_type": "code",
      "metadata": {
        "colab": {
          "base_uri": "https://localhost:8080/"
        },
        "id": "hhUwH8CLiE-w",
        "outputId": "85bddb0f-a32d-4c41-cf8a-e9c67b8bfffc"
      },
      "source": [
        "df = df[df['fecha_informacion']==202108]\n",
        "df = df.merge(pd.DataFrame(df['cuit'].unique(), columns =['cuit']).sample(3000000),how='inner',on = 'cuit')\n",
        "\n",
        "print(f'El set nuevo de datos contiene {df.shape[0]:,} filas y {df.shape[1]:,} columnas.')\n",
        "print(f'Tenemos {df[\"cuit\"].unique().shape[0]} clientes únicos')"
      ],
      "execution_count": null,
      "outputs": [
        {
          "output_type": "stream",
          "name": "stdout",
          "text": [
            "El set nuevo de datos contiene 5,035,158 filas y 14 columnas.\n",
            "Tenemos 3000000 clientes únicos\n"
          ]
        }
      ]
    },
    {
      "cell_type": "code",
      "metadata": {
        "id": "0xiohg0sQNFy",
        "colab": {
          "base_uri": "https://localhost:8080/"
        },
        "outputId": "66087399-06b8-4acb-99b5-285c638f0303"
      },
      "source": [
        "#Visualizamos la cantidad de valores únicos de cada atributo\n",
        "df.nunique().sort_values()"
      ],
      "execution_count": null,
      "outputs": [
        {
          "output_type": "execute_result",
          "data": {
            "text/plain": [
              "fecha_informacion              1\n",
              "mujer                          2\n",
              "hombre                         2\n",
              "empresa                        2\n",
              "situacion_deuda                6\n",
              "c_garan_pref_auto_liq         91\n",
              "c_otr_gran_pref              130\n",
              "codigo_entidad               405\n",
              "garan_otorgadas              943\n",
              "otros_conceptos             1753\n",
              "garan_pref_auto_liq         3007\n",
              "garan_pref                  9302\n",
              "credito                    14459\n",
              "cuit                     3000000\n",
              "dtype: int64"
            ]
          },
          "metadata": {},
          "execution_count": 23
        }
      ]
    },
    {
      "cell_type": "markdown",
      "metadata": {
        "id": "TY2J7GNZQV-x"
      },
      "source": [
        "Creamos una nueva variable llamada '**garantías**' donde asignamos 1 a los créditos que fueron tomados con garantía y 0 a los que no presentaron garantías."
      ]
    },
    {
      "cell_type": "code",
      "metadata": {
        "id": "tIAWnn9Q63i0"
      },
      "source": [
        "# Generamos la nueva variable 'garantias'\n",
        " \n",
        "df['garantias'] = np.where(((df['garan_otorgadas'] > 0) | \n",
        "                           (df['otros_conceptos'] > 0) |\n",
        "                           (df['garan_pref_auto_liq'] > 0) | \n",
        "                           (df['garan_pref'] > 0) |\n",
        "                           (df['c_garan_pref_auto_liq'] > 0) | \n",
        "                           (df['c_otr_gran_pref'] > 0 )), 1, 0)\n",
        "\n",
        "df.drop(['garan_otorgadas'\t,'otros_conceptos',\t'garan_pref_auto_liq',\t'garan_pref',\t'c_garan_pref_auto_liq',\t'c_otr_gran_pref'],1, inplace = True)"
      ],
      "execution_count": null,
      "outputs": []
    },
    {
      "cell_type": "code",
      "metadata": {
        "id": "zpNxSQLxVi3S",
        "colab": {
          "base_uri": "https://localhost:8080/"
        },
        "outputId": "d718db1e-5cb0-4b71-a517-cb3221ab6d38"
      },
      "source": [
        "#Observamos cuántos creditos hay sin garantía y con garantía\n",
        "df['garantias'].value_counts()"
      ],
      "execution_count": null,
      "outputs": [
        {
          "output_type": "execute_result",
          "data": {
            "text/plain": [
              "0    4625855\n",
              "1     409303\n",
              "Name: garantias, dtype: int64"
            ]
          },
          "metadata": {},
          "execution_count": 25
        }
      ]
    },
    {
      "cell_type": "code",
      "metadata": {
        "id": "s5usom4vPkA2",
        "colab": {
          "base_uri": "https://localhost:8080/"
        },
        "outputId": "7b9b375a-2293-40ff-f73b-74f96eb12f2e"
      },
      "source": [
        "deuda_original = df['credito'].sum()\n",
        "print(f'Deuda del DF para control {deuda_original}')"
      ],
      "execution_count": null,
      "outputs": [
        {
          "output_type": "stream",
          "name": "stdout",
          "text": [
            "Deuda del DF para control 959591401\n"
          ]
        }
      ]
    },
    {
      "cell_type": "markdown",
      "metadata": {
        "id": "650Ve0wL_j9_"
      },
      "source": [
        "La variable '**situación_deuda**' vimos que podía adoptar 6 valores posibles, los cuales representan un incumplimiento  en el pago en tiempo y forma según la siguiente información:\n",
        "\n",
        "*  Situación 1: hasta 30 días\n",
        "*  Situación 2: hasta 90 días\n",
        "*  Situación 3: hasta 180 días\n",
        "*  Situación 4: hasta 360 días\n",
        "*  Situación 5: mas de 360 días\n",
        "*  Situación 11: incobrables\n",
        "\n",
        "Por convención se define que una deuda se considera en default si su situación de deuda es mayor a 2, por lo tanto simplicaficamos esta situación creando una nueva variable '**default**' indicando con un 1 si la deuda se encuentra en default y un 0 si no lo está."
      ]
    },
    {
      "cell_type": "code",
      "metadata": {
        "id": "iHYdi5EC_Vac",
        "colab": {
          "base_uri": "https://localhost:8080/"
        },
        "outputId": "29280a90-1f2a-4bec-a23a-0777994ab78b"
      },
      "source": [
        "#Simplicamos si el cliente tiene default con la entidad\n",
        "\n",
        "df['default'] = np.where(df['situacion_deuda'] > 2, 1,0)\n",
        "\n",
        "df.drop(['situacion_deuda'],1, inplace = True)\n",
        "\n",
        "df.info()"
      ],
      "execution_count": null,
      "outputs": [
        {
          "output_type": "stream",
          "name": "stdout",
          "text": [
            "<class 'pandas.core.frame.DataFrame'>\n",
            "Int64Index: 5035158 entries, 0 to 5035157\n",
            "Data columns (total 9 columns):\n",
            " #   Column             Dtype \n",
            "---  ------             ----- \n",
            " 0   codigo_entidad     int32 \n",
            " 1   fecha_informacion  int32 \n",
            " 2   cuit               object\n",
            " 3   credito            int32 \n",
            " 4   mujer              int64 \n",
            " 5   hombre             int64 \n",
            " 6   empresa            int64 \n",
            " 7   garantias          int64 \n",
            " 8   default            int64 \n",
            "dtypes: int32(3), int64(5), object(1)\n",
            "memory usage: 326.5+ MB\n"
          ]
        }
      ]
    },
    {
      "cell_type": "code",
      "metadata": {
        "id": "AHBEDvxnV7OF",
        "colab": {
          "base_uri": "https://localhost:8080/"
        },
        "outputId": "4fe1590d-3f2d-4f3f-fd20-4fa8fa8f4a78"
      },
      "source": [
        "#adjuntamos informacion adicional al DF\n",
        "df_tipo = pd.read_excel(\"/content/drive/MyDrive/TP4 - Grupo 10/codigos_entidades.xlsm\", dtype = {'CODIGO': int,'nombre_entidad':str,'tipo_entidad' : int})\n",
        "\n",
        "df = df.merge(df_tipo,how='left',left_on='codigo_entidad', right_on='CODIGO')\n",
        "\n",
        "df.drop(['CODIGO','nombre_entidad'],1, inplace = True)\n",
        "\n",
        "#tipo de entidad nulos los categorizamos con 6, sin dato\n",
        "df['tipo_entidad'] = df['tipo_entidad'].fillna(6)\n",
        "\n",
        "df.info()"
      ],
      "execution_count": null,
      "outputs": [
        {
          "output_type": "stream",
          "name": "stdout",
          "text": [
            "<class 'pandas.core.frame.DataFrame'>\n",
            "Int64Index: 5035158 entries, 0 to 5035157\n",
            "Data columns (total 10 columns):\n",
            " #   Column             Dtype  \n",
            "---  ------             -----  \n",
            " 0   codigo_entidad     int32  \n",
            " 1   fecha_informacion  int32  \n",
            " 2   cuit               object \n",
            " 3   credito            int32  \n",
            " 4   mujer              int64  \n",
            " 5   hombre             int64  \n",
            " 6   empresa            int64  \n",
            " 7   garantias          int64  \n",
            " 8   default            int64  \n",
            " 9   tipo_entidad       float64\n",
            "dtypes: float64(1), int32(3), int64(5), object(1)\n",
            "memory usage: 364.9+ MB\n"
          ]
        }
      ]
    },
    {
      "cell_type": "code",
      "metadata": {
        "id": "clVpaqE0Syzn",
        "colab": {
          "base_uri": "https://localhost:8080/",
          "height": 206
        },
        "outputId": "ae00433f-5781-4be8-a4f8-80de1a6e9e6c"
      },
      "source": [
        "df.sample(5)"
      ],
      "execution_count": null,
      "outputs": [
        {
          "output_type": "execute_result",
          "data": {
            "text/html": [
              "<div>\n",
              "<style scoped>\n",
              "    .dataframe tbody tr th:only-of-type {\n",
              "        vertical-align: middle;\n",
              "    }\n",
              "\n",
              "    .dataframe tbody tr th {\n",
              "        vertical-align: top;\n",
              "    }\n",
              "\n",
              "    .dataframe thead th {\n",
              "        text-align: right;\n",
              "    }\n",
              "</style>\n",
              "<table border=\"1\" class=\"dataframe\">\n",
              "  <thead>\n",
              "    <tr style=\"text-align: right;\">\n",
              "      <th></th>\n",
              "      <th>codigo_entidad</th>\n",
              "      <th>fecha_informacion</th>\n",
              "      <th>cuit</th>\n",
              "      <th>credito</th>\n",
              "      <th>mujer</th>\n",
              "      <th>hombre</th>\n",
              "      <th>empresa</th>\n",
              "      <th>garantias</th>\n",
              "      <th>default</th>\n",
              "      <th>tipo_entidad</th>\n",
              "    </tr>\n",
              "  </thead>\n",
              "  <tbody>\n",
              "    <tr>\n",
              "      <th>2529413</th>\n",
              "      <td>34</td>\n",
              "      <td>202108</td>\n",
              "      <td>27303242428</td>\n",
              "      <td>55</td>\n",
              "      <td>1</td>\n",
              "      <td>0</td>\n",
              "      <td>0</td>\n",
              "      <td>0</td>\n",
              "      <td>0</td>\n",
              "      <td>1.0</td>\n",
              "    </tr>\n",
              "    <tr>\n",
              "      <th>1318229</th>\n",
              "      <td>14</td>\n",
              "      <td>202108</td>\n",
              "      <td>27036989721</td>\n",
              "      <td>35</td>\n",
              "      <td>1</td>\n",
              "      <td>0</td>\n",
              "      <td>0</td>\n",
              "      <td>0</td>\n",
              "      <td>0</td>\n",
              "      <td>1.0</td>\n",
              "    </tr>\n",
              "    <tr>\n",
              "      <th>997430</th>\n",
              "      <td>11</td>\n",
              "      <td>202108</td>\n",
              "      <td>27126972569</td>\n",
              "      <td>85</td>\n",
              "      <td>1</td>\n",
              "      <td>0</td>\n",
              "      <td>0</td>\n",
              "      <td>0</td>\n",
              "      <td>0</td>\n",
              "      <td>1.0</td>\n",
              "    </tr>\n",
              "    <tr>\n",
              "      <th>4146432</th>\n",
              "      <td>386</td>\n",
              "      <td>202108</td>\n",
              "      <td>27056796210</td>\n",
              "      <td>17</td>\n",
              "      <td>1</td>\n",
              "      <td>0</td>\n",
              "      <td>0</td>\n",
              "      <td>0</td>\n",
              "      <td>1</td>\n",
              "      <td>1.0</td>\n",
              "    </tr>\n",
              "    <tr>\n",
              "      <th>738648</th>\n",
              "      <td>72113</td>\n",
              "      <td>202108</td>\n",
              "      <td>20170753942</td>\n",
              "      <td>22</td>\n",
              "      <td>0</td>\n",
              "      <td>1</td>\n",
              "      <td>0</td>\n",
              "      <td>0</td>\n",
              "      <td>0</td>\n",
              "      <td>5.0</td>\n",
              "    </tr>\n",
              "  </tbody>\n",
              "</table>\n",
              "</div>"
            ],
            "text/plain": [
              "         codigo_entidad  fecha_informacion  ... default  tipo_entidad\n",
              "2529413              34             202108  ...       0           1.0\n",
              "1318229              14             202108  ...       0           1.0\n",
              "997430               11             202108  ...       0           1.0\n",
              "4146432             386             202108  ...       1           1.0\n",
              "738648            72113             202108  ...       0           5.0\n",
              "\n",
              "[5 rows x 10 columns]"
            ]
          },
          "metadata": {},
          "execution_count": 29
        }
      ]
    },
    {
      "cell_type": "code",
      "metadata": {
        "id": "FEDgN400gQR7"
      },
      "source": [
        "#generamos informacion para anexar despues\n",
        "#mujer, hombre, emrpesa, garantias y cantidad de defaults\n",
        "df_info = df.groupby(['fecha_informacion','cuit']).garantias.max().to_frame().reset_index()\n",
        "df_info2 = df.groupby(['fecha_informacion','cuit','mujer','empresa','hombre']).default.sum().to_frame().reset_index()"
      ],
      "execution_count": null,
      "outputs": []
    },
    {
      "cell_type": "code",
      "metadata": {
        "id": "mS4OcxZtWTm2"
      },
      "source": [
        "#agrupamos DF por tipo de entidad de cada cliente\n",
        "df = df.groupby(['fecha_informacion','cuit','mujer','hombre','empresa','default','tipo_entidad']).credito.sum().reset_index()"
      ],
      "execution_count": null,
      "outputs": []
    },
    {
      "cell_type": "code",
      "metadata": {
        "colab": {
          "base_uri": "https://localhost:8080/",
          "height": 206
        },
        "id": "V_ubKV9uS3ji",
        "outputId": "b31b3a12-1fe6-443c-e24c-e7b2c2a8634f"
      },
      "source": [
        "df.head()"
      ],
      "execution_count": null,
      "outputs": [
        {
          "output_type": "execute_result",
          "data": {
            "text/html": [
              "<div>\n",
              "<style scoped>\n",
              "    .dataframe tbody tr th:only-of-type {\n",
              "        vertical-align: middle;\n",
              "    }\n",
              "\n",
              "    .dataframe tbody tr th {\n",
              "        vertical-align: top;\n",
              "    }\n",
              "\n",
              "    .dataframe thead th {\n",
              "        text-align: right;\n",
              "    }\n",
              "</style>\n",
              "<table border=\"1\" class=\"dataframe\">\n",
              "  <thead>\n",
              "    <tr style=\"text-align: right;\">\n",
              "      <th></th>\n",
              "      <th>fecha_informacion</th>\n",
              "      <th>cuit</th>\n",
              "      <th>mujer</th>\n",
              "      <th>hombre</th>\n",
              "      <th>empresa</th>\n",
              "      <th>default</th>\n",
              "      <th>tipo_entidad</th>\n",
              "      <th>credito</th>\n",
              "    </tr>\n",
              "  </thead>\n",
              "  <tbody>\n",
              "    <tr>\n",
              "      <th>0</th>\n",
              "      <td>202108</td>\n",
              "      <td>20000143368</td>\n",
              "      <td>0</td>\n",
              "      <td>1</td>\n",
              "      <td>0</td>\n",
              "      <td>0</td>\n",
              "      <td>1.0</td>\n",
              "      <td>11</td>\n",
              "    </tr>\n",
              "    <tr>\n",
              "      <th>1</th>\n",
              "      <td>202108</td>\n",
              "      <td>20000147541</td>\n",
              "      <td>0</td>\n",
              "      <td>1</td>\n",
              "      <td>0</td>\n",
              "      <td>1</td>\n",
              "      <td>2.0</td>\n",
              "      <td>9</td>\n",
              "    </tr>\n",
              "    <tr>\n",
              "      <th>2</th>\n",
              "      <td>202108</td>\n",
              "      <td>20001509803</td>\n",
              "      <td>0</td>\n",
              "      <td>1</td>\n",
              "      <td>0</td>\n",
              "      <td>1</td>\n",
              "      <td>1.0</td>\n",
              "      <td>6</td>\n",
              "    </tr>\n",
              "    <tr>\n",
              "      <th>3</th>\n",
              "      <td>202108</td>\n",
              "      <td>20002173353</td>\n",
              "      <td>0</td>\n",
              "      <td>1</td>\n",
              "      <td>0</td>\n",
              "      <td>1</td>\n",
              "      <td>1.0</td>\n",
              "      <td>8</td>\n",
              "    </tr>\n",
              "    <tr>\n",
              "      <th>4</th>\n",
              "      <td>202108</td>\n",
              "      <td>20002404444</td>\n",
              "      <td>0</td>\n",
              "      <td>1</td>\n",
              "      <td>0</td>\n",
              "      <td>0</td>\n",
              "      <td>3.0</td>\n",
              "      <td>75</td>\n",
              "    </tr>\n",
              "  </tbody>\n",
              "</table>\n",
              "</div>"
            ],
            "text/plain": [
              "   fecha_informacion         cuit  mujer  ...  default  tipo_entidad  credito\n",
              "0             202108  20000143368      0  ...        0           1.0       11\n",
              "1             202108  20000147541      0  ...        1           2.0        9\n",
              "2             202108  20001509803      0  ...        1           1.0        6\n",
              "3             202108  20002173353      0  ...        1           1.0        8\n",
              "4             202108  20002404444      0  ...        0           3.0       75\n",
              "\n",
              "[5 rows x 8 columns]"
            ]
          },
          "metadata": {},
          "execution_count": 32
        }
      ]
    },
    {
      "cell_type": "code",
      "metadata": {
        "id": "HjiZzNxpqztH"
      },
      "source": [
        "# agregamos una marca simple de default \n",
        "df['ok'] = np.where(df['default'] >= 1 , 0,1)"
      ],
      "execution_count": null,
      "outputs": []
    },
    {
      "cell_type": "code",
      "metadata": {
        "colab": {
          "base_uri": "https://localhost:8080/",
          "height": 206
        },
        "id": "J6zwn99prlHM",
        "outputId": "f1cb010a-b86f-4210-c730-85720dd741a0"
      },
      "source": [
        "df.head()"
      ],
      "execution_count": null,
      "outputs": [
        {
          "output_type": "execute_result",
          "data": {
            "text/html": [
              "<div>\n",
              "<style scoped>\n",
              "    .dataframe tbody tr th:only-of-type {\n",
              "        vertical-align: middle;\n",
              "    }\n",
              "\n",
              "    .dataframe tbody tr th {\n",
              "        vertical-align: top;\n",
              "    }\n",
              "\n",
              "    .dataframe thead th {\n",
              "        text-align: right;\n",
              "    }\n",
              "</style>\n",
              "<table border=\"1\" class=\"dataframe\">\n",
              "  <thead>\n",
              "    <tr style=\"text-align: right;\">\n",
              "      <th></th>\n",
              "      <th>fecha_informacion</th>\n",
              "      <th>cuit</th>\n",
              "      <th>mujer</th>\n",
              "      <th>hombre</th>\n",
              "      <th>empresa</th>\n",
              "      <th>default</th>\n",
              "      <th>tipo_entidad</th>\n",
              "      <th>credito</th>\n",
              "      <th>ok</th>\n",
              "    </tr>\n",
              "  </thead>\n",
              "  <tbody>\n",
              "    <tr>\n",
              "      <th>0</th>\n",
              "      <td>202108</td>\n",
              "      <td>20000143368</td>\n",
              "      <td>0</td>\n",
              "      <td>1</td>\n",
              "      <td>0</td>\n",
              "      <td>0</td>\n",
              "      <td>1.0</td>\n",
              "      <td>11</td>\n",
              "      <td>1</td>\n",
              "    </tr>\n",
              "    <tr>\n",
              "      <th>1</th>\n",
              "      <td>202108</td>\n",
              "      <td>20000147541</td>\n",
              "      <td>0</td>\n",
              "      <td>1</td>\n",
              "      <td>0</td>\n",
              "      <td>1</td>\n",
              "      <td>2.0</td>\n",
              "      <td>9</td>\n",
              "      <td>0</td>\n",
              "    </tr>\n",
              "    <tr>\n",
              "      <th>2</th>\n",
              "      <td>202108</td>\n",
              "      <td>20001509803</td>\n",
              "      <td>0</td>\n",
              "      <td>1</td>\n",
              "      <td>0</td>\n",
              "      <td>1</td>\n",
              "      <td>1.0</td>\n",
              "      <td>6</td>\n",
              "      <td>0</td>\n",
              "    </tr>\n",
              "    <tr>\n",
              "      <th>3</th>\n",
              "      <td>202108</td>\n",
              "      <td>20002173353</td>\n",
              "      <td>0</td>\n",
              "      <td>1</td>\n",
              "      <td>0</td>\n",
              "      <td>1</td>\n",
              "      <td>1.0</td>\n",
              "      <td>8</td>\n",
              "      <td>0</td>\n",
              "    </tr>\n",
              "    <tr>\n",
              "      <th>4</th>\n",
              "      <td>202108</td>\n",
              "      <td>20002404444</td>\n",
              "      <td>0</td>\n",
              "      <td>1</td>\n",
              "      <td>0</td>\n",
              "      <td>0</td>\n",
              "      <td>3.0</td>\n",
              "      <td>75</td>\n",
              "      <td>1</td>\n",
              "    </tr>\n",
              "  </tbody>\n",
              "</table>\n",
              "</div>"
            ],
            "text/plain": [
              "   fecha_informacion         cuit  mujer  ...  tipo_entidad  credito  ok\n",
              "0             202108  20000143368      0  ...           1.0       11   1\n",
              "1             202108  20000147541      0  ...           2.0        9   0\n",
              "2             202108  20001509803      0  ...           1.0        6   0\n",
              "3             202108  20002173353      0  ...           1.0        8   0\n",
              "4             202108  20002404444      0  ...           3.0       75   1\n",
              "\n",
              "[5 rows x 9 columns]"
            ]
          },
          "metadata": {},
          "execution_count": 34
        }
      ]
    },
    {
      "cell_type": "code",
      "metadata": {
        "id": "nD-i6sawrpcG"
      },
      "source": [
        "df = df.pivot_table(values = ['credito'], index=['fecha_informacion', 'cuit'],\n",
        "                    columns=['ok','tipo_entidad'], aggfunc=np.sum, fill_value=0).reset_index().set_axis(['fecha_informacion', 'cuit', 'E1_D', 'E2_D', 'E3_D','E4_D','E5_D','E6_D','E1_Ok', 'E2_Ok', 'E3_Ok','E4_Ok','E5_Ok','E6_Ok'], axis=1)"
      ],
      "execution_count": null,
      "outputs": []
    },
    {
      "cell_type": "code",
      "metadata": {
        "colab": {
          "base_uri": "https://localhost:8080/",
          "height": 50
        },
        "id": "0F7XK6rfsTnI",
        "outputId": "5f378ef5-41b5-42ea-e28d-82452a9ff441"
      },
      "source": [
        "df[df['cuit']== '20000297713']"
      ],
      "execution_count": null,
      "outputs": [
        {
          "output_type": "execute_result",
          "data": {
            "text/html": [
              "<div>\n",
              "<style scoped>\n",
              "    .dataframe tbody tr th:only-of-type {\n",
              "        vertical-align: middle;\n",
              "    }\n",
              "\n",
              "    .dataframe tbody tr th {\n",
              "        vertical-align: top;\n",
              "    }\n",
              "\n",
              "    .dataframe thead th {\n",
              "        text-align: right;\n",
              "    }\n",
              "</style>\n",
              "<table border=\"1\" class=\"dataframe\">\n",
              "  <thead>\n",
              "    <tr style=\"text-align: right;\">\n",
              "      <th></th>\n",
              "      <th>fecha_informacion</th>\n",
              "      <th>cuit</th>\n",
              "      <th>E1_D</th>\n",
              "      <th>E2_D</th>\n",
              "      <th>E3_D</th>\n",
              "      <th>E4_D</th>\n",
              "      <th>E5_D</th>\n",
              "      <th>E6_D</th>\n",
              "      <th>E1_Ok</th>\n",
              "      <th>E2_Ok</th>\n",
              "      <th>E3_Ok</th>\n",
              "      <th>E4_Ok</th>\n",
              "      <th>E5_Ok</th>\n",
              "      <th>E6_Ok</th>\n",
              "    </tr>\n",
              "  </thead>\n",
              "  <tbody>\n",
              "  </tbody>\n",
              "</table>\n",
              "</div>"
            ],
            "text/plain": [
              "Empty DataFrame\n",
              "Columns: [fecha_informacion, cuit, E1_D, E2_D, E3_D, E4_D, E5_D, E6_D, E1_Ok, E2_Ok, E3_Ok, E4_Ok, E5_Ok, E6_Ok]\n",
              "Index: []"
            ]
          },
          "metadata": {},
          "execution_count": 36
        }
      ]
    },
    {
      "cell_type": "code",
      "metadata": {
        "id": "1iiToFpirq6c",
        "colab": {
          "base_uri": "https://localhost:8080/",
          "height": 206
        },
        "outputId": "28dab2b1-b8ae-4732-a12d-f32e3be80d74"
      },
      "source": [
        "df.head()"
      ],
      "execution_count": null,
      "outputs": [
        {
          "output_type": "execute_result",
          "data": {
            "text/html": [
              "<div>\n",
              "<style scoped>\n",
              "    .dataframe tbody tr th:only-of-type {\n",
              "        vertical-align: middle;\n",
              "    }\n",
              "\n",
              "    .dataframe tbody tr th {\n",
              "        vertical-align: top;\n",
              "    }\n",
              "\n",
              "    .dataframe thead th {\n",
              "        text-align: right;\n",
              "    }\n",
              "</style>\n",
              "<table border=\"1\" class=\"dataframe\">\n",
              "  <thead>\n",
              "    <tr style=\"text-align: right;\">\n",
              "      <th></th>\n",
              "      <th>fecha_informacion</th>\n",
              "      <th>cuit</th>\n",
              "      <th>E1_D</th>\n",
              "      <th>E2_D</th>\n",
              "      <th>E3_D</th>\n",
              "      <th>E4_D</th>\n",
              "      <th>E5_D</th>\n",
              "      <th>E6_D</th>\n",
              "      <th>E1_Ok</th>\n",
              "      <th>E2_Ok</th>\n",
              "      <th>E3_Ok</th>\n",
              "      <th>E4_Ok</th>\n",
              "      <th>E5_Ok</th>\n",
              "      <th>E6_Ok</th>\n",
              "    </tr>\n",
              "  </thead>\n",
              "  <tbody>\n",
              "    <tr>\n",
              "      <th>0</th>\n",
              "      <td>202108</td>\n",
              "      <td>20000143368</td>\n",
              "      <td>0</td>\n",
              "      <td>0</td>\n",
              "      <td>0</td>\n",
              "      <td>0</td>\n",
              "      <td>0</td>\n",
              "      <td>0</td>\n",
              "      <td>11</td>\n",
              "      <td>0</td>\n",
              "      <td>0</td>\n",
              "      <td>0</td>\n",
              "      <td>0</td>\n",
              "      <td>0</td>\n",
              "    </tr>\n",
              "    <tr>\n",
              "      <th>1</th>\n",
              "      <td>202108</td>\n",
              "      <td>20000147541</td>\n",
              "      <td>0</td>\n",
              "      <td>9</td>\n",
              "      <td>0</td>\n",
              "      <td>0</td>\n",
              "      <td>0</td>\n",
              "      <td>0</td>\n",
              "      <td>0</td>\n",
              "      <td>0</td>\n",
              "      <td>0</td>\n",
              "      <td>0</td>\n",
              "      <td>0</td>\n",
              "      <td>0</td>\n",
              "    </tr>\n",
              "    <tr>\n",
              "      <th>2</th>\n",
              "      <td>202108</td>\n",
              "      <td>20001509803</td>\n",
              "      <td>6</td>\n",
              "      <td>0</td>\n",
              "      <td>0</td>\n",
              "      <td>0</td>\n",
              "      <td>0</td>\n",
              "      <td>0</td>\n",
              "      <td>0</td>\n",
              "      <td>0</td>\n",
              "      <td>0</td>\n",
              "      <td>0</td>\n",
              "      <td>0</td>\n",
              "      <td>0</td>\n",
              "    </tr>\n",
              "    <tr>\n",
              "      <th>3</th>\n",
              "      <td>202108</td>\n",
              "      <td>20002173353</td>\n",
              "      <td>8</td>\n",
              "      <td>0</td>\n",
              "      <td>0</td>\n",
              "      <td>0</td>\n",
              "      <td>0</td>\n",
              "      <td>0</td>\n",
              "      <td>0</td>\n",
              "      <td>0</td>\n",
              "      <td>0</td>\n",
              "      <td>0</td>\n",
              "      <td>0</td>\n",
              "      <td>0</td>\n",
              "    </tr>\n",
              "    <tr>\n",
              "      <th>4</th>\n",
              "      <td>202108</td>\n",
              "      <td>20002404444</td>\n",
              "      <td>0</td>\n",
              "      <td>0</td>\n",
              "      <td>0</td>\n",
              "      <td>0</td>\n",
              "      <td>0</td>\n",
              "      <td>0</td>\n",
              "      <td>0</td>\n",
              "      <td>0</td>\n",
              "      <td>75</td>\n",
              "      <td>0</td>\n",
              "      <td>0</td>\n",
              "      <td>0</td>\n",
              "    </tr>\n",
              "  </tbody>\n",
              "</table>\n",
              "</div>"
            ],
            "text/plain": [
              "   fecha_informacion         cuit  E1_D  E2_D  ...  E3_Ok  E4_Ok  E5_Ok  E6_Ok\n",
              "0             202108  20000143368     0     0  ...      0      0      0      0\n",
              "1             202108  20000147541     0     9  ...      0      0      0      0\n",
              "2             202108  20001509803     6     0  ...      0      0      0      0\n",
              "3             202108  20002173353     8     0  ...      0      0      0      0\n",
              "4             202108  20002404444     0     0  ...     75      0      0      0\n",
              "\n",
              "[5 rows x 14 columns]"
            ]
          },
          "metadata": {},
          "execution_count": 37
        }
      ]
    },
    {
      "cell_type": "code",
      "metadata": {
        "id": "d674ebHBwmPo",
        "colab": {
          "base_uri": "https://localhost:8080/"
        },
        "outputId": "67b1a385-9ba9-4781-a2b5-8ccba1945e34"
      },
      "source": [
        " #Agregamos info del tipo y cliente y cantidad de empresas con default\n",
        "df = df.merge(df_info,how='inner',left_on = ['cuit','fecha_informacion'],right_on = ['cuit','fecha_informacion'])\n",
        "df = df.merge(df_info2,how='inner',left_on = ['cuit','fecha_informacion'],right_on = ['cuit','fecha_informacion'])\n",
        "df.info()\n"
      ],
      "execution_count": null,
      "outputs": [
        {
          "output_type": "stream",
          "name": "stdout",
          "text": [
            "<class 'pandas.core.frame.DataFrame'>\n",
            "Int64Index: 3000000 entries, 0 to 2999999\n",
            "Data columns (total 19 columns):\n",
            " #   Column             Dtype \n",
            "---  ------             ----- \n",
            " 0   fecha_informacion  int64 \n",
            " 1   cuit               object\n",
            " 2   E1_D               int64 \n",
            " 3   E2_D               int64 \n",
            " 4   E3_D               int64 \n",
            " 5   E4_D               int64 \n",
            " 6   E5_D               int64 \n",
            " 7   E6_D               int64 \n",
            " 8   E1_Ok              int64 \n",
            " 9   E2_Ok              int64 \n",
            " 10  E3_Ok              int64 \n",
            " 11  E4_Ok              int64 \n",
            " 12  E5_Ok              int64 \n",
            " 13  E6_Ok              int64 \n",
            " 14  garantias          int64 \n",
            " 15  mujer              int64 \n",
            " 16  empresa            int64 \n",
            " 17  hombre             int64 \n",
            " 18  default            int64 \n",
            "dtypes: int64(18), object(1)\n",
            "memory usage: 457.8+ MB\n"
          ]
        }
      ]
    },
    {
      "cell_type": "code",
      "metadata": {
        "id": "SBVQDXqszfrL",
        "colab": {
          "base_uri": "https://localhost:8080/",
          "height": 226
        },
        "outputId": "b02e506b-8d16-4396-9966-dfb2681dfeaa"
      },
      "source": [
        "#generamos columnas con informacion extra\n",
        "df['deuda_total'] = df['E1_Ok'] + df['E2_Ok'] +df['E3_Ok'] +df['E4_Ok'] +df['E5_Ok'] +df['E6_Ok'] + df['E1_D'] + df['E2_D'] +df['E3_D'] +df['E4_D'] +df['E5_D'] +df['E6_D']\n",
        "df['deuda_default'] = np.where(df['default'] == 0, 0, df['deuda_total'])\n",
        "df['deuda_ok'] = np.where(df['default'] == 0, df['deuda_total'],0 )\n",
        "\n",
        "df.head()"
      ],
      "execution_count": null,
      "outputs": [
        {
          "output_type": "execute_result",
          "data": {
            "text/html": [
              "<div>\n",
              "<style scoped>\n",
              "    .dataframe tbody tr th:only-of-type {\n",
              "        vertical-align: middle;\n",
              "    }\n",
              "\n",
              "    .dataframe tbody tr th {\n",
              "        vertical-align: top;\n",
              "    }\n",
              "\n",
              "    .dataframe thead th {\n",
              "        text-align: right;\n",
              "    }\n",
              "</style>\n",
              "<table border=\"1\" class=\"dataframe\">\n",
              "  <thead>\n",
              "    <tr style=\"text-align: right;\">\n",
              "      <th></th>\n",
              "      <th>fecha_informacion</th>\n",
              "      <th>cuit</th>\n",
              "      <th>E1_D</th>\n",
              "      <th>E2_D</th>\n",
              "      <th>E3_D</th>\n",
              "      <th>E4_D</th>\n",
              "      <th>E5_D</th>\n",
              "      <th>E6_D</th>\n",
              "      <th>E1_Ok</th>\n",
              "      <th>E2_Ok</th>\n",
              "      <th>E3_Ok</th>\n",
              "      <th>E4_Ok</th>\n",
              "      <th>E5_Ok</th>\n",
              "      <th>E6_Ok</th>\n",
              "      <th>garantias</th>\n",
              "      <th>mujer</th>\n",
              "      <th>empresa</th>\n",
              "      <th>hombre</th>\n",
              "      <th>default</th>\n",
              "      <th>deuda_total</th>\n",
              "      <th>deuda_default</th>\n",
              "      <th>deuda_ok</th>\n",
              "    </tr>\n",
              "  </thead>\n",
              "  <tbody>\n",
              "    <tr>\n",
              "      <th>0</th>\n",
              "      <td>202108</td>\n",
              "      <td>20000143368</td>\n",
              "      <td>0</td>\n",
              "      <td>0</td>\n",
              "      <td>0</td>\n",
              "      <td>0</td>\n",
              "      <td>0</td>\n",
              "      <td>0</td>\n",
              "      <td>11</td>\n",
              "      <td>0</td>\n",
              "      <td>0</td>\n",
              "      <td>0</td>\n",
              "      <td>0</td>\n",
              "      <td>0</td>\n",
              "      <td>0</td>\n",
              "      <td>0</td>\n",
              "      <td>0</td>\n",
              "      <td>1</td>\n",
              "      <td>0</td>\n",
              "      <td>11</td>\n",
              "      <td>0</td>\n",
              "      <td>11</td>\n",
              "    </tr>\n",
              "    <tr>\n",
              "      <th>1</th>\n",
              "      <td>202108</td>\n",
              "      <td>20000147541</td>\n",
              "      <td>0</td>\n",
              "      <td>9</td>\n",
              "      <td>0</td>\n",
              "      <td>0</td>\n",
              "      <td>0</td>\n",
              "      <td>0</td>\n",
              "      <td>0</td>\n",
              "      <td>0</td>\n",
              "      <td>0</td>\n",
              "      <td>0</td>\n",
              "      <td>0</td>\n",
              "      <td>0</td>\n",
              "      <td>0</td>\n",
              "      <td>0</td>\n",
              "      <td>0</td>\n",
              "      <td>1</td>\n",
              "      <td>1</td>\n",
              "      <td>9</td>\n",
              "      <td>9</td>\n",
              "      <td>0</td>\n",
              "    </tr>\n",
              "    <tr>\n",
              "      <th>2</th>\n",
              "      <td>202108</td>\n",
              "      <td>20001509803</td>\n",
              "      <td>6</td>\n",
              "      <td>0</td>\n",
              "      <td>0</td>\n",
              "      <td>0</td>\n",
              "      <td>0</td>\n",
              "      <td>0</td>\n",
              "      <td>0</td>\n",
              "      <td>0</td>\n",
              "      <td>0</td>\n",
              "      <td>0</td>\n",
              "      <td>0</td>\n",
              "      <td>0</td>\n",
              "      <td>0</td>\n",
              "      <td>0</td>\n",
              "      <td>0</td>\n",
              "      <td>1</td>\n",
              "      <td>1</td>\n",
              "      <td>6</td>\n",
              "      <td>6</td>\n",
              "      <td>0</td>\n",
              "    </tr>\n",
              "    <tr>\n",
              "      <th>3</th>\n",
              "      <td>202108</td>\n",
              "      <td>20002173353</td>\n",
              "      <td>8</td>\n",
              "      <td>0</td>\n",
              "      <td>0</td>\n",
              "      <td>0</td>\n",
              "      <td>0</td>\n",
              "      <td>0</td>\n",
              "      <td>0</td>\n",
              "      <td>0</td>\n",
              "      <td>0</td>\n",
              "      <td>0</td>\n",
              "      <td>0</td>\n",
              "      <td>0</td>\n",
              "      <td>0</td>\n",
              "      <td>0</td>\n",
              "      <td>0</td>\n",
              "      <td>1</td>\n",
              "      <td>1</td>\n",
              "      <td>8</td>\n",
              "      <td>8</td>\n",
              "      <td>0</td>\n",
              "    </tr>\n",
              "    <tr>\n",
              "      <th>4</th>\n",
              "      <td>202108</td>\n",
              "      <td>20002404444</td>\n",
              "      <td>0</td>\n",
              "      <td>0</td>\n",
              "      <td>0</td>\n",
              "      <td>0</td>\n",
              "      <td>0</td>\n",
              "      <td>0</td>\n",
              "      <td>0</td>\n",
              "      <td>0</td>\n",
              "      <td>75</td>\n",
              "      <td>0</td>\n",
              "      <td>0</td>\n",
              "      <td>0</td>\n",
              "      <td>0</td>\n",
              "      <td>0</td>\n",
              "      <td>0</td>\n",
              "      <td>1</td>\n",
              "      <td>0</td>\n",
              "      <td>75</td>\n",
              "      <td>0</td>\n",
              "      <td>75</td>\n",
              "    </tr>\n",
              "  </tbody>\n",
              "</table>\n",
              "</div>"
            ],
            "text/plain": [
              "   fecha_informacion         cuit  E1_D  ...  deuda_total  deuda_default  deuda_ok\n",
              "0             202108  20000143368     0  ...           11              0        11\n",
              "1             202108  20000147541     0  ...            9              9         0\n",
              "2             202108  20001509803     6  ...            6              6         0\n",
              "3             202108  20002173353     8  ...            8              8         0\n",
              "4             202108  20002404444     0  ...           75              0        75\n",
              "\n",
              "[5 rows x 22 columns]"
            ]
          },
          "metadata": {},
          "execution_count": 39
        }
      ]
    },
    {
      "cell_type": "code",
      "metadata": {
        "id": "MfBfYIxHykcI",
        "colab": {
          "base_uri": "https://localhost:8080/"
        },
        "outputId": "1a4d3239-c71e-428e-caf0-e045bc6f9f96"
      },
      "source": [
        "print(f'Deuda original {deuda_original} , Deuda_archivo procesado {df[\"deuda_total\"].sum()} ')"
      ],
      "execution_count": null,
      "outputs": [
        {
          "output_type": "stream",
          "name": "stdout",
          "text": [
            "Deuda original 959591401 , Deuda_archivo procesado 959591401 \n"
          ]
        }
      ]
    },
    {
      "cell_type": "code",
      "metadata": {
        "id": "7MiFo5yxpPtQ",
        "colab": {
          "base_uri": "https://localhost:8080/"
        },
        "outputId": "6f3b550d-e333-4df3-af8b-63dabfc32161"
      },
      "source": [
        "#Detección de las variables con datos faltantes\n",
        "missing_values_count = df.isna().sum()\n",
        "missing_values_count "
      ],
      "execution_count": null,
      "outputs": [
        {
          "output_type": "execute_result",
          "data": {
            "text/plain": [
              "fecha_informacion    0\n",
              "cuit                 0\n",
              "E1_D                 0\n",
              "E2_D                 0\n",
              "E3_D                 0\n",
              "E4_D                 0\n",
              "E5_D                 0\n",
              "E6_D                 0\n",
              "E1_Ok                0\n",
              "E2_Ok                0\n",
              "E3_Ok                0\n",
              "E4_Ok                0\n",
              "E5_Ok                0\n",
              "E6_Ok                0\n",
              "garantias            0\n",
              "mujer                0\n",
              "empresa              0\n",
              "hombre               0\n",
              "default              0\n",
              "deuda_total          0\n",
              "deuda_default        0\n",
              "deuda_ok             0\n",
              "dtype: int64"
            ]
          },
          "metadata": {},
          "execution_count": 41
        }
      ]
    },
    {
      "cell_type": "code",
      "metadata": {
        "id": "L94gJxQn3Bzj"
      },
      "source": [
        "# Correr esto para generar y bajar el archivo\n",
        "from google.colab import files\n",
        "df.to_csv('bcra_procesado.csv',index=False)\n"
      ],
      "execution_count": null,
      "outputs": []
    },
    {
      "cell_type": "code",
      "metadata": {
        "id": "uKq_kvmxi0z9"
      },
      "source": [
        "#esto para descargar\n",
        "#files.download(\"test.csv\")"
      ],
      "execution_count": null,
      "outputs": []
    },
    {
      "cell_type": "code",
      "metadata": {
        "id": "LTZRD08t69DP"
      },
      "source": [
        "#descargar directamente a drive. MUCHO MAS RAPIDO\n",
        "!cp bcra_procesado.csv \"/content/drive/My Drive/\""
      ],
      "execution_count": null,
      "outputs": []
    }
  ]
}